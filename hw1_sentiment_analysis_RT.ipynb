{
 "cells": [
  {
   "cell_type": "markdown",
   "id": "6a91f4c2",
   "metadata": {},
   "source": [
    "# 0. Introduction\n",
    "\n",
    "*Author*: Pablo Fernández"
   ]
  },
  {
   "cell_type": "markdown",
   "id": "7a315579",
   "metadata": {},
   "source": [
    "## 0.1. Libraries"
   ]
  },
  {
   "cell_type": "code",
   "execution_count": 101,
   "id": "9b1ae37d",
   "metadata": {},
   "outputs": [],
   "source": [
    "# !pip install pandarallel\n",
    "# !pip install ipywidgets"
   ]
  },
  {
   "cell_type": "code",
   "execution_count": 102,
   "id": "efca8584",
   "metadata": {},
   "outputs": [],
   "source": [
    "import pandas as pd\n",
    "import re  # For regex expressions\n",
    "import collections  # For counting\n",
    "import numpy as np\n",
    "from nltk.corpus import stopwords  # Stopwords list\n",
    "import matplotlib.pyplot as plt\n",
    "from sklearn.feature_extraction.text import TfidfVectorizer\n",
    "from hw1_library import metrics, preprocessing, regex_classifiers\n",
    "from sklearn.linear_model import LogisticRegression\n",
    "from sklearn.pipeline import Pipeline\n",
    "from pandarallel import pandarallel\n",
    "from sklearn.model_selection import RandomizedSearchCV\n",
    "from scipy.stats import uniform\n",
    "import pickle\n",
    "import os"
   ]
  },
  {
   "cell_type": "markdown",
   "id": "bde522d8",
   "metadata": {},
   "source": [
    "## 0.2. Data\n",
    "\n",
    "**Dataset**: https://huggingface.co/datasets/rotten_tomatoes"
   ]
  },
  {
   "cell_type": "markdown",
   "id": "ba497b50",
   "metadata": {},
   "source": [
    "### Data loading"
   ]
  },
  {
   "cell_type": "code",
   "execution_count": 103,
   "id": "0950ab4c",
   "metadata": {},
   "outputs": [],
   "source": [
    "splits = {'train': 'train.parquet', 'validation': 'validation.parquet', 'test': 'test.parquet'}\n",
    "\n",
    "df_train = pd.read_parquet(\"hf://datasets/cornell-movie-review-data/rotten_tomatoes/\" + splits[\"train\"])\n",
    "\n",
    "df_val = pd.read_parquet(\"hf://datasets/cornell-movie-review-data/rotten_tomatoes/\" + splits[\"validation\"])\n",
    "\n",
    "df_test = pd.read_parquet(\"hf://datasets/cornell-movie-review-data/rotten_tomatoes/\" + splits[\"test\"])\n",
    "\n",
    "df_dict = {\n",
    "    \"train\": df_train,\n",
    "    \"validation\": df_val,\n",
    "    \"test\": df_test\n",
    "}"
   ]
  },
  {
   "cell_type": "markdown",
   "id": "1ff81f5c",
   "metadata": {},
   "source": [
    "### Basic EDA"
   ]
  },
  {
   "cell_type": "code",
   "execution_count": 104,
   "id": "07873b6e",
   "metadata": {},
   "outputs": [
    {
     "data": {
      "text/html": [
       "<div>\n",
       "<style scoped>\n",
       "    .dataframe tbody tr th:only-of-type {\n",
       "        vertical-align: middle;\n",
       "    }\n",
       "\n",
       "    .dataframe tbody tr th {\n",
       "        vertical-align: top;\n",
       "    }\n",
       "\n",
       "    .dataframe thead th {\n",
       "        text-align: right;\n",
       "    }\n",
       "</style>\n",
       "<table border=\"1\" class=\"dataframe\">\n",
       "  <thead>\n",
       "    <tr style=\"text-align: right;\">\n",
       "      <th></th>\n",
       "      <th>text</th>\n",
       "      <th>label</th>\n",
       "    </tr>\n",
       "  </thead>\n",
       "  <tbody>\n",
       "    <tr>\n",
       "      <th>0</th>\n",
       "      <td>the rock is destined to be the 21st century's ...</td>\n",
       "      <td>1</td>\n",
       "    </tr>\n",
       "    <tr>\n",
       "      <th>1</th>\n",
       "      <td>the gorgeously elaborate continuation of \" the...</td>\n",
       "      <td>1</td>\n",
       "    </tr>\n",
       "    <tr>\n",
       "      <th>2</th>\n",
       "      <td>effective but too-tepid biopic</td>\n",
       "      <td>1</td>\n",
       "    </tr>\n",
       "    <tr>\n",
       "      <th>3</th>\n",
       "      <td>if you sometimes like to go to the movies to h...</td>\n",
       "      <td>1</td>\n",
       "    </tr>\n",
       "    <tr>\n",
       "      <th>4</th>\n",
       "      <td>emerges as something rare , an issue movie tha...</td>\n",
       "      <td>1</td>\n",
       "    </tr>\n",
       "  </tbody>\n",
       "</table>\n",
       "</div>"
      ],
      "text/plain": [
       "                                                text  label\n",
       "0  the rock is destined to be the 21st century's ...      1\n",
       "1  the gorgeously elaborate continuation of \" the...      1\n",
       "2                     effective but too-tepid biopic      1\n",
       "3  if you sometimes like to go to the movies to h...      1\n",
       "4  emerges as something rare , an issue movie tha...      1"
      ]
     },
     "execution_count": 104,
     "metadata": {},
     "output_type": "execute_result"
    }
   ],
   "source": [
    "df_train.head()"
   ]
  },
  {
   "cell_type": "markdown",
   "id": "d3a6bf12",
   "metadata": {},
   "source": [
    "Features (taken from the dataset's website):\n",
    "- `text`: a string feature.\n",
    "- `label`: a classification label, with possible values including *neg* (0, which stands for negative reviews), *pos* (1, which stands for positive reviews)."
   ]
  },
  {
   "cell_type": "code",
   "execution_count": 105,
   "id": "e9032558",
   "metadata": {},
   "outputs": [
    {
     "name": "stdout",
     "output_type": "stream",
     "text": [
      "Number of rows in each split:\n",
      "train: 8530\n",
      "validation: 1066\n",
      "test: 1066\n"
     ]
    }
   ],
   "source": [
    "# Print the number of rows in each split\n",
    "print(\"Number of rows in each split:\")\n",
    "for split, df in df_dict.items():\n",
    "    print(f\"{split}: {len(df)}\")"
   ]
  },
  {
   "cell_type": "markdown",
   "id": "945f79ac",
   "metadata": {},
   "source": [
    "Below, we check how balanced is the data: what is the ratio of positive and negative reviews in each split?"
   ]
  },
  {
   "cell_type": "code",
   "execution_count": 106,
   "id": "5fe5636b",
   "metadata": {},
   "outputs": [
    {
     "name": "stdout",
     "output_type": "stream",
     "text": [
      "Proportion of positive and negative reviews in each split:\n",
      "train: Positive: 0.50, Negative: 0.50\n",
      "validation: Positive: 0.50, Negative: 0.50\n",
      "test: Positive: 0.50, Negative: 0.50\n"
     ]
    }
   ],
   "source": [
    "# Print the proportion of positive and negative reviews in each split\n",
    "print(\"Proportion of positive and negative reviews in each split:\")\n",
    "for split, df in df_dict.items():\n",
    "    pos_count = len(df[df['label'] == 1])\n",
    "    neg_count = len(df[df['label'] == 0])\n",
    "    total_count = len(df)\n",
    "    pos_proportion = pos_count / total_count\n",
    "    neg_proportion = neg_count / total_count\n",
    "    print(f\"{split}: Positive: {pos_proportion:.2f}, Negative: {neg_proportion:.2f}\")"
   ]
  },
  {
   "cell_type": "markdown",
   "id": "42082e8c",
   "metadata": {},
   "source": [
    "As can be seen above, the data is highly balanced in all of the splits.\n",
    "\n",
    "Finally, how long are, on average, the reviews in each split?"
   ]
  },
  {
   "cell_type": "code",
   "execution_count": 107,
   "id": "bd58fbf4",
   "metadata": {},
   "outputs": [
    {
     "name": "stdout",
     "output_type": "stream",
     "text": [
      "\n",
      "Summary statistics for train split:\n",
      "--------------------------------------------------------------------------------\n",
      "             label  text_length  unique_word_count\n",
      "count  8530.000000  8530.000000        8530.000000\n",
      "mean      0.500000    20.992849          18.837515\n",
      "std       0.500029     9.371094           7.822833\n",
      "min       0.000000     1.000000           1.000000\n",
      "25%       0.000000    14.000000          13.000000\n",
      "50%       0.500000    20.000000          19.000000\n",
      "75%       1.000000    27.000000          24.000000\n",
      "max       1.000000    59.000000          45.000000\n",
      "\n",
      "Summary statistics for validation split:\n",
      "--------------------------------------------------------------------------------\n",
      "             label  text_length  unique_word_count\n",
      "count  1066.000000  1066.000000        1066.000000\n",
      "mean      0.500000    20.997186          18.745779\n",
      "std       0.500235     9.639950           7.967075\n",
      "min       0.000000     1.000000           1.000000\n",
      "25%       0.000000    14.000000          13.000000\n",
      "50%       0.500000    21.000000          19.000000\n",
      "75%       1.000000    27.000000          24.000000\n",
      "max       1.000000    54.000000          41.000000\n",
      "\n",
      "Summary statistics for test split:\n",
      "--------------------------------------------------------------------------------\n",
      "             label  text_length  unique_word_count\n",
      "count  1066.000000  1066.000000        1066.000000\n",
      "mean      0.500000    21.220450          18.957786\n",
      "std       0.500235     9.518807           7.775555\n",
      "min       0.000000     3.000000           3.000000\n",
      "25%       0.000000    14.000000          13.000000\n",
      "50%       0.500000    20.000000          19.000000\n",
      "75%       1.000000    27.750000          24.000000\n",
      "max       1.000000    52.000000          42.000000\n"
     ]
    }
   ],
   "source": [
    "for split, df in df_dict.items():\n",
    "    \n",
    "    # Compute the total length of each review per split\n",
    "    if 'text_length' not in df.columns:\n",
    "        df['text_length'] = df['text'].apply(lambda x: len(x.split()))\n",
    "    \n",
    "    # Compute the unique word count for each review\n",
    "    df['unique_word_count'] = df['text'].apply(lambda x: len(set(x.split())))\n",
    "    \n",
    "    print(f\"\\nSummary statistics for {split} split:\")\n",
    "    print(\"--\" * 40)\n",
    "\n",
    "    print(df.describe())"
   ]
  },
  {
   "cell_type": "markdown",
   "id": "296e0ed8",
   "metadata": {},
   "source": [
    "We can quickly observe that, overall, the included texts (reviews) are short in length (on average, of 21 words)."
   ]
  },
  {
   "cell_type": "markdown",
   "id": "5e824a08",
   "metadata": {},
   "source": [
    "## 0.3. Submission Guidelines\n",
    "\n",
    "- Document your code, analysis, and findings in a Jupyter notebook. 1 point on code quality/presentation of results.\n",
    "- Include comments and markdown cells to explain your logic and interpretations at each step.\n",
    "- Submit the notebook file via colab."
   ]
  },
  {
   "cell_type": "markdown",
   "id": "9789c230",
   "metadata": {},
   "source": [
    "## 0.4. Configurable parameters"
   ]
  },
  {
   "cell_type": "code",
   "execution_count": 108,
   "id": "51b0fc4a",
   "metadata": {},
   "outputs": [],
   "source": [
    "metric_avg = 'macro' # Either 'macro', 'micro' or 'weighted'"
   ]
  },
  {
   "cell_type": "markdown",
   "id": "f82f01f9",
   "metadata": {},
   "source": [
    "# 1. Part 1: Rule-based Analysis using regexes (2 points)\n",
    "\n",
    "**Objective**: Utilize regexes to classify movie reviews as positive or negative based on predefined linguistic rules.\n",
    "\n",
    "To do this, first we must get a basic idea of the most common words of positive and negative reviews. A basic approach to do this is shown below, where I tokenize the reviews depending on the type of review (positive - 1 or negative - 0). "
   ]
  },
  {
   "cell_type": "code",
   "execution_count": 109,
   "id": "d3801e20",
   "metadata": {},
   "outputs": [
    {
     "name": "stdout",
     "output_type": "stream",
     "text": [
      "['the rock is destined to be the 21st century\\'s new \" conan \" and that he\\'s going to make a splash even greater than arnold schwarzenegger , jean-claud van damme or steven segal .'\n",
      " 'the gorgeously elaborate continuation of \" the lord of the rings \" trilogy is so huge that a column of words cannot adequately describe co-writer/director peter jackson\\'s expanded vision of j . r . r . tolkien\\'s middle-earth .']\n"
     ]
    }
   ],
   "source": [
    "# We extract the text of the positive reviews and the text of the negative reviews as numpy arrays\n",
    "pos_reviews = df_train[df_train[\"label\"] == 1][\"text\"].values\n",
    "neg_reviews = df_train[df_train[\"label\"] == 0][\"text\"].values\n",
    "\n",
    "print(pos_reviews[0:2])"
   ]
  },
  {
   "cell_type": "markdown",
   "id": "ce7acf15",
   "metadata": {},
   "source": [
    "Note that below we do not remove digits, as in this case they might contain relevant information about the sentiment of the review."
   ]
  },
  {
   "cell_type": "code",
   "execution_count": 110,
   "id": "a68fbf4f",
   "metadata": {},
   "outputs": [
    {
     "name": "stdout",
     "output_type": "stream",
     "text": [
      "Tokenized positive reviews:\n",
      "[['rock', 'destined', '21st', 'century', 'new', 'conan', 'going', 'make', 'splash', 'even', 'greater', 'arnold', 'schwarzenegger', 'jean', 'claud', 'van', 'damme', 'steven', 'segal'], ['gorgeously', 'elaborate', 'continuation', 'lord', 'rings', 'trilogy', 'huge', 'column', 'words', 'cannot', 'adequately', 'describe', 'co', 'writer', 'director', 'peter', 'jackson', 'expanded', 'vision', 'j', 'r', 'r', 'tolkien', 'middle', 'earth']]\n",
      "\n",
      "Tokenized negative reviews:\n",
      "[['simplistic', 'silly', 'tedious'], ['laddish', 'juvenile', 'teenage', 'boys', 'could', 'possibly', 'find', 'funny']]\n"
     ]
    }
   ],
   "source": [
    "my_stop_words = set(stopwords.words('english'))\n",
    "\n",
    "# Tokenize the positive reviews (creates a 2-D list, where each list is a review)\n",
    "pos_reviews_tokens = [preprocessing.lower_nostop(review, rm_stopwords=True, stopword_set=my_stop_words) for review in pos_reviews]\n",
    "# Tokenize the negative reviews (creates a 2-D list, where each list is a review)\n",
    "neg_reviews_tokens = [preprocessing.lower_nostop(review, rm_stopwords=True, stopword_set=my_stop_words) for review in neg_reviews]\n",
    "\n",
    "print(\"Tokenized positive reviews:\")\n",
    "print(pos_reviews_tokens[0:2])\n",
    "print(\"\\nTokenized negative reviews:\")\n",
    "print(neg_reviews_tokens[0:2])"
   ]
  },
  {
   "cell_type": "code",
   "execution_count": 111,
   "id": "bd6bd38c",
   "metadata": {},
   "outputs": [],
   "source": [
    "# Flatten the lists of tokens\n",
    "pos_reviews_flat = [token for review in pos_reviews_tokens for token in review]\n",
    "neg_reviews_flat = [token for review in neg_reviews_tokens for token in review]\n",
    "\n",
    "# Count the frequency of each token in the positive reviews\n",
    "pos_counter = collections.Counter(pos_reviews_flat)\n",
    "neg_counter = collections.Counter(neg_reviews_flat)"
   ]
  },
  {
   "cell_type": "code",
   "execution_count": 112,
   "id": "f2e51df1",
   "metadata": {},
   "outputs": [
    {
     "name": "stdout",
     "output_type": "stream",
     "text": [
      "Positive review token counts (10 most common words):\n",
      "[('film', 695), ('movie', 445), ('one', 288), ('like', 223), ('story', 197), ('good', 177), ('comedy', 167), ('well', 150), ('even', 146), ('funny', 144)]\n",
      "\n",
      "Negative review token counts (10 most common words):\n",
      "[('movie', 671), ('film', 563), ('like', 364), ('one', 310), ('story', 190), ('much', 179), ('bad', 176), ('time', 161), ('even', 161), ('good', 152)]\n"
     ]
    }
   ],
   "source": [
    "print(\"Positive review token counts (10 most common words):\")\n",
    "print(pos_counter.most_common(10))\n",
    "\n",
    "print(\"\\nNegative review token counts (10 most common words):\")\n",
    "print(neg_counter.most_common(10))"
   ]
  },
  {
   "cell_type": "markdown",
   "id": "88518bad",
   "metadata": {},
   "source": [
    "Note that, as seen above (section 0.2), negative reviews are, on average, of the same length of positive reviews (in the training, validation and test splits). Therefore, even if this rule-based analysis is a naive approach, it is reasonable to compare the most frequent words for each type of reviews.  "
   ]
  },
  {
   "cell_type": "code",
   "execution_count": 113,
   "id": "e74daad1",
   "metadata": {},
   "outputs": [
    {
     "data": {
      "image/png": "[encoded data removed]",
      "text/plain": [
       "<Figure size 1000x600 with 1 Axes>"
      ]
     },
     "metadata": {},
     "output_type": "display_data"
    }
   ],
   "source": [
    "num_most_common = 100\n",
    "\n",
    "# We get the frequency of the most common words in the positive reviews\n",
    "pos_counter_most_common = pos_counter.most_common(num_most_common)\n",
    "\n",
    "# Extract the words and frequency of the words of positive reviews\n",
    "pos_common_words, pos_common_freq = zip(*pos_counter_most_common)\n",
    "\n",
    "# Kernel density estimation\n",
    "plt.figure(figsize=(10, 6))\n",
    "plt.hist(pos_common_freq, bins=40, density=True)\n",
    "plt.title(f\"Histogram of the {num_most_common} most common words in positive reviews\")\n",
    "plt.xlabel(\"Word Frequency\")\n",
    "plt.ylabel(\"Density\")\n",
    "plt.show()"
   ]
  },
  {
   "cell_type": "code",
   "execution_count": 114,
   "id": "c5ede3a9",
   "metadata": {},
   "outputs": [
    {
     "data": {
      "image/png": "[encoded data removed]",
      "text/plain": [
       "<Figure size 1000x600 with 1 Axes>"
      ]
     },
     "metadata": {},
     "output_type": "display_data"
    }
   ],
   "source": [
    "# We get the frequency of the most common words in the negative reviews\n",
    "neg_counter_most_common = neg_counter.most_common(num_most_common)\n",
    "\n",
    "# Extract the words and frequency of the words of negative reviews\n",
    "neg_common_words, neg_common_freq = zip(*neg_counter_most_common)\n",
    "\n",
    "# Kernel density estimation\n",
    "plt.figure(figsize=(10, 6))\n",
    "plt.hist(neg_common_freq, bins=40, density=True, color='red')\n",
    "plt.title(f\"Histogram of the {num_most_common} most common words in negative reviews\")\n",
    "plt.xlabel(\"Word Frequency\")\n",
    "plt.ylabel(\"Density\")\n",
    "plt.show()"
   ]
  },
  {
   "cell_type": "markdown",
   "id": "7ff3c8a4",
   "metadata": {},
   "source": [
    "As expected, there is a large difference between the words with the highest frequency and the common words but with lower frequency. However, we can observe a clear problem in the simple inspection of the word counts above: the most common words are the same for both type of reviews! To solve that, we can simply consider the words that are NOT in the other type of reviews, which will further refine the stopword removal and help us differentiate the reviews."
   ]
  },
  {
   "cell_type": "code",
   "execution_count": 115,
   "id": "2586743c",
   "metadata": {},
   "outputs": [
    {
     "name": "stdout",
     "output_type": "stream",
     "text": [
      "\n",
      "Positive common words (without intersection):\n",
      "{'fun', 'seen', 'cinema', 'gives', 'still', 'entertaining', 'de', 'world', 'fascinating', 'right', 'performances', 'great', 'human', 'works', 'tale', 'often', 'romantic', 'compelling', 'cast', 'ever', 'yet', 'heart', 'american', 'man', 'moving', 'documentary', 'performance', 'family', 'music', 'part', 'worth', 'take'}\n",
      "Number of positive common words (without intersection): 32\n",
      "\n",
      "Negative common words (without intersection):\n",
      "{'dialogue', 'ultimately', 'seems', 'go', 'things', 'tv', 'quite', 'nothing', 'comes', 'feels', 'silly', 'thing', 'watching', 'bad', 'almost', 'material', 'despite', 'end', 'dull', 'rather', 'minutes', 'acting', 'script', 'interesting', 'half', 'lot', 'point', 'seem', 'less', 'another', 'hard', 'video'}\n",
      "Number of negative common words (without intersection): 32\n"
     ]
    }
   ],
   "source": [
    "# Create set of common words for both positive and negative reviews\n",
    "pos_common_words_set = set(pos_common_words)\n",
    "neg_common_words_set = set(neg_common_words)\n",
    "\n",
    "# Get the intersection of the two sets\n",
    "common_words_set = pos_common_words_set.intersection(neg_common_words_set)\n",
    "\n",
    "# Remove the intersection from the positive and negative common words\n",
    "pos_common_words_set = pos_common_words_set - common_words_set\n",
    "neg_common_words_set = neg_common_words_set - common_words_set\n",
    "\n",
    "print(\"\\nPositive common words (without intersection):\")\n",
    "print(pos_common_words_set)\n",
    "print(f\"Number of positive common words (without intersection): {len(pos_common_words_set)}\")\n",
    "print(\"\\nNegative common words (without intersection):\")\n",
    "print(neg_common_words_set)\n",
    "print(f\"Number of negative common words (without intersection): {len(neg_common_words_set)}\")"
   ]
  },
  {
   "cell_type": "markdown",
   "id": "f7068af8",
   "metadata": {},
   "source": [
    "## 1.1. Positive Reviews Rule Creation\n",
    "\n",
    "(0.5 points): Develop a rule using regexes to identify phrases commonly found in positive reviews. Justify your choice of patterns.\n",
    "\n",
    "Below, we use a simple rule where, if one of the words of the set of positive reviews created above appears in a review, it will be classified as a positive review, otherwise it will be classified as a negative review."
   ]
  },
  {
   "cell_type": "code",
   "execution_count": 116,
   "id": "b6e918d6",
   "metadata": {},
   "outputs": [
    {
     "name": "stdout",
     "output_type": "stream",
     "text": [
      "[1, 1, 1, 1, 1]\n",
      "[0, 1, 1, 1, 1]\n"
     ]
    }
   ],
   "source": [
    "# We create a regex pattern to match the common words of positive reviews:\n",
    "# it captures ANY of the words in the set created above and ignores the case\n",
    "pattern = re.compile(r\"(\" + \"|\".join(pos_common_words_set) + r\")\", re.IGNORECASE)\n",
    "\n",
    "# Extract the true labels of the validation set\n",
    "y_val_true = df_val[\"label\"].to_list()\n",
    "\n",
    "# For each review, make the predictions using the regex classifier\n",
    "y_val_pred_pos_match = [regex_classifiers.regex_classifier(review, pattern, match_label=1) for review in df_val[\"text\"].values]\n",
    "\n",
    "print(y_val_true[0:5])\n",
    "print(y_val_pred_pos_match[0:5])"
   ]
  },
  {
   "cell_type": "code",
   "execution_count": 117,
   "id": "0556f7bb",
   "metadata": {},
   "outputs": [
    {
     "name": "stdout",
     "output_type": "stream",
     "text": [
      "Review: compassionately explores the seemingly irreconcilable situation between conservative christian parents and their estranged gay and lesbian children .\n",
      "True label: 1, Predicted label: 0\n",
      "--------------------------------------------------------------------------------\n",
      "Review: the soundtrack alone is worth the price of admission .\n",
      "True label: 1, Predicted label: 1\n",
      "--------------------------------------------------------------------------------\n",
      "Review: rodriguez does a splendid job of racial profiling hollywood style--casting excellent latin actors of all ages--a trend long overdue .\n",
      "True label: 1, Predicted label: 1\n",
      "--------------------------------------------------------------------------------\n",
      "Review: beneath the film's obvious determination to shock at any cost lies considerable skill and determination , backed by sheer nerve .\n",
      "True label: 1, Predicted label: 1\n",
      "--------------------------------------------------------------------------------\n",
      "Review: bielinsky is a filmmaker of impressive talent .\n",
      "True label: 1, Predicted label: 1\n",
      "--------------------------------------------------------------------------------\n"
     ]
    }
   ],
   "source": [
    "# Inspect the text of the first 5 predictions of the validation set\n",
    "for i in range(5):\n",
    "    print(f\"Review: {df_val['text'].values[i]}\")\n",
    "    print(f\"True label: {y_val_true[i]}, Predicted label: {y_val_pred_pos_match[i]}\")\n",
    "    print(\"-\" * 80)"
   ]
  },
  {
   "cell_type": "markdown",
   "id": "583ba629",
   "metadata": {},
   "source": [
    "Prediction errors:\n",
    "- In the first review, the pattern is finding `seem` in `seemingly`, which is included as part of the set of words of negative reviews. This triggers a false negative.\n",
    "- In the third review, it is apparently matching `end` (in the set of words of negative reviews) with `trend`, which creates a false negative."
   ]
  },
  {
   "cell_type": "code",
   "execution_count": 118,
   "id": "f697cc84",
   "metadata": {},
   "outputs": [
    {
     "name": "stdout",
     "output_type": "stream",
     "text": [
      "Metrics calculated for: Regex Classifier (Positive Match)\n",
      "\n",
      "========================================\n",
      "Metrics for Regex Classifier (Positive Match)\n",
      "========================================\n",
      "\n",
      "Accuracy: 55.82%\n",
      "\n",
      "Precision: 56.38%\n",
      "\n",
      "Recall: 55.82%\n",
      "\n",
      "F1 Score: 54.81%\n"
     ]
    }
   ],
   "source": [
    "metrics_val = metrics.Metrics()\n",
    "\n",
    "metrics_val.run(\n",
    "    y_true=y_val_true,\n",
    "    y_pred=y_val_pred_pos_match,\n",
    "    method_name=\"Regex Classifier (Positive Match)\",\n",
    "    average=metric_avg\n",
    ")\n",
    "\n",
    "metrics_val.print_results()"
   ]
  },
  {
   "cell_type": "markdown",
   "id": "eeb58197",
   "metadata": {},
   "source": [
    "This baseline classifier that detects positive reviews:\n",
    "- Creates several false positives, which leads to an accuracy and precision which are only slightly better than random guessing.\n",
    "- Is not very good at detecting positive instances, which leads to a relatively low recall (true positive predictions over all positive instances). "
   ]
  },
  {
   "cell_type": "markdown",
   "id": "a25fd634",
   "metadata": {},
   "source": [
    "## 1.2. Negative Reviews Rule Creation \n",
    "\n",
    "(0.5 points): Create a similar rule for detecting negative reviews. Explain the rationale behind the patterns selected."
   ]
  },
  {
   "cell_type": "code",
   "execution_count": 119,
   "id": "144fca62",
   "metadata": {},
   "outputs": [
    {
     "name": "stdout",
     "output_type": "stream",
     "text": [
      "[1 1 1 1 1]\n",
      "[0, 1, 0, 1, 1]\n"
     ]
    }
   ],
   "source": [
    "# We create a regex pattern to match the common words of negative reviews:\n",
    "# it captures ANY of the words in the set created above and ignores the case\n",
    "pattern = re.compile(r\"(\" + \"|\".join(neg_common_words_set) + r\")\", re.IGNORECASE)\n",
    "\n",
    "# Extract the true labels of the validation set\n",
    "y_val_true = df_val[\"label\"].values\n",
    "\n",
    "# For each review, make the predictions using the regex classifier\n",
    "y_val_pred_neg_match = [regex_classifiers.regex_classifier(review, pattern, match_label=0) for review in df_val[\"text\"].values]\n",
    "\n",
    "print(y_val_true[0:5])\n",
    "print(y_val_pred_neg_match[0:5])"
   ]
  },
  {
   "cell_type": "code",
   "execution_count": 120,
   "id": "b43aa871",
   "metadata": {},
   "outputs": [
    {
     "name": "stdout",
     "output_type": "stream",
     "text": [
      "Review: compassionately explores the seemingly irreconcilable situation between conservative christian parents and their estranged gay and lesbian children .\n",
      "True label: 1, Predicted label: 0\n",
      "--------------------------------------------------------------------------------\n",
      "Review: the soundtrack alone is worth the price of admission .\n",
      "True label: 1, Predicted label: 1\n",
      "--------------------------------------------------------------------------------\n",
      "Review: rodriguez does a splendid job of racial profiling hollywood style--casting excellent latin actors of all ages--a trend long overdue .\n",
      "True label: 1, Predicted label: 0\n",
      "--------------------------------------------------------------------------------\n",
      "Review: beneath the film's obvious determination to shock at any cost lies considerable skill and determination , backed by sheer nerve .\n",
      "True label: 1, Predicted label: 1\n",
      "--------------------------------------------------------------------------------\n",
      "Review: bielinsky is a filmmaker of impressive talent .\n",
      "True label: 1, Predicted label: 1\n",
      "--------------------------------------------------------------------------------\n"
     ]
    }
   ],
   "source": [
    "# Inspect the text of the first 5 predictions of the validation set\n",
    "for i in range(5):\n",
    "    print(f\"Review: {df_val['text'].values[i]}\")\n",
    "    print(f\"True label: {y_val_true[i]}, Predicted label: {y_val_pred_neg_match[i]}\")\n",
    "    print(\"-\" * 80)"
   ]
  },
  {
   "cell_type": "code",
   "execution_count": 121,
   "id": "725fd2e4",
   "metadata": {},
   "outputs": [
    {
     "name": "stdout",
     "output_type": "stream",
     "text": [
      "Metrics calculated for: Regex Classifier (Negative Match)\n",
      "\n",
      "========================================\n",
      "Metrics for Regex Classifier (Positive Match)\n",
      "========================================\n",
      "\n",
      "Accuracy: 55.82%\n",
      "\n",
      "Precision: 56.38%\n",
      "\n",
      "Recall: 55.82%\n",
      "\n",
      "F1 Score: 54.81%\n",
      "\n",
      "========================================\n",
      "Metrics for Regex Classifier (Negative Match)\n",
      "========================================\n",
      "\n",
      "Accuracy: 57.41%\n",
      "\n",
      "Precision: 57.47%\n",
      "\n",
      "Recall: 57.41%\n",
      "\n",
      "F1 Score: 57.33%\n"
     ]
    }
   ],
   "source": [
    "metrics_val.run(\n",
    "    y_true=y_val_true,\n",
    "    y_pred=y_val_pred_neg_match,\n",
    "    method_name=\"Regex Classifier (Negative Match)\",\n",
    "    average=metric_avg\n",
    ")\n",
    "\n",
    "metrics_val.print_results()"
   ]
  },
  {
   "cell_type": "markdown",
   "id": "d91e62bc",
   "metadata": {},
   "source": [
    "Compared to the positive reviews detection, this rule-based system of detecting negative reviews is performing relatively better, over all metrics. This might denote that the **most common words of negative reviews used is more different than the most common words of positive reviews**. "
   ]
  },
  {
   "cell_type": "markdown",
   "id": "a16c7a96",
   "metadata": {},
   "source": [
    "## 1.3. Reducing False Positives \n",
    "\n",
    "(1 point): Propose and implement a rule to minimize false positives in your classifications. Discuss the improvements observed."
   ]
  },
  {
   "cell_type": "code",
   "execution_count": 122,
   "id": "88261735",
   "metadata": {},
   "outputs": [
    {
     "name": "stdout",
     "output_type": "stream",
     "text": [
      "False Positives and Negatives for Regex Baseline (Positive Match):\n",
      "-----------------------------------------------------\n",
      "False Positives: 315 examples\n",
      "False Negatives: 156 examples\n",
      "\n",
      "False Positives (Regex Baseline - Positive Match):\n",
      "Review: bogs down badly as we absorb jia's moody , bad-boy behavior which he portrays himself in a one-note performance .\n",
      "True label: 0, Predicted label: 1\n",
      "--------------------------------------------------------------------------------\n",
      "Review: the camera whirls ! the camera twirls ! oh , look at that clever angle ! wow , a jump cut !\n",
      "True label: 0, Predicted label: 1\n",
      "--------------------------------------------------------------------------------\n",
      "Review: demme finally succeeds in diminishing his stature from oscar-winning master to lowly studio hack .\n",
      "True label: 0, Predicted label: 1\n",
      "--------------------------------------------------------------------------------\n",
      "Review: it almost feels as if the movie is more interested in entertaining itself than in amusing us .\n",
      "True label: 0, Predicted label: 1\n",
      "--------------------------------------------------------------------------------\n",
      "Review: it puts washington , as honest working man john q . archibald , on a pedestal , then keeps lifting the pedestal higher .\n",
      "True label: 0, Predicted label: 1\n",
      "--------------------------------------------------------------------------------\n",
      "\n",
      "False Negatives (Regex Baseline - Positive Match):\n",
      "Review: compassionately explores the seemingly irreconcilable situation between conservative christian parents and their estranged gay and lesbian children .\n",
      "True label: 1, Predicted label: 0\n",
      "--------------------------------------------------------------------------------\n",
      "Review: so beautifully acted and directed , it's clear that washington most certainly has a new career ahead of him if he so chooses .\n",
      "True label: 1, Predicted label: 0\n",
      "--------------------------------------------------------------------------------\n",
      "Review: a visual spectacle full of stunning images and effects .\n",
      "True label: 1, Predicted label: 0\n",
      "--------------------------------------------------------------------------------\n",
      "Review: a gentle and engrossing character study .\n",
      "True label: 1, Predicted label: 0\n",
      "--------------------------------------------------------------------------------\n",
      "Review: it's enough to watch huppert scheming , with her small , intelligent eyes as steady as any noir villain , and to enjoy the perfectly pitched web of tension that chabrol spins .\n",
      "True label: 1, Predicted label: 0\n",
      "--------------------------------------------------------------------------------\n"
     ]
    }
   ],
   "source": [
    "y_val_true = df_val[\"label\"].to_list()\n",
    "\n",
    "# Let's identify the false positives and negatives for positive match\n",
    "fp_indices_pos_match = []  # Predicted positive but actually negative\n",
    "fn_indices_pos_match = []  # Predicted negative but actually positive\n",
    "\n",
    "print(\"False Positives and Negatives for Regex Baseline (Positive Match):\")\n",
    "print(\"-----------------------------------------------------\")\n",
    "\n",
    "for i, (true, pred) in enumerate(zip(y_val_true, y_val_pred_pos_match)):\n",
    "    if true == 0 and pred == 1:\n",
    "        fp_indices_pos_match.append(i)\n",
    "    elif true == 1 and pred == 0:\n",
    "        fn_indices_pos_match.append(i)\n",
    "\n",
    "print(\"False Positives:\", len(fp_indices_pos_match), \"examples\")\n",
    "print(\"False Negatives:\", len(fn_indices_pos_match), \"examples\")\n",
    "\n",
    "# Print the first 5 false positives\n",
    "print(\"\\nFalse Positives (Regex Baseline - Positive Match):\")\n",
    "for i in fp_indices_pos_match[:5]:\n",
    "    print(f\"Review: {df_val['text'].values[i]}\")\n",
    "    print(f\"True label: {y_val_true[i]}, Predicted label: {y_val_pred_pos_match[i]}\")\n",
    "    print(\"-\" * 80)\n",
    "\n",
    "# Print the first 5 false negatives\n",
    "print(\"\\nFalse Negatives (Regex Baseline - Positive Match):\")\n",
    "for i in fn_indices_pos_match[:5]:\n",
    "    print(f\"Review: {df_val['text'].values[i]}\")\n",
    "    print(f\"True label: {y_val_true[i]}, Predicted label: {y_val_pred_pos_match[i]}\")\n",
    "    print(\"-\" * 80)"
   ]
  },
  {
   "cell_type": "code",
   "execution_count": 123,
   "id": "1980e5a5",
   "metadata": {},
   "outputs": [
    {
     "name": "stdout",
     "output_type": "stream",
     "text": [
      "False Positives and Negatives for Regex Baseline (Negative Match):\n",
      "-----------------------------------------------------\n",
      "False Positives: 250 examples\n",
      "False Negatives: 204 examples\n",
      "\n",
      "False Positives (Regex Baseline - Negative Match):\n",
      "Review: the camera whirls ! the camera twirls ! oh , look at that clever angle ! wow , a jump cut !\n",
      "True label: 0, Predicted label: 1\n",
      "--------------------------------------------------------------------------------\n",
      "Review: demme finally succeeds in diminishing his stature from oscar-winning master to lowly studio hack .\n",
      "True label: 0, Predicted label: 1\n",
      "--------------------------------------------------------------------------------\n",
      "Review: it puts washington , as honest working man john q . archibald , on a pedestal , then keeps lifting the pedestal higher .\n",
      "True label: 0, Predicted label: 1\n",
      "--------------------------------------------------------------------------------\n",
      "Review: far more enjoyable than its predecessor .\n",
      "True label: 0, Predicted label: 1\n",
      "--------------------------------------------------------------------------------\n",
      "Review: a ragbag of cliches .\n",
      "True label: 0, Predicted label: 1\n",
      "--------------------------------------------------------------------------------\n",
      "\n",
      "False Negatives (Regex Baseline - Negative Match):\n",
      "Review: compassionately explores the seemingly irreconcilable situation between conservative christian parents and their estranged gay and lesbian children .\n",
      "True label: 1, Predicted label: 0\n",
      "--------------------------------------------------------------------------------\n",
      "Review: rodriguez does a splendid job of racial profiling hollywood style--casting excellent latin actors of all ages--a trend long overdue .\n",
      "True label: 1, Predicted label: 0\n",
      "--------------------------------------------------------------------------------\n",
      "Review: an engrossing portrait of uncompromising artists trying to create something original against the backdrop of a corporate music industry that only seems to care about the bottom line .\n",
      "True label: 1, Predicted label: 0\n",
      "--------------------------------------------------------------------------------\n",
      "Review: a mischievous visual style and oodles of charm make 'cherish' a very good ( but not great ) movie .\n",
      "True label: 1, Predicted label: 0\n",
      "--------------------------------------------------------------------------------\n",
      "Review: just as the recent argentine film son of the bride reminded us that a feel-good movie can still show real heart , time of favor presents us with an action movie that actually has a brain .\n",
      "True label: 1, Predicted label: 0\n",
      "--------------------------------------------------------------------------------\n"
     ]
    }
   ],
   "source": [
    "y_val_true = df_val[\"label\"].to_list()\n",
    "\n",
    "# Let's identify the false positives and negatives for negative match\n",
    "fp_indices_neg_match = []  # Predicted positive but actually negative\n",
    "fn_indices_neg_match = []  # Predicted negative but actually positive\n",
    "\n",
    "print(\"False Positives and Negatives for Regex Baseline (Negative Match):\")\n",
    "print(\"-----------------------------------------------------\")\n",
    "\n",
    "for i, (true, pred) in enumerate(zip(y_val_true, y_val_pred_neg_match)):\n",
    "    if true == 0 and pred == 1:\n",
    "        fp_indices_neg_match.append(i)\n",
    "    elif true == 1 and pred == 0:\n",
    "        fn_indices_neg_match.append(i)\n",
    "\n",
    "print(\"False Positives:\", len(fp_indices_neg_match), \"examples\")\n",
    "print(\"False Negatives:\", len(fn_indices_neg_match), \"examples\")\n",
    "\n",
    "# Print the first 5 false positives\n",
    "print(\"\\nFalse Positives (Regex Baseline - Negative Match):\")\n",
    "for i in fp_indices_neg_match[:5]:\n",
    "    print(f\"Review: {df_val['text'].values[i]}\")\n",
    "    print(f\"True label: {y_val_true[i]}, Predicted label: {y_val_pred_neg_match[i]}\")\n",
    "    print(\"-\" * 80)\n",
    "\n",
    "# Print the first 5 false negatives\n",
    "print(\"\\nFalse Negatives (Regex Baseline - Negative Match):\")\n",
    "for i in fn_indices_neg_match[:5]:\n",
    "    print(f\"Review: {df_val['text'].values[i]}\")\n",
    "    print(f\"True label: {y_val_true[i]}, Predicted label: {y_val_pred_neg_match[i]}\")\n",
    "    print(\"-\" * 80)"
   ]
  },
  {
   "cell_type": "markdown",
   "id": "20f05cbb",
   "metadata": {},
   "source": [
    "Note that of the first 5 false positives for both types of matching, there are 3 reviews that appear in both cases, which can reveal that both types of matching are failing in the same cases."
   ]
  },
  {
   "cell_type": "code",
   "execution_count": 124,
   "id": "939d024c",
   "metadata": {},
   "outputs": [
    {
     "name": "stdout",
     "output_type": "stream",
     "text": [
      "Number of false positive reviews that match for both types of matching: 130\n",
      "Number of false negative reviews that match for both types of matching: 50\n"
     ]
    }
   ],
   "source": [
    "# Check the number of false positive reviews that match for both types of matching\n",
    "fp_both = set(fp_indices_pos_match).intersection(set(fp_indices_neg_match))\n",
    "print(f\"Number of false positive reviews that match for both types of matching: {len(fp_both)}\")\n",
    "\n",
    "# Check the number of false negative reviews that match for both types of matching\n",
    "fn_both = set(fn_indices_pos_match).intersection(set(fn_indices_neg_match))\n",
    "print(f\"Number of false negative reviews that match for both types of matching: {len(fn_both)}\")"
   ]
  },
  {
   "cell_type": "markdown",
   "id": "08bdb9c4",
   "metadata": {},
   "source": [
    "For the positive matching rule, almost half of its false positives match with the false positives of the negative match (for which more than half coincide). These cases will probably be hard cases, since neither of the patterns can pick them up correctly.\n",
    "\n",
    "Below we try to reduce the number of false positives **for the positive matching** by extending the regex list with those words appearing in the false positive instances but NOT as much on actually positive instances of the validation set. Then, we will check the metrics before and after the pattern extension for the test set."
   ]
  },
  {
   "cell_type": "code",
   "execution_count": 125,
   "id": "e195f94a",
   "metadata": {},
   "outputs": [],
   "source": [
    "# Get the indices for the positive predictions with the positive match\n",
    "positive_indices = []\n",
    "for i, (true, pred) in enumerate(zip(y_val_true, y_val_pred_pos_match)):\n",
    "    if true == 1:\n",
    "        positive_indices.append(i)\n",
    "\n",
    "# Subset the false positive reviews and the false negative reviews\n",
    "fp_reviews = df_val.iloc[fp_indices_pos_match]['text'].values\n",
    "# fn_reviews = df_val.iloc[fn_indices_pos_match]['text'].values\n",
    "pos_pred_reviews = df_val.iloc[positive_indices]['text'].values \n",
    "\n",
    "# Tokenize the false positive and false negative reviews\n",
    "fp_tokens = [preprocessing.lower_nostop(review, rm_stopwords=True, stopword_set=my_stop_words) for review in fp_reviews]\n",
    "# fn_tokens = [tokenize(review, rm_stopwords=True, stopword_set=my_stop_words) for review in fn_reviews]\n",
    "pos_pred_tokens = [preprocessing.lower_nostop(review, rm_stopwords=True, stopword_set=my_stop_words) for review in pos_pred_reviews]\n",
    "\n",
    "# Flatten the lists of tokens\n",
    "fp_reviews_flat = [token for review in fp_tokens for token in review]\n",
    "# fn_reviews_flat = [token for review in fn_tokens for token in review]\n",
    "pos_pred_reviews_flat = [token for review in pos_pred_tokens for token in review]\n",
    "\n",
    "# Count the frequency of each token in the false positive and false negative reviews\n",
    "fp_counter = collections.Counter(fp_reviews_flat)\n",
    "# fn_counter = collections.Counter(fn_reviews_flat)\n",
    "pos_pred_counter = collections.Counter(pos_pred_reviews_flat)"
   ]
  },
  {
   "cell_type": "code",
   "execution_count": 126,
   "id": "45fc5110",
   "metadata": {},
   "outputs": [
    {
     "name": "stdout",
     "output_type": "stream",
     "text": [
      "running 1.0\n",
      "dull 1.0\n",
      "minutes 0.9\n",
      "idea 0.8888888888888888\n",
      "ending 0.8571428571428571\n",
      "sandler 0.8571428571428571\n",
      "wrong 0.8333333333333334\n",
      "joke 0.8333333333333334\n",
      "cut 0.8\n",
      "play 0.8\n",
      "predictable 0.8\n",
      "silly 0.8\n",
      "scene 0.8\n",
      "beyond 0.8\n",
      "talent 0.8\n",
      "science 0.8\n",
      "teen 0.8\n",
      "level 0.8\n",
      "sure 0.8\n",
      "george 0.8\n",
      "energy 0.75\n",
      "bad 0.7222222222222222\n",
      "every 0.7142857142857143\n",
      "lacks 0.7142857142857143\n",
      "looking 0.7142857142857143\n",
      "together 0.7\n",
      "mind 0.6666666666666666\n",
      "fine 0.6666666666666666\n",
      "simply 0.6666666666666666\n",
      "nearly 0.6666666666666666\n"
     ]
    }
   ],
   "source": [
    "# Set minimum word frequency to filter out rare words\n",
    "min_word_freq = 4\n",
    "\n",
    "# Let's create a ratio of occurences in the false positives over all of the positive instances\n",
    "# A value of 1 means that the word appears only in the false positives\n",
    "fp_ratio = {word: fp_counter.get(word, 0) / (fp_counter.get(word, 0) + pos_pred_counter.get(word, 0)) \n",
    "            for word in fp_counter if fp_counter.get(word, 0) + pos_pred_counter.get(word, 0) > min_word_freq}\n",
    "\n",
    "#Let's sort the words by the ratio\n",
    "fp_ratio = sorted(fp_ratio.items(), key=lambda x: x[1], reverse=True)\n",
    "\n",
    "# Let's print the words that appear a lot in the false positives but not so much in the false negatives\n",
    "for word, ratio in fp_ratio[:30]:\n",
    "    print(word, ratio)"
   ]
  },
  {
   "cell_type": "markdown",
   "id": "df46487e",
   "metadata": {},
   "source": [
    "These words should be considered to detect negative reviews instead of positive reviews. To that end, below we extend the regex classification function to consider that, whenever a review contains more of the positive words than of the negative words of the false positive list identified above, it will be classified as positive, otherwise as negative."
   ]
  },
  {
   "cell_type": "code",
   "execution_count": 127,
   "id": "8728e8ed",
   "metadata": {},
   "outputs": [],
   "source": [
    "# We create a regex pattern to match the common words of positive reviews:\n",
    "# it captures ANY of the words in the set created above and ignores the case\n",
    "pattern_pos = re.compile(r\"(\" + \"|\".join(pos_common_words_set) + r\")\", re.IGNORECASE)\n",
    "pattern_neg = re.compile(r\"(\" + \"|\".join(neg_common_words_set) + r\")\", re.IGNORECASE)\n",
    "\n",
    "# Extract the true labels of the validation set\n",
    "y_test_true = df_test[\"label\"].to_list()"
   ]
  },
  {
   "cell_type": "markdown",
   "id": "93ad05e6",
   "metadata": {},
   "source": [
    "Now, we use the classifier and compute the metrics for the test set, both with the initial pattern and with the extended pattern."
   ]
  },
  {
   "cell_type": "markdown",
   "id": "161a4425",
   "metadata": {},
   "source": [
    "Initial pattern:"
   ]
  },
  {
   "cell_type": "code",
   "execution_count": 128,
   "id": "8508af0a",
   "metadata": {},
   "outputs": [
    {
     "name": "stdout",
     "output_type": "stream",
     "text": [
      "Metrics calculated for: Regex Classifier (Positive Match)\n",
      "\n",
      "========================================\n",
      "Metrics for Regex Classifier (Positive Match)\n",
      "========================================\n",
      "\n",
      "Accuracy: 52.72%\n",
      "\n",
      "Precision: 52.90%\n",
      "\n",
      "Recall: 52.72%\n",
      "\n",
      "F1 Score: 51.96%\n",
      "\n",
      "False Positives and Negatives for Regex Baseline (Positive Match), Test set:\n",
      "-----------------------------------------------------\n",
      "False Positives: 319 examples\n",
      "False Negatives: 185 examples\n"
     ]
    }
   ],
   "source": [
    "# For each review, make the predictions using the regex classifier\n",
    "y_test_pred_pos_match = [regex_classifiers.regex_classifier(review, pattern_pos, match_label=1) for review in df_test[\"text\"].values]\n",
    "# Compute the metrics for the baseline model and the test set\n",
    "metrics_test = metrics.Metrics()\n",
    "metrics_test.run(\n",
    "    y_true=y_test_true,\n",
    "    y_pred=y_test_pred_pos_match,\n",
    "    method_name=\"Regex Classifier (Positive Match)\",\n",
    "    average=metric_avg\n",
    ")\n",
    "metrics_test.print_results()\n",
    "\n",
    "# Let's identify the false positives and negatives for positive match\n",
    "fp_indices_pos_match = []  # Predicted positive but actually negative\n",
    "fn_indices_pos_match = []  # Predicted negative but actually positive\n",
    "\n",
    "print(\"\\nFalse Positives and Negatives for Regex Baseline (Positive Match), Test set:\")\n",
    "print(\"-----------------------------------------------------\")\n",
    "\n",
    "for i, (true, pred) in enumerate(zip(y_test_true, y_test_pred_pos_match)):\n",
    "    if true == 0 and pred == 1:\n",
    "        fp_indices_pos_match.append(i)\n",
    "    elif true == 1 and pred == 0:\n",
    "        fn_indices_pos_match.append(i)\n",
    "\n",
    "print(\"False Positives:\", len(fp_indices_pos_match), \"examples\")\n",
    "print(\"False Negatives:\", len(fn_indices_pos_match), \"examples\")"
   ]
  },
  {
   "cell_type": "markdown",
   "id": "142a67a3",
   "metadata": {},
   "source": [
    "Extended pattern:"
   ]
  },
  {
   "cell_type": "code",
   "execution_count": 129,
   "id": "2493049a",
   "metadata": {},
   "outputs": [
    {
     "name": "stdout",
     "output_type": "stream",
     "text": [
      "Metrics calculated for: Regex Classifier - Extended\n",
      "\n",
      "========================================\n",
      "Metrics for Regex Classifier (Positive Match)\n",
      "========================================\n",
      "\n",
      "Accuracy: 52.72%\n",
      "\n",
      "Precision: 52.90%\n",
      "\n",
      "Recall: 52.72%\n",
      "\n",
      "F1 Score: 51.96%\n",
      "\n",
      "========================================\n",
      "Metrics for Regex Classifier - Extended\n",
      "========================================\n",
      "\n",
      "Accuracy: 55.72%\n",
      "\n",
      "Precision: 55.81%\n",
      "\n",
      "Recall: 55.72%\n",
      "\n",
      "F1 Score: 55.55%\n",
      "\n",
      "False Positives and Negatives for Regex Baseline (Positive Match), Test set:\n",
      "-----------------------------------------------------\n",
      "False Positives: 203 examples\n",
      "False Negatives: 269 examples\n"
     ]
    }
   ],
   "source": [
    "# Set a threshold for the ratio of words in FP and not in positive reviews (1 for words that appear only in false positives and not in actual positives)\n",
    "threshold = 0.6\n",
    "\n",
    "# Filter the words based on the threshold\n",
    "fp_ratio_threshold = [(word, ratio) for word, ratio in fp_ratio if ratio >= threshold]\n",
    "\n",
    "# Extract the words and ratio of the words of false positives\n",
    "fp_words, fp_ratio_value = zip(*fp_ratio_threshold)\n",
    "\n",
    "# Create a set of the words\n",
    "fp_words_set = set(fp_words)\n",
    "\n",
    "# Create a regex pattern to match the common words of false positives\n",
    "pattern_fp = re.compile(r\"(\" + \"|\".join(fp_words_set) + r\")\", re.IGNORECASE)\n",
    "\n",
    "# For each review, make the predictions using the regex classifier\n",
    "y_test_pred_ext = [regex_classifiers.regex_classifier_ext(review, pattern_pos, pattern_fp) for review in df_test[\"text\"].values]\n",
    "metrics_test.run(\n",
    "    y_true=y_test_true,\n",
    "    y_pred=y_test_pred_ext,\n",
    "    method_name=\"Regex Classifier - Extended\",\n",
    "    average=metric_avg\n",
    ")\n",
    "metrics_test.print_results()\n",
    "\n",
    "# Let's identify the false positives and negatives for positive match\n",
    "fp_indices_pos_match = []  # Predicted positive but actually negative\n",
    "fn_indices_pos_match = []  # Predicted negative but actually positive\n",
    "\n",
    "print(\"\\nFalse Positives and Negatives for Regex Baseline (Positive Match), Test set:\")\n",
    "print(\"-----------------------------------------------------\")\n",
    "\n",
    "for i, (true, pred) in enumerate(zip(y_test_true, y_test_pred_ext)):\n",
    "    if true == 0 and pred == 1:\n",
    "        fp_indices_pos_match.append(i)\n",
    "    elif true == 1 and pred == 0:\n",
    "        fn_indices_pos_match.append(i)\n",
    "\n",
    "print(\"False Positives:\", len(fp_indices_pos_match), \"examples\")\n",
    "print(\"False Negatives:\", len(fn_indices_pos_match), \"examples\")"
   ]
  },
  {
   "cell_type": "markdown",
   "id": "fa499b42",
   "metadata": {},
   "source": [
    "There is something interesting to note here, but that is expected: lowering the threshold for the ratio of words of false positives in the validation set decreases the number of false positives. This can be attributed mainly to the fact that the search for words typically in negative reviews will be extended, and thus it will be more possible that a review is not incorrectly classified as positive. However, this leads to an increase in the number of false negatives.\n",
    "\n",
    "Finally, **note that the performance of this approach could be potentially improved by handpicking those words which make sense for each type of review**, and selecting those which make more (intuitive) sense to include for each label."
   ]
  },
  {
   "cell_type": "markdown",
   "id": "561c35ce",
   "metadata": {},
   "source": [
    "# 2. Part 2: Machine Learning with TF-IDF and Logistic Regression (3 points)\n",
    "\n",
    "**Objective**: Build and evaluate a sentiment analysis model using TF-IDF vectorization and logistic regression."
   ]
  },
  {
   "cell_type": "markdown",
   "id": "7f681d1b",
   "metadata": {},
   "source": [
    "## 2.1. Model Fitting \n",
    "\n",
    "(0.5 points): Train a logistic regression model on TF-IDF vectors of the movie reviews.\n",
    "\n",
    "We start by training with a baseline pipeline, which below will be extended to different pre-processing techniques to improve performance."
   ]
  },
  {
   "cell_type": "code",
   "execution_count": 130,
   "id": "11c0d84c",
   "metadata": {},
   "outputs": [
    {
     "name": "stdout",
     "output_type": "stream",
     "text": [
      "Document-term matrix for train has size (documents, terms) (8530, 16188)\n",
      "Document-term matrix for validation has size (documents, terms) (1066, 16188)\n",
      "Metrics calculated for: Logistic Regression - Baseline\n"
     ]
    },
    {
     "data": {
      "image/png": "[encoded data removed]",
      "text/plain": [
       "<Figure size 1200x1000 with 4 Axes>"
      ]
     },
     "metadata": {},
     "output_type": "display_data"
    }
   ],
   "source": [
    "# Construct the tf-idf vectorizer with the default parameters and stop words for English\n",
    "tfidf_vectorizer = TfidfVectorizer(\n",
    "    stop_words='english',\n",
    "    ngram_range=(1, 1),\n",
    "    lowercase=True,\n",
    "    min_df=0.0,\n",
    "    max_df=1.0,\n",
    "    sublinear_tf=True  # Apply sublinear term frequency scaling (i.e., log normalization to compress the range of term frequencies)\n",
    ")\n",
    "\n",
    "# Fit to the training data \n",
    "tfidf_vectorizer.fit(df_train['text'].values)\n",
    "\n",
    "# Transform the training and validation data (creates the document-term matrix)\n",
    "X_train = tfidf_vectorizer.transform(df_train['text'].values)\n",
    "X_valid = tfidf_vectorizer.transform(df_val['text'].values)\n",
    "\n",
    "for split, dtm in {'train': X_train, 'validation': X_valid}.items():\n",
    "    print(f\"Document-term matrix for {split} has size (documents, terms) {dtm.shape}\")\n",
    "\n",
    "# Create the Logistic Regression model\n",
    "logistic_model = LogisticRegression(\n",
    "    max_iter=1000,\n",
    "    C=1.0,\n",
    "    solver='liblinear',  # Small dataset, binary classification\n",
    "    random_state=42\n",
    ")\n",
    "\n",
    "# Fit the model to the training data\n",
    "logistic_model.fit(X_train, df_train['label'].values)\n",
    "\n",
    "# Make predictions on the validation set\n",
    "valid_preds = logistic_model.predict(X_valid)\n",
    "\n",
    "# Compute the metrics for the logistic regression model and the validation set\n",
    "metrics_val.run(\n",
    "    y_true=df_val['label'].values,\n",
    "    y_pred=valid_preds,\n",
    "    method_name=\"Logistic Regression - Baseline\",\n",
    "    average=metric_avg\n",
    ")\n",
    "\n",
    "metrics_val.plot()"
   ]
  },
  {
   "cell_type": "markdown",
   "id": "d752c681",
   "metadata": {},
   "source": [
    "Without almost any preprocessing (just stopword removal and lowercasing, but no further text preprocessing or hyperparameter optimization) the performance is already significantly better than for the regex classifiers."
   ]
  },
  {
   "cell_type": "markdown",
   "id": "d785edfc",
   "metadata": {},
   "source": [
    "## 2.2. Feature Importance Analysis\n",
    "\n",
    "(0.5 points): Identify and interpret the most influential features in your model.\n",
    "\n",
    "For analyzing the importance of features (in this case, uni-grams) of the logistic regression model, it must be considered that through TF-IDF the term frequency of the documents has been normalized, so the magnitude of the coefficients in the logistic regression can be used to infer relative feature importance. Specifically:\n",
    "- The sign of the coefficient indicates the direction of influence (positive, 1 vs. negative, 0 sentiment).\n",
    "- Larger magnitude generally indicates stronger influence on the prediction.\n",
    "- Ranking features by coefficient magnitude can identify the most important terms."
   ]
  },
  {
   "cell_type": "code",
   "execution_count": 131,
   "id": "c4ecd604",
   "metadata": {},
   "outputs": [
    {
     "name": "stdout",
     "output_type": "stream",
     "text": [
      "Number of coefficients (should match the number of terms in the training set): (16188,)\n",
      "\n",
      "Top positive coefficients:\n",
      "\n",
      "Word: performances, Coefficient: 2.7513229113983773\n",
      "Word: enjoyable, Coefficient: 2.1748515850663965\n",
      "Word: cinema, Coefficient: 2.101828097613813\n",
      "Word: fun, Coefficient: 2.1009884855584313\n",
      "Word: beautiful, Coefficient: 2.077495062588119\n",
      "Word: solid, Coefficient: 2.038857976696457\n",
      "Word: culture, Coefficient: 2.0104481449219875\n",
      "Word: entertaining, Coefficient: 1.994522691005125\n",
      "Word: best, Coefficient: 1.9603469963567421\n",
      "Word: powerful, Coefficient: 1.9372810730635133\n",
      "Word: wonderful, Coefficient: 1.9329858161432791\n",
      "Word: hilarious, Coefficient: 1.9315420837891761\n",
      "Word: engrossing, Coefficient: 1.9295295968305073\n",
      "Word: touching, Coefficient: 1.926475652196964\n",
      "Word: heart, Coefficient: 1.9074218792036777\n",
      "Word: portrait, Coefficient: 1.9024987434536522\n",
      "Word: human, Coefficient: 1.842652818949587\n",
      "Word: moving, Coefficient: 1.8361015523467328\n",
      "Word: rare, Coefficient: 1.8193748946094368\n",
      "Word: look, Coefficient: 1.7887327947589413\n",
      "\n",
      "Top negative coefficients:\n",
      "\n",
      "Word: bad, Coefficient: -3.0693852206252785\n",
      "Word: dull, Coefficient: -2.7637070013809386\n",
      "Word: boring, Coefficient: -2.4870959491833236\n",
      "Word: feels, Coefficient: -2.178828474806435\n",
      "Word: fails, Coefficient: -2.0833034009261717\n",
      "Word: worst, Coefficient: -2.0778629683214462\n",
      "Word: tv, Coefficient: -2.070008026378011\n",
      "Word: flat, Coefficient: -1.8807336925026525\n",
      "Word: thing, Coefficient: -1.874709292114797\n",
      "Word: tries, Coefficient: -1.8637218944743745\n",
      "Word: script, Coefficient: -1.81509457769505\n",
      "Word: just, Coefficient: -1.7618588826534185\n",
      "Word: unfunny, Coefficient: -1.7118563137798035\n",
      "Word: doesn, Coefficient: -1.706962479714816\n",
      "Word: mediocre, Coefficient: -1.702286661069998\n",
      "Word: lack, Coefficient: -1.6981646389119704\n",
      "Word: badly, Coefficient: -1.6304638953889126\n",
      "Word: stupid, Coefficient: -1.62957615439627\n",
      "Word: pretentious, Coefficient: -1.6205209713923294\n",
      "Word: generic, Coefficient: -1.6098480330351648\n"
     ]
    }
   ],
   "source": [
    "# First of all, we extract the words from the fitted DTM\n",
    "terms = tfidf_vectorizer.get_feature_names_out()\n",
    "\n",
    "# Extract the coefficients of the logistic regression model\n",
    "coefs = logistic_model.coef_[0]\n",
    "print(f'Number of coefficients (should match the number of terms in the training set): {coefs.shape}')\n",
    "\n",
    "# Extract the top 20 positive and negative coefficients\n",
    "top_n = 20\n",
    "top_positive_indices = coefs.argsort()[-top_n:][::-1]  # Indices of the top positive coefficients\n",
    "top_negative_indices = coefs.argsort()[:top_n]  # Indices of the top negative coefficients\n",
    "\n",
    "# Print the values of the top positive and negative coefficients to check\n",
    "print(\"\\nTop positive coefficients:\\n\")\n",
    "for i in top_positive_indices:\n",
    "    print(f\"Word: {terms[i]}, Coefficient: {coefs[i]}\")\n",
    "print(\"\\nTop negative coefficients:\\n\")\n",
    "for i in top_negative_indices:\n",
    "    print(f\"Word: {terms[i]}, Coefficient: {coefs[i]}\")"
   ]
  },
  {
   "cell_type": "markdown",
   "id": "7fbc84cd",
   "metadata": {},
   "source": [
    "As expected, the words with the highest relevance for predicting a review as positive are also positive words, such as \"enjoyable\", \"best\", \"wonderful\", etc.; while for negative reviews it is the opposite: words such as \"boring\", \"feels\", \"flat\", etc. are the most relevant. In terms of values, these coefficients are not directly interpretable (they are logit values, not probabilities or percentage points)."
   ]
  },
  {
   "cell_type": "markdown",
   "id": "24487c11",
   "metadata": {},
   "source": [
    "## 2.3. Preprocessing Improvements\n",
    "\n",
    "(1 point): Experiment with different preprocessing techniques of your training set to enhance model performance. Summarize the impact of these modifications.\n",
    "\n",
    "Compared to the baseline model implemented above, several improvements (or at least possibilities) can be executed:\n",
    "1) More customized text pre-processing (e.g., lemmatization).\n",
    "2) Considering different parameters for the tf-idf vectorizer, such as higher n-gram inclusion and minimum document-frequency or maximum document-frequency parameters.\n",
    "3) Considering different parameters for the logistic regression (e.g., regularization parameter, penalization type, maximum iterations)."
   ]
  },
  {
   "cell_type": "code",
   "execution_count": 132,
   "id": "8cb634ca",
   "metadata": {},
   "outputs": [
    {
     "name": "stdout",
     "output_type": "stream",
     "text": [
      "INFO: Pandarallel will run on 8 workers.\n",
      "INFO: Pandarallel will use Memory file system to transfer data between the main process and workers.\n"
     ]
    }
   ],
   "source": [
    "# Initialize parallelization for pandas\n",
    "pandarallel.initialize(progress_bar=True)"
   ]
  },
  {
   "cell_type": "markdown",
   "id": "0321d591",
   "metadata": {},
   "source": [
    "### Text preprocessing\n",
    "\n",
    "In this section, different types of text features are constructed. Lemmatized and stemmed words are expected to reduce the length of the vocabulary. "
   ]
  },
  {
   "cell_type": "code",
   "execution_count": 133,
   "id": "3eb9c22e",
   "metadata": {},
   "outputs": [
    {
     "name": "stdout",
     "output_type": "stream",
     "text": [
      "\n",
      "Preprocessing train split...\n"
     ]
    },
    {
     "data": {
      "application/vnd.jupyter.widget-view+json": {
       "model_id": "73b6ad1550574dcc90ee1a6fba567147",
       "version_major": 2,
       "version_minor": 0
      },
      "text/plain": [
       "VBox(children=(HBox(children=(IntProgress(value=0, description='0.00%', max=1067), Label(value='0 / 1067'))), …"
      ]
     },
     "metadata": {},
     "output_type": "display_data"
    },
    {
     "data": {
      "application/vnd.jupyter.widget-view+json": {
       "model_id": "423c8ab5b21940be8667e928d7afdef2",
       "version_major": 2,
       "version_minor": 0
      },
      "text/plain": [
       "VBox(children=(HBox(children=(IntProgress(value=0, description='0.00%', max=1067), Label(value='0 / 1067'))), …"
      ]
     },
     "metadata": {},
     "output_type": "display_data"
    },
    {
     "data": {
      "application/vnd.jupyter.widget-view+json": {
       "model_id": "d6f127c9124249ab819050f652e8ab8f",
       "version_major": 2,
       "version_minor": 0
      },
      "text/plain": [
       "VBox(children=(HBox(children=(IntProgress(value=0, description='0.00%', max=1067), Label(value='0 / 1067'))), …"
      ]
     },
     "metadata": {},
     "output_type": "display_data"
    },
    {
     "name": "stdout",
     "output_type": "stream",
     "text": [
      "Preprocessing train split done.\n",
      "\n",
      "Preprocessing validation split...\n"
     ]
    },
    {
     "data": {
      "application/vnd.jupyter.widget-view+json": {
       "model_id": "b397215f364d4c07acb79e5663a4197e",
       "version_major": 2,
       "version_minor": 0
      },
      "text/plain": [
       "VBox(children=(HBox(children=(IntProgress(value=0, description='0.00%', max=134), Label(value='0 / 134'))), HB…"
      ]
     },
     "metadata": {},
     "output_type": "display_data"
    },
    {
     "data": {
      "application/vnd.jupyter.widget-view+json": {
       "model_id": "b1fd143541224b968341654d2bae95be",
       "version_major": 2,
       "version_minor": 0
      },
      "text/plain": [
       "VBox(children=(HBox(children=(IntProgress(value=0, description='0.00%', max=134), Label(value='0 / 134'))), HB…"
      ]
     },
     "metadata": {},
     "output_type": "display_data"
    },
    {
     "data": {
      "application/vnd.jupyter.widget-view+json": {
       "model_id": "6bd440d87c7743078ee91200bf7ddfc0",
       "version_major": 2,
       "version_minor": 0
      },
      "text/plain": [
       "VBox(children=(HBox(children=(IntProgress(value=0, description='0.00%', max=134), Label(value='0 / 134'))), HB…"
      ]
     },
     "metadata": {},
     "output_type": "display_data"
    },
    {
     "name": "stdout",
     "output_type": "stream",
     "text": [
      "Preprocessing validation split done.\n",
      "\n",
      "Preprocessing test split...\n"
     ]
    },
    {
     "data": {
      "application/vnd.jupyter.widget-view+json": {
       "model_id": "5d17640697e84999af8a6479e08c96b6",
       "version_major": 2,
       "version_minor": 0
      },
      "text/plain": [
       "VBox(children=(HBox(children=(IntProgress(value=0, description='0.00%', max=134), Label(value='0 / 134'))), HB…"
      ]
     },
     "metadata": {},
     "output_type": "display_data"
    },
    {
     "data": {
      "application/vnd.jupyter.widget-view+json": {
       "model_id": "3094254df47d445ea6b78f6ec1a05da4",
       "version_major": 2,
       "version_minor": 0
      },
      "text/plain": [
       "VBox(children=(HBox(children=(IntProgress(value=0, description='0.00%', max=134), Label(value='0 / 134'))), HB…"
      ]
     },
     "metadata": {},
     "output_type": "display_data"
    },
    {
     "data": {
      "application/vnd.jupyter.widget-view+json": {
       "model_id": "fd502504a73b45579d7d601606c89a34",
       "version_major": 2,
       "version_minor": 0
      },
      "text/plain": [
       "VBox(children=(HBox(children=(IntProgress(value=0, description='0.00%', max=134), Label(value='0 / 134'))), HB…"
      ]
     },
     "metadata": {},
     "output_type": "display_data"
    },
    {
     "name": "stdout",
     "output_type": "stream",
     "text": [
      "Preprocessing test split done.\n"
     ]
    }
   ],
   "source": [
    "# First, we preprocess the text of the reviews with the custom functions\n",
    "\n",
    "my_stop_words = set(stopwords.words('english'))\n",
    "\n",
    "for split, df in df_dict.items():\n",
    "    print(f\"\\nPreprocessing {split} split...\")\n",
    "    df['text_lower'] = df['text'].parallel_apply(\n",
    "        lambda row: preprocessing.lower_nostop(text = row, rm_stopwords=True, stopword_set=my_stop_words, output_type='string')\n",
    "    )\n",
    "    df['text_lemmatized'] = df['text_lower'].parallel_apply(\n",
    "        lambda row: preprocessing.lemmatize(row)\n",
    "    )\n",
    "    df['text_stemmed'] = df['text_lower'].parallel_apply(\n",
    "        lambda row: preprocessing.stem(row)\n",
    "    )\n",
    "    print(f\"Preprocessing {split} split done.\")"
   ]
  },
  {
   "cell_type": "code",
   "execution_count": 134,
   "id": "ecd85484",
   "metadata": {},
   "outputs": [
    {
     "data": {
      "text/html": [
       "<div>\n",
       "<style scoped>\n",
       "    .dataframe tbody tr th:only-of-type {\n",
       "        vertical-align: middle;\n",
       "    }\n",
       "\n",
       "    .dataframe tbody tr th {\n",
       "        vertical-align: top;\n",
       "    }\n",
       "\n",
       "    .dataframe thead th {\n",
       "        text-align: right;\n",
       "    }\n",
       "</style>\n",
       "<table border=\"1\" class=\"dataframe\">\n",
       "  <thead>\n",
       "    <tr style=\"text-align: right;\">\n",
       "      <th></th>\n",
       "      <th>text</th>\n",
       "      <th>label</th>\n",
       "      <th>text_length</th>\n",
       "      <th>unique_word_count</th>\n",
       "      <th>text_lower</th>\n",
       "      <th>text_lemmatized</th>\n",
       "      <th>text_stemmed</th>\n",
       "    </tr>\n",
       "  </thead>\n",
       "  <tbody>\n",
       "    <tr>\n",
       "      <th>0</th>\n",
       "      <td>the rock is destined to be the 21st century's ...</td>\n",
       "      <td>1</td>\n",
       "      <td>34</td>\n",
       "      <td>31</td>\n",
       "      <td>rock destined 21st century new conan going mak...</td>\n",
       "      <td>rock destined 21st century new conan going mak...</td>\n",
       "      <td>rock destin 21st centuri new conan go make spl...</td>\n",
       "    </tr>\n",
       "    <tr>\n",
       "      <th>1</th>\n",
       "      <td>the gorgeously elaborate continuation of \" the...</td>\n",
       "      <td>1</td>\n",
       "      <td>39</td>\n",
       "      <td>29</td>\n",
       "      <td>gorgeously elaborate continuation lord rings t...</td>\n",
       "      <td>gorgeously elaborate continuation lord ring tr...</td>\n",
       "      <td>gorgeous elabor continu lord ring trilog huge ...</td>\n",
       "    </tr>\n",
       "    <tr>\n",
       "      <th>2</th>\n",
       "      <td>effective but too-tepid biopic</td>\n",
       "      <td>1</td>\n",
       "      <td>4</td>\n",
       "      <td>4</td>\n",
       "      <td>effective tepid biopic</td>\n",
       "      <td>effective tepid biopic</td>\n",
       "      <td>effect tepid biopic</td>\n",
       "    </tr>\n",
       "    <tr>\n",
       "      <th>3</th>\n",
       "      <td>if you sometimes like to go to the movies to h...</td>\n",
       "      <td>1</td>\n",
       "      <td>21</td>\n",
       "      <td>18</td>\n",
       "      <td>sometimes like go movies fun wasabi good place...</td>\n",
       "      <td>sometimes like go movie fun wasabi good place ...</td>\n",
       "      <td>sometim like go movi fun wasabi good place start</td>\n",
       "    </tr>\n",
       "    <tr>\n",
       "      <th>4</th>\n",
       "      <td>emerges as something rare , an issue movie tha...</td>\n",
       "      <td>1</td>\n",
       "      <td>21</td>\n",
       "      <td>21</td>\n",
       "      <td>emerges something rare issue movie honest keen...</td>\n",
       "      <td>emerges something rare issue movie honest keen...</td>\n",
       "      <td>emerg someth rare issu movi honest keenli obse...</td>\n",
       "    </tr>\n",
       "  </tbody>\n",
       "</table>\n",
       "</div>"
      ],
      "text/plain": [
       "                                                text  label  text_length  \\\n",
       "0  the rock is destined to be the 21st century's ...      1           34   \n",
       "1  the gorgeously elaborate continuation of \" the...      1           39   \n",
       "2                     effective but too-tepid biopic      1            4   \n",
       "3  if you sometimes like to go to the movies to h...      1           21   \n",
       "4  emerges as something rare , an issue movie tha...      1           21   \n",
       "\n",
       "   unique_word_count                                         text_lower  \\\n",
       "0                 31  rock destined 21st century new conan going mak...   \n",
       "1                 29  gorgeously elaborate continuation lord rings t...   \n",
       "2                  4                             effective tepid biopic   \n",
       "3                 18  sometimes like go movies fun wasabi good place...   \n",
       "4                 21  emerges something rare issue movie honest keen...   \n",
       "\n",
       "                                     text_lemmatized  \\\n",
       "0  rock destined 21st century new conan going mak...   \n",
       "1  gorgeously elaborate continuation lord ring tr...   \n",
       "2                             effective tepid biopic   \n",
       "3  sometimes like go movie fun wasabi good place ...   \n",
       "4  emerges something rare issue movie honest keen...   \n",
       "\n",
       "                                        text_stemmed  \n",
       "0  rock destin 21st centuri new conan go make spl...  \n",
       "1  gorgeous elabor continu lord ring trilog huge ...  \n",
       "2                                effect tepid biopic  \n",
       "3   sometim like go movi fun wasabi good place start  \n",
       "4  emerg someth rare issu movi honest keenli obse...  "
      ]
     },
     "execution_count": 134,
     "metadata": {},
     "output_type": "execute_result"
    }
   ],
   "source": [
    "df_train.head()"
   ]
  },
  {
   "cell_type": "markdown",
   "id": "70244caa",
   "metadata": {},
   "source": [
    "As can be observed in the previous data frame, lemmatizing does not significantly change the wording of the tokens, while stemming is generally more aggressive in reducing the vocabulary length (at the cost of reducing interprebatility)."
   ]
  },
  {
   "cell_type": "markdown",
   "id": "fa8f3dfb",
   "metadata": {},
   "source": [
    "### Hyperparameter optimization: TF-IDF and logistic regression"
   ]
  },
  {
   "cell_type": "code",
   "execution_count": 135,
   "id": "415d186a",
   "metadata": {},
   "outputs": [],
   "source": [
    "# Create a pipeline with TF-IDF and Logistic Regression\n",
    "pipeline = Pipeline([\n",
    "    ('tfidf', TfidfVectorizer(\n",
    "        lowercase=False,  # We have already lowercased the text\n",
    "        stop_words=None,  # We have already removed stop words\n",
    "        sublinear_tf=True,  # Apply sublinear term frequency scaling\n",
    "        )\n",
    "    ),\n",
    "    ('clf', LogisticRegression(\n",
    "        max_iter=5000,\n",
    "        class_weight=None,\n",
    "        fit_intercept=True,\n",
    "        solver='liblinear',\n",
    "        random_state=42\n",
    "        )\n",
    "    )\n",
    "])\n",
    "\n",
    "# Define the parameter grid for the randomized search\n",
    "param_grid = {\n",
    "    'tfidf__ngram_range': [(1, 1), (1, 2), (1, 3)],  # Unigrams, bigrams and trigrams\n",
    "    'tfidf__min_df': uniform(loc=0.0, scale=0.1),  # Minimum document frequency, uniform distribution from 0% to 10%\n",
    "    'tfidf__max_df': uniform(loc=0.8, scale=0.2),  # Maximum document frequency, uniform distribution from 80% to 100%\n",
    "    'clf__C': uniform(loc=0.01, scale=10),  # Regularization strength, uniform distribution from 0.01 to 10\n",
    "    'clf__penalty': ['l1', 'l2']  # Regularization type\n",
    "}\n",
    "\n",
    "# Create the randomized search object\n",
    "random_search = RandomizedSearchCV(\n",
    "    pipeline,\n",
    "    param_distributions=param_grid,\n",
    "    n_iter=500,  # Number of iterations for the randomized search\n",
    "    scoring=f'f1_{metric_avg}', # Use the F1-score averaged as specified\n",
    "    cv=5,  # 5-fold cross-validation with stratification\n",
    "    refit=f'f1_{metric_avg}',  # Refit the best model with the F1-score averaged as specified\n",
    "    verbose=1,\n",
    "    n_jobs=-1,  # Use all available cores\n",
    "    random_state=42\n",
    ")"
   ]
  },
  {
   "cell_type": "code",
   "execution_count": 145,
   "id": "d6592456",
   "metadata": {},
   "outputs": [
    {
     "name": "stdout",
     "output_type": "stream",
     "text": [
      "Fitting 5 folds for each of 500 candidates, totalling 2500 fits\n",
      "Best Parameters: {'clf__C': np.float64(6.176503145207381), 'clf__penalty': 'l2', 'tfidf__max_df': np.float64(0.8924194581531322), 'tfidf__min_df': np.float64(0.00012318351664258875), 'tfidf__ngram_range': (1, 3)}\n",
      "Best model saved as: models/logreg_f1_macro_0.7463_text_lower.pkl\n"
     ]
    }
   ],
   "source": [
    "preprocessed_text = 'text_lower'  # Choose the preprocessed text to use for the model\n",
    "\n",
    "# Fit the randomized search on the training data, \n",
    "random_search.fit(df_train[preprocessed_text].values, df_train['label'].values)\n",
    "\n",
    "# Best parameters found by grid search\n",
    "print(f'Best Parameters: {random_search.best_params_}')\n",
    "\n",
    "# Save the best model as a pickle file with the name of the model and the F1 score in the models directory\n",
    "os.makedirs('models', exist_ok=True)\n",
    "best_model_name = f\"models/logreg_tfidf_f1_{metric_avg}_{random_search.best_score_:.4f}_{preprocessed_text}.pkl\"\n",
    "with open(best_model_name, 'wb') as f:\n",
    "    pickle.dump(random_search.best_estimator_, f)\n",
    "print(f\"Best model saved as: {best_model_name}\")"
   ]
  },
  {
   "cell_type": "markdown",
   "id": "1590dbfe",
   "metadata": {},
   "source": [
    "With 500 iterations and 5 folds per iteration, the code above approximately takes 30 seconds to run. \n",
    "\n",
    "The question is: has the model been improved in the validation set?"
   ]
  },
  {
   "cell_type": "code",
   "execution_count": 146,
   "id": "b9767cd3",
   "metadata": {},
   "outputs": [
    {
     "name": "stdout",
     "output_type": "stream",
     "text": [
      "Metrics calculated for: Logistic Regression - RSCV\n"
     ]
    },
    {
     "data": {
      "image/png": "[encoded data removed]",
      "text/plain": [
       "<Figure size 1200x1000 with 4 Axes>"
      ]
     },
     "metadata": {},
     "output_type": "display_data"
    }
   ],
   "source": [
    "# Evaluate on the validation set\n",
    "valid_preds = random_search.predict(df_val[preprocessed_text].values)\n",
    "\n",
    "# Compute the metrics for the logistic regression model and the validation set\n",
    "metrics_val.run(\n",
    "    y_true=df_val['label'].values,\n",
    "    y_pred=valid_preds,\n",
    "    method_name=\"Logistic Regression - RSCV\",\n",
    "    average=metric_avg\n",
    ")\n",
    "\n",
    "metrics_val.plot()"
   ]
  },
  {
   "cell_type": "markdown",
   "id": "ee045a91",
   "metadata": {},
   "source": [
    "According to the plot shown above, it can be observed that hyperparameter-tuning has only slightly improved the performance of the sentiment detection model over the logistic regression default parameters. \n",
    "- Other text preprocessing techniques have also been tried out as features (stemmed features, lemmatized features), but in these cases the performance has been observed to be worse. The most possible reason to explain that is that the vocabulary reduction and simplification associated to lemmatizing and stemming does not come with a better performance, even if the dimensionality of the features are reduced. In other words, in this case the nuances from the default text (with only lowercasing and stopword removal) are worth keeping (at least with literal NLP techniques). Nevertheless, the performance is very similar for the three types of preprocessing.\n",
    "- In the optimal model, the minimum document frequency (`min_df`, a threshold that can be set between a [0.0, 1.0] which denotes which terms to ignore if a word appears in less than x% of the reviews) is extremely low, close to 0%. This is relatively expected in the sense that less words of the review corpus are pruned, thus keeping more information.\n",
    "- Something similar happens with the maximum document frequency (`max_df`, words appearing in more than x% of the reviews are pruned), which is set at a relatively high value (close to 90%). Therefore, approximately 10% of the most common words across documents are ignored in the final model.\n",
    "- Finally, and probably to preserve the maximum \"context\" as possible, the best scores are found with the inclusion of **uni-grams, bi-grams and tri-grams**, which can be seen as an attempt to overcome the limitations of literality of TF-IDF.\n",
    "\n",
    "In conclusion, even if performance has been increased, the main limitation is still present: **this method cannot capture, at all, context from the reviews**."
   ]
  },
  {
   "cell_type": "markdown",
   "id": "06a7084c",
   "metadata": {},
   "source": [
    "## 2.4. Word2Vec Embeddings \n",
    "\n",
    "(0.5 points each for a. and b.)"
   ]
  },
  {
   "cell_type": "markdown",
   "id": "95964f69",
   "metadata": {},
   "source": [
    "### a. Implement sentence embedding using the mean of word vectors and retrain your logistic regression model."
   ]
  },
  {
   "cell_type": "markdown",
   "id": "b16fb438",
   "metadata": {},
   "source": [
    "### b. Create sentence embeddings using TF-IDF weighted averages of word vectors and retrain the model. Compare this approach with the mean embedding technique. Comment."
   ]
  },
  {
   "cell_type": "markdown",
   "id": "f6a269b9",
   "metadata": {},
   "source": [
    "# 3. Part 3: Recurrent Neural Networks (RNN) with Word2Vec (4 points)\n",
    "\n",
    "**Objective**: Explore the application of RNNs for sentiment analysis, utilizing pre-trained Word2Vec embeddings."
   ]
  },
  {
   "cell_type": "markdown",
   "id": "decc0a07",
   "metadata": {},
   "source": [
    "## 3.1. RNN Implementation\n",
    "\n",
    "(1 point for each section)"
   ]
  },
  {
   "cell_type": "markdown",
   "id": "837d2b99",
   "metadata": {},
   "source": [
    "### a. Fit an RNN model with LSTM units using Word2Vec embeddings. Analyze and compare its performance with the TF-IDF based logistic regression model. \n",
    "\n",
    "(1 point)"
   ]
  },
  {
   "cell_type": "markdown",
   "id": "16df77cc",
   "metadata": {},
   "source": [
    "### b. Discuss any notable differences in results.\n",
    "\n",
    "(1 point)"
   ]
  },
  {
   "cell_type": "markdown",
   "id": "6c656ef3",
   "metadata": {},
   "source": [
    "## 3.2. Word2Vec Vectors Analysis \n",
    "\n",
    "(1 point for each section)"
   ]
  },
  {
   "cell_type": "markdown",
   "id": "22022d7b",
   "metadata": {},
   "source": [
    "### a. Before and After Fine-Tuning\n",
    "\n",
    "(1 point): Examine the evolution of word vectors by comparing them before and after fine-tuning on the movie review dataset. Provide insights into the changes observed."
   ]
  },
  {
   "cell_type": "markdown",
   "id": "166edcc7",
   "metadata": {},
   "source": [
    "### b. Visualization and Commentary\n",
    "\n",
    "(1 point): Visualize the embeddings of select words before and after fine-tuning using a tool like t-SNE or PCA. Comment on any patterns or shifts in word associations."
   ]
  }
 ],
 "metadata": {
  "kernelspec": {
   "display_name": "bse-nlp-y6-47KiC-py3.12",
   "language": "python",
   "name": "python3"
  },
  "language_info": {
   "codemirror_mode": {
    "name": "ipython",
    "version": 3
   },
   "file_extension": ".py",
   "mimetype": "text/x-python",
   "name": "python",
   "nbconvert_exporter": "python",
   "pygments_lexer": "ipython3",
   "version": "3.12.9"
  }
 },
 "nbformat": 4,
 "nbformat_minor": 5
}
