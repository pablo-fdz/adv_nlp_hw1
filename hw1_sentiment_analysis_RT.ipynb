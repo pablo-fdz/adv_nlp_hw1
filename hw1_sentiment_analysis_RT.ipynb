{
 "cells": [
  {
   "cell_type": "markdown",
   "id": "6a91f4c2",
   "metadata": {},
   "source": [
    "# 0. Introduction\n",
    "\n",
    "*Author*: Pablo Fernández"
   ]
  },
  {
   "cell_type": "markdown",
   "id": "7a315579",
   "metadata": {},
   "source": [
    "## 0.1. Libraries"
   ]
  },
  {
   "cell_type": "code",
   "execution_count": 1,
   "id": "efca8584",
   "metadata": {},
   "outputs": [],
   "source": [
    "import pandas as pd\n",
    "import re  # For regex expressions\n",
    "import collections  # For counting\n",
    "from nltk.corpus import stopwords  # Stopwords list\n",
    "import matplotlib.pyplot as plt\n",
    "from sklearn.feature_extraction.text import CountVectorizer, TfidfVectorizer\n",
    "from sklearn.metrics import confusion_matrix, accuracy_score, precision_score, recall_score, f1_score\n",
    "from hw1_library import metrics, preprocessing, regex_classifiers"
   ]
  },
  {
   "cell_type": "markdown",
   "id": "bde522d8",
   "metadata": {},
   "source": [
    "## 0.2. Data\n",
    "\n",
    "**Dataset**: https://huggingface.co/datasets/rotten_tomatoes"
   ]
  },
  {
   "cell_type": "markdown",
   "id": "ba497b50",
   "metadata": {},
   "source": [
    "### Data loading"
   ]
  },
  {
   "cell_type": "code",
   "execution_count": 2,
   "id": "0950ab4c",
   "metadata": {},
   "outputs": [
    {
     "name": "stderr",
     "output_type": "stream",
     "text": [
      "/home/pablo/.cache/pypoetry/virtualenvs/bse-nlp-y6-47KiC-py3.12/lib/python3.12/site-packages/tqdm/auto.py:21: TqdmWarning: IProgress not found. Please update jupyter and ipywidgets. See https://ipywidgets.readthedocs.io/en/stable/user_install.html\n",
      "  from .autonotebook import tqdm as notebook_tqdm\n"
     ]
    }
   ],
   "source": [
    "splits = {'train': 'train.parquet', 'validation': 'validation.parquet', 'test': 'test.parquet'}\n",
    "\n",
    "df_train = pd.read_parquet(\"hf://datasets/cornell-movie-review-data/rotten_tomatoes/\" + splits[\"train\"])\n",
    "\n",
    "df_val = pd.read_parquet(\"hf://datasets/cornell-movie-review-data/rotten_tomatoes/\" + splits[\"validation\"])\n",
    "\n",
    "df_test = pd.read_parquet(\"hf://datasets/cornell-movie-review-data/rotten_tomatoes/\" + splits[\"test\"])\n",
    "\n",
    "df_dict = {\n",
    "    \"train\": df_train,\n",
    "    \"validation\": df_val,\n",
    "    \"test\": df_test\n",
    "}"
   ]
  },
  {
   "cell_type": "markdown",
   "id": "1ff81f5c",
   "metadata": {},
   "source": [
    "### Basic EDA"
   ]
  },
  {
   "cell_type": "code",
   "execution_count": 3,
   "id": "07873b6e",
   "metadata": {},
   "outputs": [
    {
     "data": {
      "text/html": [
       "<div>\n",
       "<style scoped>\n",
       "    .dataframe tbody tr th:only-of-type {\n",
       "        vertical-align: middle;\n",
       "    }\n",
       "\n",
       "    .dataframe tbody tr th {\n",
       "        vertical-align: top;\n",
       "    }\n",
       "\n",
       "    .dataframe thead th {\n",
       "        text-align: right;\n",
       "    }\n",
       "</style>\n",
       "<table border=\"1\" class=\"dataframe\">\n",
       "  <thead>\n",
       "    <tr style=\"text-align: right;\">\n",
       "      <th></th>\n",
       "      <th>text</th>\n",
       "      <th>label</th>\n",
       "    </tr>\n",
       "  </thead>\n",
       "  <tbody>\n",
       "    <tr>\n",
       "      <th>0</th>\n",
       "      <td>the rock is destined to be the 21st century's ...</td>\n",
       "      <td>1</td>\n",
       "    </tr>\n",
       "    <tr>\n",
       "      <th>1</th>\n",
       "      <td>the gorgeously elaborate continuation of \" the...</td>\n",
       "      <td>1</td>\n",
       "    </tr>\n",
       "    <tr>\n",
       "      <th>2</th>\n",
       "      <td>effective but too-tepid biopic</td>\n",
       "      <td>1</td>\n",
       "    </tr>\n",
       "    <tr>\n",
       "      <th>3</th>\n",
       "      <td>if you sometimes like to go to the movies to h...</td>\n",
       "      <td>1</td>\n",
       "    </tr>\n",
       "    <tr>\n",
       "      <th>4</th>\n",
       "      <td>emerges as something rare , an issue movie tha...</td>\n",
       "      <td>1</td>\n",
       "    </tr>\n",
       "  </tbody>\n",
       "</table>\n",
       "</div>"
      ],
      "text/plain": [
       "                                                text  label\n",
       "0  the rock is destined to be the 21st century's ...      1\n",
       "1  the gorgeously elaborate continuation of \" the...      1\n",
       "2                     effective but too-tepid biopic      1\n",
       "3  if you sometimes like to go to the movies to h...      1\n",
       "4  emerges as something rare , an issue movie tha...      1"
      ]
     },
     "execution_count": 3,
     "metadata": {},
     "output_type": "execute_result"
    }
   ],
   "source": [
    "df_train.head()"
   ]
  },
  {
   "cell_type": "markdown",
   "id": "d3a6bf12",
   "metadata": {},
   "source": [
    "Features (taken from the dataset's website):\n",
    "- `text`: a string feature.\n",
    "- `label`: a classification label, with possible values including *neg* (0, which stands for negative reviews), *pos* (1, which stands for positive reviews)."
   ]
  },
  {
   "cell_type": "code",
   "execution_count": 4,
   "id": "e9032558",
   "metadata": {},
   "outputs": [
    {
     "name": "stdout",
     "output_type": "stream",
     "text": [
      "Number of rows in each split:\n",
      "train: 8530\n",
      "validation: 1066\n",
      "test: 1066\n"
     ]
    }
   ],
   "source": [
    "# Print the number of rows in each split\n",
    "print(\"Number of rows in each split:\")\n",
    "for split, df in df_dict.items():\n",
    "    print(f\"{split}: {len(df)}\")"
   ]
  },
  {
   "cell_type": "markdown",
   "id": "945f79ac",
   "metadata": {},
   "source": [
    "Below, we check how balanced is the data: what is the ratio of positive and negative reviews in each split?"
   ]
  },
  {
   "cell_type": "code",
   "execution_count": 5,
   "id": "5fe5636b",
   "metadata": {},
   "outputs": [
    {
     "name": "stdout",
     "output_type": "stream",
     "text": [
      "Proportion of positive and negative reviews in each split:\n",
      "train: Positive: 0.50, Negative: 0.50\n",
      "validation: Positive: 0.50, Negative: 0.50\n",
      "test: Positive: 0.50, Negative: 0.50\n"
     ]
    }
   ],
   "source": [
    "# Print the proportion of positive and negative reviews in each split\n",
    "print(\"Proportion of positive and negative reviews in each split:\")\n",
    "for split, df in df_dict.items():\n",
    "    pos_count = len(df[df['label'] == 1])\n",
    "    neg_count = len(df[df['label'] == 0])\n",
    "    total_count = len(df)\n",
    "    pos_proportion = pos_count / total_count\n",
    "    neg_proportion = neg_count / total_count\n",
    "    print(f\"{split}: Positive: {pos_proportion:.2f}, Negative: {neg_proportion:.2f}\")"
   ]
  },
  {
   "cell_type": "markdown",
   "id": "42082e8c",
   "metadata": {},
   "source": [
    "As can be seen above, the data is highly balanced in all of the splits.\n",
    "\n",
    "Finally, how long are, on average, the reviews in each split?"
   ]
  },
  {
   "cell_type": "code",
   "execution_count": 6,
   "id": "bd58fbf4",
   "metadata": {},
   "outputs": [
    {
     "name": "stdout",
     "output_type": "stream",
     "text": [
      "\n",
      "Summary statistics for train split:\n",
      "--------------------------------------------------------------------------------\n",
      "             label  text_length  unique_word_count\n",
      "count  8530.000000  8530.000000        8530.000000\n",
      "mean      0.500000    20.992849          18.837515\n",
      "std       0.500029     9.371094           7.822833\n",
      "min       0.000000     1.000000           1.000000\n",
      "25%       0.000000    14.000000          13.000000\n",
      "50%       0.500000    20.000000          19.000000\n",
      "75%       1.000000    27.000000          24.000000\n",
      "max       1.000000    59.000000          45.000000\n",
      "\n",
      "Summary statistics for validation split:\n",
      "--------------------------------------------------------------------------------\n",
      "             label  text_length  unique_word_count\n",
      "count  1066.000000  1066.000000        1066.000000\n",
      "mean      0.500000    20.997186          18.745779\n",
      "std       0.500235     9.639950           7.967075\n",
      "min       0.000000     1.000000           1.000000\n",
      "25%       0.000000    14.000000          13.000000\n",
      "50%       0.500000    21.000000          19.000000\n",
      "75%       1.000000    27.000000          24.000000\n",
      "max       1.000000    54.000000          41.000000\n",
      "\n",
      "Summary statistics for test split:\n",
      "--------------------------------------------------------------------------------\n",
      "             label  text_length  unique_word_count\n",
      "count  1066.000000  1066.000000        1066.000000\n",
      "mean      0.500000    21.220450          18.957786\n",
      "std       0.500235     9.518807           7.775555\n",
      "min       0.000000     3.000000           3.000000\n",
      "25%       0.000000    14.000000          13.000000\n",
      "50%       0.500000    20.000000          19.000000\n",
      "75%       1.000000    27.750000          24.000000\n",
      "max       1.000000    52.000000          42.000000\n"
     ]
    }
   ],
   "source": [
    "for split, df in df_dict.items():\n",
    "    \n",
    "    # Compute the total length of each review per split\n",
    "    if 'text_length' not in df.columns:\n",
    "        df['text_length'] = df['text'].apply(lambda x: len(x.split()))\n",
    "    \n",
    "    # Compute the unique word count for each review\n",
    "    df['unique_word_count'] = df['text'].apply(lambda x: len(set(x.split())))\n",
    "    \n",
    "    print(f\"\\nSummary statistics for {split} split:\")\n",
    "    print(\"--\" * 40)\n",
    "\n",
    "    print(df.describe())"
   ]
  },
  {
   "cell_type": "markdown",
   "id": "296e0ed8",
   "metadata": {},
   "source": [
    "We can quickly observe that, overall, the included texts (reviews) are short in length (on average, of 21 words)."
   ]
  },
  {
   "cell_type": "markdown",
   "id": "5e824a08",
   "metadata": {},
   "source": [
    "## 0.3. Submission Guidelines\n",
    "\n",
    "- Document your code, analysis, and findings in a Jupyter notebook. 1 point on code quality/presentation of results.\n",
    "- Include comments and markdown cells to explain your logic and interpretations at each step.\n",
    "- Submit the notebook file via colab."
   ]
  },
  {
   "cell_type": "markdown",
   "id": "f82f01f9",
   "metadata": {},
   "source": [
    "# 1. Part 1: Rule-based Analysis using regexes (2 points)\n",
    "\n",
    "**Objective**: Utilize regexes to classify movie reviews as positive or negative based on predefined linguistic rules.\n",
    "\n",
    "To do this, first we must get a basic idea of the most common words of positive and negative reviews. A basic approach to do this is shown below, where I tokenize the reviews depending on the type of review (positive - 1 or negative - 0). "
   ]
  },
  {
   "cell_type": "code",
   "execution_count": 7,
   "id": "d3801e20",
   "metadata": {},
   "outputs": [
    {
     "name": "stdout",
     "output_type": "stream",
     "text": [
      "['the rock is destined to be the 21st century\\'s new \" conan \" and that he\\'s going to make a splash even greater than arnold schwarzenegger , jean-claud van damme or steven segal .'\n",
      " 'the gorgeously elaborate continuation of \" the lord of the rings \" trilogy is so huge that a column of words cannot adequately describe co-writer/director peter jackson\\'s expanded vision of j . r . r . tolkien\\'s middle-earth .']\n"
     ]
    }
   ],
   "source": [
    "# We extract the text of the positive reviews and the text of the negative reviews as numpy arrays\n",
    "pos_reviews = df_train[df_train[\"label\"] == 1][\"text\"].values\n",
    "neg_reviews = df_train[df_train[\"label\"] == 0][\"text\"].values\n",
    "\n",
    "print(pos_reviews[0:2])"
   ]
  },
  {
   "cell_type": "markdown",
   "id": "ce7acf15",
   "metadata": {},
   "source": [
    "Note that below we do not remove digits, as in this case they might contain relevant information about the sentiment of the review."
   ]
  },
  {
   "cell_type": "code",
   "execution_count": 8,
   "id": "a68fbf4f",
   "metadata": {},
   "outputs": [
    {
     "name": "stdout",
     "output_type": "stream",
     "text": [
      "Tokenized positive reviews:\n",
      "[['rock', 'destined', '21st', 'century', 'new', 'conan', 'going', 'make', 'splash', 'even', 'greater', 'arnold', 'schwarzenegger', 'jean', 'claud', 'van', 'damme', 'steven', 'segal'], ['gorgeously', 'elaborate', 'continuation', 'lord', 'rings', 'trilogy', 'huge', 'column', 'words', 'cannot', 'adequately', 'describe', 'co', 'writer', 'director', 'peter', 'jackson', 'expanded', 'vision', 'j', 'r', 'r', 'tolkien', 'middle', 'earth']]\n",
      "\n",
      "Tokenized negative reviews:\n",
      "[['simplistic', 'silly', 'tedious'], ['laddish', 'juvenile', 'teenage', 'boys', 'could', 'possibly', 'find', 'funny']]\n"
     ]
    }
   ],
   "source": [
    "my_stop_words = set(stopwords.words('english'))\n",
    "\n",
    "# Tokenize the positive reviews (creates a 2-D list, where each list is a review)\n",
    "pos_reviews_tokens = [preprocessing.tokenize(review, rm_stopwords=True, stopword_set=my_stop_words) for review in pos_reviews]\n",
    "# Tokenize the negative reviews (creates a 2-D list, where each list is a review)\n",
    "neg_reviews_tokens = [preprocessing.tokenize(review, rm_stopwords=True, stopword_set=my_stop_words) for review in neg_reviews]\n",
    "\n",
    "print(\"Tokenized positive reviews:\")\n",
    "print(pos_reviews_tokens[0:2])\n",
    "print(\"\\nTokenized negative reviews:\")\n",
    "print(neg_reviews_tokens[0:2])"
   ]
  },
  {
   "cell_type": "code",
   "execution_count": 9,
   "id": "bd6bd38c",
   "metadata": {},
   "outputs": [],
   "source": [
    "# Flatten the lists of tokens\n",
    "pos_reviews_flat = [token for review in pos_reviews_tokens for token in review]\n",
    "neg_reviews_flat = [token for review in neg_reviews_tokens for token in review]\n",
    "\n",
    "# Count the frequency of each token in the positive reviews\n",
    "pos_counter = collections.Counter(pos_reviews_flat)\n",
    "neg_counter = collections.Counter(neg_reviews_flat)"
   ]
  },
  {
   "cell_type": "code",
   "execution_count": 10,
   "id": "f2e51df1",
   "metadata": {},
   "outputs": [
    {
     "name": "stdout",
     "output_type": "stream",
     "text": [
      "Positive review token counts (10 most common words):\n",
      "[('film', 695), ('movie', 445), ('one', 288), ('like', 223), ('story', 197), ('good', 177), ('comedy', 167), ('well', 150), ('even', 146), ('funny', 144)]\n",
      "\n",
      "Negative review token counts (10 most common words):\n",
      "[('movie', 671), ('film', 563), ('like', 364), ('one', 310), ('story', 190), ('much', 179), ('bad', 176), ('time', 161), ('even', 161), ('good', 152)]\n"
     ]
    }
   ],
   "source": [
    "print(\"Positive review token counts (10 most common words):\")\n",
    "print(pos_counter.most_common(10))\n",
    "\n",
    "print(\"\\nNegative review token counts (10 most common words):\")\n",
    "print(neg_counter.most_common(10))"
   ]
  },
  {
   "cell_type": "markdown",
   "id": "88518bad",
   "metadata": {},
   "source": [
    "Note that, as seen above (section 0.2), negative reviews are, on average, of the same length of positive reviews (in the training, validation and test splits). Therefore, even if this rule-based analysis is a naive approach, it is reasonable to compare the most frequent words for each type of reviews.  "
   ]
  },
  {
   "cell_type": "code",
   "execution_count": 11,
   "id": "e74daad1",
   "metadata": {},
   "outputs": [
    {
     "data": {
      "image/png": "[encoded data removed]",
      "text/plain": [
       "<Figure size 1000x600 with 1 Axes>"
      ]
     },
     "metadata": {},
     "output_type": "display_data"
    }
   ],
   "source": [
    "num_most_common = 100\n",
    "\n",
    "# We get the frequency of the most common words in the positive reviews\n",
    "pos_counter_most_common = pos_counter.most_common(num_most_common)\n",
    "\n",
    "# Extract the words and frequency of the words of positive reviews\n",
    "pos_common_words, pos_common_freq = zip(*pos_counter_most_common)\n",
    "\n",
    "# Kernel density estimation\n",
    "plt.figure(figsize=(10, 6))\n",
    "plt.hist(pos_common_freq, bins=40, density=True)\n",
    "plt.title(f\"Histogram of the {num_most_common} most common words in positive reviews\")\n",
    "plt.xlabel(\"Word Frequency\")\n",
    "plt.ylabel(\"Density\")\n",
    "plt.show()"
   ]
  },
  {
   "cell_type": "code",
   "execution_count": 12,
   "id": "c5ede3a9",
   "metadata": {},
   "outputs": [
    {
     "data": {
      "image/png": "[encoded data removed]",
      "text/plain": [
       "<Figure size 1000x600 with 1 Axes>"
      ]
     },
     "metadata": {},
     "output_type": "display_data"
    }
   ],
   "source": [
    "# We get the frequency of the most common words in the negative reviews\n",
    "neg_counter_most_common = neg_counter.most_common(num_most_common)\n",
    "\n",
    "# Extract the words and frequency of the words of negative reviews\n",
    "neg_common_words, neg_common_freq = zip(*neg_counter_most_common)\n",
    "\n",
    "# Kernel density estimation\n",
    "plt.figure(figsize=(10, 6))\n",
    "plt.hist(neg_common_freq, bins=40, density=True, color='red')\n",
    "plt.title(f\"Histogram of the {num_most_common} most common words in negative reviews\")\n",
    "plt.xlabel(\"Word Frequency\")\n",
    "plt.ylabel(\"Density\")\n",
    "plt.show()"
   ]
  },
  {
   "cell_type": "markdown",
   "id": "7ff3c8a4",
   "metadata": {},
   "source": [
    "As expected, there is a large difference between the words with the highest frequency and the common words but with lower frequency. However, we can observe a clear problem in the simple inspection of the word counts above: the most common words are the same for both type of reviews! To solve that, we can simply consider the words that are NOT in the other type of reviews, which will further refine the stopword removal and help us differentiate the reviews."
   ]
  },
  {
   "cell_type": "code",
   "execution_count": 13,
   "id": "2586743c",
   "metadata": {},
   "outputs": [
    {
     "name": "stdout",
     "output_type": "stream",
     "text": [
      "\n",
      "Positive common words (without intersection):\n",
      "{'performance', 'take', 'ever', 'entertaining', 'american', 'performances', 'cinema', 'compelling', 'family', 'moving', 'cast', 'world', 'fun', 'music', 'often', 'works', 'documentary', 'heart', 'man', 'fascinating', 'still', 'tale', 'gives', 'human', 'seen', 'worth', 'yet', 'de', 'romantic', 'part', 'right', 'great'}\n",
      "Number of positive common words (without intersection): 32\n",
      "\n",
      "Negative common words (without intersection):\n",
      "{'acting', 'despite', 'nothing', 'comes', 'almost', 'silly', 'rather', 'point', 'thing', 'seem', 'hard', 'things', 'video', 'dialogue', 'lot', 'half', 'go', 'minutes', 'seems', 'feels', 'script', 'end', 'dull', 'interesting', 'another', 'watching', 'quite', 'less', 'material', 'ultimately', 'tv', 'bad'}\n",
      "Number of negative common words (without intersection): 32\n"
     ]
    }
   ],
   "source": [
    "# Create set of common words for both positive and negative reviews\n",
    "pos_common_words_set = set(pos_common_words)\n",
    "neg_common_words_set = set(neg_common_words)\n",
    "\n",
    "# Get the intersection of the two sets\n",
    "common_words_set = pos_common_words_set.intersection(neg_common_words_set)\n",
    "\n",
    "# Remove the intersection from the positive and negative common words\n",
    "pos_common_words_set = pos_common_words_set - common_words_set\n",
    "neg_common_words_set = neg_common_words_set - common_words_set\n",
    "\n",
    "print(\"\\nPositive common words (without intersection):\")\n",
    "print(pos_common_words_set)\n",
    "print(f\"Number of positive common words (without intersection): {len(pos_common_words_set)}\")\n",
    "print(\"\\nNegative common words (without intersection):\")\n",
    "print(neg_common_words_set)\n",
    "print(f\"Number of negative common words (without intersection): {len(neg_common_words_set)}\")"
   ]
  },
  {
   "cell_type": "markdown",
   "id": "f7068af8",
   "metadata": {},
   "source": [
    "## 1.1. Positive Reviews Rule Creation\n",
    "\n",
    "(0.5 points): Develop a rule using regexes to identify phrases commonly found in positive reviews. Justify your choice of patterns.\n",
    "\n",
    "Below, we use a simple rule where, if one of the words of the set of positive reviews created above appears in a review, it will be classified as a positive review, otherwise it will be classified as a negative review."
   ]
  },
  {
   "cell_type": "code",
   "execution_count": 14,
   "id": "b6e918d6",
   "metadata": {},
   "outputs": [
    {
     "name": "stdout",
     "output_type": "stream",
     "text": [
      "[1, 1, 1, 1, 1]\n",
      "[0, 1, 1, 1, 1]\n"
     ]
    }
   ],
   "source": [
    "# We create a regex pattern to match the common words of positive reviews:\n",
    "# it captures ANY of the words in the set created above and ignores the case\n",
    "pattern = re.compile(r\"(\" + \"|\".join(pos_common_words_set) + r\")\", re.IGNORECASE)\n",
    "\n",
    "# Extract the true labels of the validation set\n",
    "y_val_true = df_val[\"label\"].to_list()\n",
    "\n",
    "# For each review, make the predictions using the regex classifier\n",
    "y_val_pred_pos_match = [regex_classifiers.regex_classifier(review, pattern, match_label=1) for review in df_val[\"text\"].values]\n",
    "\n",
    "print(y_val_true[0:5])\n",
    "print(y_val_pred_pos_match[0:5])"
   ]
  },
  {
   "cell_type": "code",
   "execution_count": 15,
   "id": "0556f7bb",
   "metadata": {},
   "outputs": [
    {
     "name": "stdout",
     "output_type": "stream",
     "text": [
      "Review: compassionately explores the seemingly irreconcilable situation between conservative christian parents and their estranged gay and lesbian children .\n",
      "True label: 1, Predicted label: 0\n",
      "--------------------------------------------------------------------------------\n",
      "Review: the soundtrack alone is worth the price of admission .\n",
      "True label: 1, Predicted label: 1\n",
      "--------------------------------------------------------------------------------\n",
      "Review: rodriguez does a splendid job of racial profiling hollywood style--casting excellent latin actors of all ages--a trend long overdue .\n",
      "True label: 1, Predicted label: 1\n",
      "--------------------------------------------------------------------------------\n",
      "Review: beneath the film's obvious determination to shock at any cost lies considerable skill and determination , backed by sheer nerve .\n",
      "True label: 1, Predicted label: 1\n",
      "--------------------------------------------------------------------------------\n",
      "Review: bielinsky is a filmmaker of impressive talent .\n",
      "True label: 1, Predicted label: 1\n",
      "--------------------------------------------------------------------------------\n"
     ]
    }
   ],
   "source": [
    "# Inspect the text of the first 5 predictions of the validation set\n",
    "for i in range(5):\n",
    "    print(f\"Review: {df_val['text'].values[i]}\")\n",
    "    print(f\"True label: {y_val_true[i]}, Predicted label: {y_val_pred_pos_match[i]}\")\n",
    "    print(\"-\" * 80)"
   ]
  },
  {
   "cell_type": "markdown",
   "id": "583ba629",
   "metadata": {},
   "source": [
    "Prediction errors:\n",
    "- In the first review, the pattern is finding `seem` in `seemingly`, which is included as part of the set of words of negative reviews. This triggers a false negative.\n",
    "- In the third review, it is apparently matching `end` (in the set of words of negative reviews) with `trend`, which creates a false negative."
   ]
  },
  {
   "cell_type": "code",
   "execution_count": 16,
   "id": "f697cc84",
   "metadata": {},
   "outputs": [
    {
     "name": "stdout",
     "output_type": "stream",
     "text": [
      "Metrics calculated for: Regex Classifier (Positive Match)\n",
      "\n",
      "========================================\n",
      "Metrics for Regex Classifier (Positive Match)\n",
      "========================================\n",
      "\n",
      "Accuracy: 55.82%\n",
      "\n",
      "Precision: 56.38%\n",
      "\n",
      "Recall: 55.82%\n",
      "\n",
      "F1 Score: 54.81%\n"
     ]
    }
   ],
   "source": [
    "metrics_val = metrics.Metrics()\n",
    "\n",
    "metrics_val.run(\n",
    "    y_true=y_val_true,\n",
    "    y_pred=y_val_pred_pos_match,\n",
    "    method_name=\"Regex Classifier (Positive Match)\",\n",
    "    average='macro'\n",
    ")\n",
    "\n",
    "metrics_val.print_results()"
   ]
  },
  {
   "cell_type": "markdown",
   "id": "eeb58197",
   "metadata": {},
   "source": [
    "This baseline classifier that detects positive reviews:\n",
    "- Creates several false positives, which leads to an accuracy and precision which are only slightly better than random guessing.\n",
    "- Is not very good at detecting positive instances, which leads to a relatively low recall (true positive predictions over all positive instances). "
   ]
  },
  {
   "cell_type": "markdown",
   "id": "a25fd634",
   "metadata": {},
   "source": [
    "## 1.2. Negative Reviews Rule Creation \n",
    "\n",
    "(0.5 points): Create a similar rule for detecting negative reviews. Explain the rationale behind the patterns selected."
   ]
  },
  {
   "cell_type": "code",
   "execution_count": 17,
   "id": "144fca62",
   "metadata": {},
   "outputs": [
    {
     "name": "stdout",
     "output_type": "stream",
     "text": [
      "[1 1 1 1 1]\n",
      "[0, 1, 0, 1, 1]\n"
     ]
    }
   ],
   "source": [
    "# We create a regex pattern to match the common words of negative reviews:\n",
    "# it captures ANY of the words in the set created above and ignores the case\n",
    "pattern = re.compile(r\"(\" + \"|\".join(neg_common_words_set) + r\")\", re.IGNORECASE)\n",
    "\n",
    "# Extract the true labels of the validation set\n",
    "y_val_true = df_val[\"label\"].values\n",
    "\n",
    "# For each review, make the predictions using the regex classifier\n",
    "y_val_pred_neg_match = [regex_classifiers.regex_classifier(review, pattern, match_label=0) for review in df_val[\"text\"].values]\n",
    "\n",
    "print(y_val_true[0:5])\n",
    "print(y_val_pred_neg_match[0:5])"
   ]
  },
  {
   "cell_type": "code",
   "execution_count": 18,
   "id": "b43aa871",
   "metadata": {},
   "outputs": [
    {
     "name": "stdout",
     "output_type": "stream",
     "text": [
      "Review: compassionately explores the seemingly irreconcilable situation between conservative christian parents and their estranged gay and lesbian children .\n",
      "True label: 1, Predicted label: 0\n",
      "--------------------------------------------------------------------------------\n",
      "Review: the soundtrack alone is worth the price of admission .\n",
      "True label: 1, Predicted label: 1\n",
      "--------------------------------------------------------------------------------\n",
      "Review: rodriguez does a splendid job of racial profiling hollywood style--casting excellent latin actors of all ages--a trend long overdue .\n",
      "True label: 1, Predicted label: 0\n",
      "--------------------------------------------------------------------------------\n",
      "Review: beneath the film's obvious determination to shock at any cost lies considerable skill and determination , backed by sheer nerve .\n",
      "True label: 1, Predicted label: 1\n",
      "--------------------------------------------------------------------------------\n",
      "Review: bielinsky is a filmmaker of impressive talent .\n",
      "True label: 1, Predicted label: 1\n",
      "--------------------------------------------------------------------------------\n"
     ]
    }
   ],
   "source": [
    "# Inspect the text of the first 5 predictions of the validation set\n",
    "for i in range(5):\n",
    "    print(f\"Review: {df_val['text'].values[i]}\")\n",
    "    print(f\"True label: {y_val_true[i]}, Predicted label: {y_val_pred_neg_match[i]}\")\n",
    "    print(\"-\" * 80)"
   ]
  },
  {
   "cell_type": "code",
   "execution_count": 19,
   "id": "725fd2e4",
   "metadata": {},
   "outputs": [
    {
     "name": "stdout",
     "output_type": "stream",
     "text": [
      "Metrics calculated for: Regex Classifier (Negative Match)\n",
      "\n",
      "========================================\n",
      "Metrics for Regex Classifier (Positive Match)\n",
      "========================================\n",
      "\n",
      "Accuracy: 55.82%\n",
      "\n",
      "Precision: 56.38%\n",
      "\n",
      "Recall: 55.82%\n",
      "\n",
      "F1 Score: 54.81%\n",
      "\n",
      "========================================\n",
      "Metrics for Regex Classifier (Negative Match)\n",
      "========================================\n",
      "\n",
      "Accuracy: 57.41%\n",
      "\n",
      "Precision: 57.47%\n",
      "\n",
      "Recall: 57.41%\n",
      "\n",
      "F1 Score: 57.33%\n"
     ]
    }
   ],
   "source": [
    "metrics_val.run(\n",
    "    y_true=y_val_true,\n",
    "    y_pred=y_val_pred_neg_match,\n",
    "    method_name=\"Regex Classifier (Negative Match)\",\n",
    "    average='macro'\n",
    ")\n",
    "\n",
    "metrics_val.print_results()"
   ]
  },
  {
   "cell_type": "markdown",
   "id": "d91e62bc",
   "metadata": {},
   "source": [
    "Compared to the positive reviews detection, this rule-based system of detecting negative reviews is performing relatively better, over all metrics. This might denote that the **most common words of negative reviews used is more different than the most common words of positive reviews**. "
   ]
  },
  {
   "cell_type": "markdown",
   "id": "a16c7a96",
   "metadata": {},
   "source": [
    "## 1.3. Reducing False Positives \n",
    "\n",
    "(1 point): Propose and implement a rule to minimize false positives in your classifications. Discuss the improvements observed."
   ]
  },
  {
   "cell_type": "code",
   "execution_count": 20,
   "id": "88261735",
   "metadata": {},
   "outputs": [
    {
     "name": "stdout",
     "output_type": "stream",
     "text": [
      "False Positives and Negatives for Regex Baseline (Positive Match):\n",
      "-----------------------------------------------------\n",
      "False Positives: 315 examples\n",
      "False Negatives: 156 examples\n",
      "\n",
      "False Positives (Regex Baseline - Positive Match):\n",
      "Review: bogs down badly as we absorb jia's moody , bad-boy behavior which he portrays himself in a one-note performance .\n",
      "True label: 0, Predicted label: 1\n",
      "--------------------------------------------------------------------------------\n",
      "Review: the camera whirls ! the camera twirls ! oh , look at that clever angle ! wow , a jump cut !\n",
      "True label: 0, Predicted label: 1\n",
      "--------------------------------------------------------------------------------\n",
      "Review: demme finally succeeds in diminishing his stature from oscar-winning master to lowly studio hack .\n",
      "True label: 0, Predicted label: 1\n",
      "--------------------------------------------------------------------------------\n",
      "Review: it almost feels as if the movie is more interested in entertaining itself than in amusing us .\n",
      "True label: 0, Predicted label: 1\n",
      "--------------------------------------------------------------------------------\n",
      "Review: it puts washington , as honest working man john q . archibald , on a pedestal , then keeps lifting the pedestal higher .\n",
      "True label: 0, Predicted label: 1\n",
      "--------------------------------------------------------------------------------\n",
      "\n",
      "False Negatives (Regex Baseline - Positive Match):\n",
      "Review: compassionately explores the seemingly irreconcilable situation between conservative christian parents and their estranged gay and lesbian children .\n",
      "True label: 1, Predicted label: 0\n",
      "--------------------------------------------------------------------------------\n",
      "Review: so beautifully acted and directed , it's clear that washington most certainly has a new career ahead of him if he so chooses .\n",
      "True label: 1, Predicted label: 0\n",
      "--------------------------------------------------------------------------------\n",
      "Review: a visual spectacle full of stunning images and effects .\n",
      "True label: 1, Predicted label: 0\n",
      "--------------------------------------------------------------------------------\n",
      "Review: a gentle and engrossing character study .\n",
      "True label: 1, Predicted label: 0\n",
      "--------------------------------------------------------------------------------\n",
      "Review: it's enough to watch huppert scheming , with her small , intelligent eyes as steady as any noir villain , and to enjoy the perfectly pitched web of tension that chabrol spins .\n",
      "True label: 1, Predicted label: 0\n",
      "--------------------------------------------------------------------------------\n"
     ]
    }
   ],
   "source": [
    "y_val_true = df_val[\"label\"].to_list()\n",
    "\n",
    "# Let's identify the false positives and negatives for positive match\n",
    "fp_indices_pos_match = []  # Predicted positive but actually negative\n",
    "fn_indices_pos_match = []  # Predicted negative but actually positive\n",
    "\n",
    "print(\"False Positives and Negatives for Regex Baseline (Positive Match):\")\n",
    "print(\"-----------------------------------------------------\")\n",
    "\n",
    "for i, (true, pred) in enumerate(zip(y_val_true, y_val_pred_pos_match)):\n",
    "    if true == 0 and pred == 1:\n",
    "        fp_indices_pos_match.append(i)\n",
    "    elif true == 1 and pred == 0:\n",
    "        fn_indices_pos_match.append(i)\n",
    "\n",
    "print(\"False Positives:\", len(fp_indices_pos_match), \"examples\")\n",
    "print(\"False Negatives:\", len(fn_indices_pos_match), \"examples\")\n",
    "\n",
    "# Print the first 5 false positives\n",
    "print(\"\\nFalse Positives (Regex Baseline - Positive Match):\")\n",
    "for i in fp_indices_pos_match[:5]:\n",
    "    print(f\"Review: {df_val['text'].values[i]}\")\n",
    "    print(f\"True label: {y_val_true[i]}, Predicted label: {y_val_pred_pos_match[i]}\")\n",
    "    print(\"-\" * 80)\n",
    "\n",
    "# Print the first 5 false negatives\n",
    "print(\"\\nFalse Negatives (Regex Baseline - Positive Match):\")\n",
    "for i in fn_indices_pos_match[:5]:\n",
    "    print(f\"Review: {df_val['text'].values[i]}\")\n",
    "    print(f\"True label: {y_val_true[i]}, Predicted label: {y_val_pred_pos_match[i]}\")\n",
    "    print(\"-\" * 80)"
   ]
  },
  {
   "cell_type": "code",
   "execution_count": 21,
   "id": "1980e5a5",
   "metadata": {},
   "outputs": [
    {
     "name": "stdout",
     "output_type": "stream",
     "text": [
      "False Positives and Negatives for Regex Baseline (Negative Match):\n",
      "-----------------------------------------------------\n",
      "False Positives: 250 examples\n",
      "False Negatives: 204 examples\n",
      "\n",
      "False Positives (Regex Baseline - Negative Match):\n",
      "Review: the camera whirls ! the camera twirls ! oh , look at that clever angle ! wow , a jump cut !\n",
      "True label: 0, Predicted label: 1\n",
      "--------------------------------------------------------------------------------\n",
      "Review: demme finally succeeds in diminishing his stature from oscar-winning master to lowly studio hack .\n",
      "True label: 0, Predicted label: 1\n",
      "--------------------------------------------------------------------------------\n",
      "Review: it puts washington , as honest working man john q . archibald , on a pedestal , then keeps lifting the pedestal higher .\n",
      "True label: 0, Predicted label: 1\n",
      "--------------------------------------------------------------------------------\n",
      "Review: far more enjoyable than its predecessor .\n",
      "True label: 0, Predicted label: 1\n",
      "--------------------------------------------------------------------------------\n",
      "Review: a ragbag of cliches .\n",
      "True label: 0, Predicted label: 1\n",
      "--------------------------------------------------------------------------------\n",
      "\n",
      "False Negatives (Regex Baseline - Negative Match):\n",
      "Review: compassionately explores the seemingly irreconcilable situation between conservative christian parents and their estranged gay and lesbian children .\n",
      "True label: 1, Predicted label: 0\n",
      "--------------------------------------------------------------------------------\n",
      "Review: rodriguez does a splendid job of racial profiling hollywood style--casting excellent latin actors of all ages--a trend long overdue .\n",
      "True label: 1, Predicted label: 0\n",
      "--------------------------------------------------------------------------------\n",
      "Review: an engrossing portrait of uncompromising artists trying to create something original against the backdrop of a corporate music industry that only seems to care about the bottom line .\n",
      "True label: 1, Predicted label: 0\n",
      "--------------------------------------------------------------------------------\n",
      "Review: a mischievous visual style and oodles of charm make 'cherish' a very good ( but not great ) movie .\n",
      "True label: 1, Predicted label: 0\n",
      "--------------------------------------------------------------------------------\n",
      "Review: just as the recent argentine film son of the bride reminded us that a feel-good movie can still show real heart , time of favor presents us with an action movie that actually has a brain .\n",
      "True label: 1, Predicted label: 0\n",
      "--------------------------------------------------------------------------------\n"
     ]
    }
   ],
   "source": [
    "y_val_true = df_val[\"label\"].to_list()\n",
    "\n",
    "# Let's identify the false positives and negatives for negative match\n",
    "fp_indices_neg_match = []  # Predicted positive but actually negative\n",
    "fn_indices_neg_match = []  # Predicted negative but actually positive\n",
    "\n",
    "print(\"False Positives and Negatives for Regex Baseline (Negative Match):\")\n",
    "print(\"-----------------------------------------------------\")\n",
    "\n",
    "for i, (true, pred) in enumerate(zip(y_val_true, y_val_pred_neg_match)):\n",
    "    if true == 0 and pred == 1:\n",
    "        fp_indices_neg_match.append(i)\n",
    "    elif true == 1 and pred == 0:\n",
    "        fn_indices_neg_match.append(i)\n",
    "\n",
    "print(\"False Positives:\", len(fp_indices_neg_match), \"examples\")\n",
    "print(\"False Negatives:\", len(fn_indices_neg_match), \"examples\")\n",
    "\n",
    "# Print the first 5 false positives\n",
    "print(\"\\nFalse Positives (Regex Baseline - Negative Match):\")\n",
    "for i in fp_indices_neg_match[:5]:\n",
    "    print(f\"Review: {df_val['text'].values[i]}\")\n",
    "    print(f\"True label: {y_val_true[i]}, Predicted label: {y_val_pred_neg_match[i]}\")\n",
    "    print(\"-\" * 80)\n",
    "\n",
    "# Print the first 5 false negatives\n",
    "print(\"\\nFalse Negatives (Regex Baseline - Negative Match):\")\n",
    "for i in fn_indices_neg_match[:5]:\n",
    "    print(f\"Review: {df_val['text'].values[i]}\")\n",
    "    print(f\"True label: {y_val_true[i]}, Predicted label: {y_val_pred_neg_match[i]}\")\n",
    "    print(\"-\" * 80)"
   ]
  },
  {
   "cell_type": "markdown",
   "id": "20f05cbb",
   "metadata": {},
   "source": [
    "Note that of the first 5 false positives for both types of matching, there are 3 reviews that appear in both cases, which can reveal that both types of matching are failing in the same cases."
   ]
  },
  {
   "cell_type": "code",
   "execution_count": 22,
   "id": "939d024c",
   "metadata": {},
   "outputs": [
    {
     "name": "stdout",
     "output_type": "stream",
     "text": [
      "Number of false positive reviews that match for both types of matching: 130\n",
      "Number of false negative reviews that match for both types of matching: 50\n"
     ]
    }
   ],
   "source": [
    "# Check the number of false positive reviews that match for both types of matching\n",
    "fp_both = set(fp_indices_pos_match).intersection(set(fp_indices_neg_match))\n",
    "print(f\"Number of false positive reviews that match for both types of matching: {len(fp_both)}\")\n",
    "\n",
    "# Check the number of false negative reviews that match for both types of matching\n",
    "fn_both = set(fn_indices_pos_match).intersection(set(fn_indices_neg_match))\n",
    "print(f\"Number of false negative reviews that match for both types of matching: {len(fn_both)}\")"
   ]
  },
  {
   "cell_type": "markdown",
   "id": "08bdb9c4",
   "metadata": {},
   "source": [
    "For the positive matching rule, almost half of its false positives match with the false positives of the negative match (for which more than half coincide). These cases will probably be hard cases, since neither of the patterns can pick them up correctly.\n",
    "\n",
    "Below we try to reduce the number of false positives **for the positive matching** by extending the regex list with those words appearing in the false positive instances but NOT as much on actually positive instances of the validation set. Then, we will check the metrics before and after the pattern extension for the test set."
   ]
  },
  {
   "cell_type": "code",
   "execution_count": 23,
   "id": "e195f94a",
   "metadata": {},
   "outputs": [],
   "source": [
    "# Get the indices for the positive predictions with the positive match\n",
    "positive_indices = []\n",
    "for i, (true, pred) in enumerate(zip(y_val_true, y_val_pred_pos_match)):\n",
    "    if true == 1:\n",
    "        positive_indices.append(i)\n",
    "\n",
    "# Subset the false positive reviews and the false negative reviews\n",
    "fp_reviews = df_val.iloc[fp_indices_pos_match]['text'].values\n",
    "# fn_reviews = df_val.iloc[fn_indices_pos_match]['text'].values\n",
    "pos_pred_reviews = df_val.iloc[positive_indices]['text'].values \n",
    "\n",
    "# Tokenize the false positive and false negative reviews\n",
    "fp_tokens = [preprocessing.tokenize(review, rm_stopwords=True, stopword_set=my_stop_words) for review in fp_reviews]\n",
    "# fn_tokens = [tokenize(review, rm_stopwords=True, stopword_set=my_stop_words) for review in fn_reviews]\n",
    "pos_pred_tokens = [preprocessing.tokenize(review, rm_stopwords=True, stopword_set=my_stop_words) for review in pos_pred_reviews]\n",
    "\n",
    "# Flatten the lists of tokens\n",
    "fp_reviews_flat = [token for review in fp_tokens for token in review]\n",
    "# fn_reviews_flat = [token for review in fn_tokens for token in review]\n",
    "pos_pred_reviews_flat = [token for review in pos_pred_tokens for token in review]\n",
    "\n",
    "# Count the frequency of each token in the false positive and false negative reviews\n",
    "fp_counter = collections.Counter(fp_reviews_flat)\n",
    "# fn_counter = collections.Counter(fn_reviews_flat)\n",
    "pos_pred_counter = collections.Counter(pos_pred_reviews_flat)"
   ]
  },
  {
   "cell_type": "code",
   "execution_count": 24,
   "id": "45fc5110",
   "metadata": {},
   "outputs": [
    {
     "name": "stdout",
     "output_type": "stream",
     "text": [
      "running 1.0\n",
      "dull 1.0\n",
      "minutes 0.9\n",
      "idea 0.8888888888888888\n",
      "ending 0.8571428571428571\n",
      "sandler 0.8571428571428571\n",
      "wrong 0.8333333333333334\n",
      "joke 0.8333333333333334\n",
      "cut 0.8\n",
      "play 0.8\n",
      "predictable 0.8\n",
      "silly 0.8\n",
      "scene 0.8\n",
      "beyond 0.8\n",
      "talent 0.8\n",
      "science 0.8\n",
      "teen 0.8\n",
      "level 0.8\n",
      "sure 0.8\n",
      "george 0.8\n",
      "energy 0.75\n",
      "bad 0.7222222222222222\n",
      "every 0.7142857142857143\n",
      "lacks 0.7142857142857143\n",
      "looking 0.7142857142857143\n",
      "together 0.7\n",
      "mind 0.6666666666666666\n",
      "fine 0.6666666666666666\n",
      "simply 0.6666666666666666\n",
      "nearly 0.6666666666666666\n"
     ]
    }
   ],
   "source": [
    "# Set minimum word frequency to filter out rare words\n",
    "min_word_freq = 4\n",
    "\n",
    "# Let's create a ratio of occurences in the false positives over all of the positive instances\n",
    "# A value of 1 means that the word appears only in the false positives\n",
    "fp_ratio = {word: fp_counter.get(word, 0) / (fp_counter.get(word, 0) + pos_pred_counter.get(word, 0)) \n",
    "            for word in fp_counter if fp_counter.get(word, 0) + pos_pred_counter.get(word, 0) > min_word_freq}\n",
    "\n",
    "#Let's sort the words by the ratio\n",
    "fp_ratio = sorted(fp_ratio.items(), key=lambda x: x[1], reverse=True)\n",
    "\n",
    "# Let's print the words that appear a lot in the false positives but not so much in the false negatives\n",
    "for word, ratio in fp_ratio[:30]:\n",
    "    print(word, ratio)"
   ]
  },
  {
   "cell_type": "markdown",
   "id": "df46487e",
   "metadata": {},
   "source": [
    "These words should be considered to detect negative reviews instead of positive reviews. To that end, below we extend the regex classification function to consider that, whenever a review contains more of the positive words than of the negative words of the false positive list identified above, it will be classified as positive, otherwise as negative."
   ]
  },
  {
   "cell_type": "code",
   "execution_count": 25,
   "id": "8728e8ed",
   "metadata": {},
   "outputs": [],
   "source": [
    "# We create a regex pattern to match the common words of positive reviews:\n",
    "# it captures ANY of the words in the set created above and ignores the case\n",
    "pattern_pos = re.compile(r\"(\" + \"|\".join(pos_common_words_set) + r\")\", re.IGNORECASE)\n",
    "pattern_neg = re.compile(r\"(\" + \"|\".join(neg_common_words_set) + r\")\", re.IGNORECASE)\n",
    "\n",
    "# Extract the true labels of the validation set\n",
    "y_test_true = df_test[\"label\"].to_list()"
   ]
  },
  {
   "cell_type": "markdown",
   "id": "93ad05e6",
   "metadata": {},
   "source": [
    "Now, we use the classifier and compute the metrics for the test set, both with the initial pattern and with the extended pattern."
   ]
  },
  {
   "cell_type": "markdown",
   "id": "161a4425",
   "metadata": {},
   "source": [
    "Initial pattern:"
   ]
  },
  {
   "cell_type": "code",
   "execution_count": null,
   "id": "51c9fd18",
   "metadata": {},
   "outputs": [],
   "source": []
  },
  {
   "cell_type": "code",
   "execution_count": 27,
   "id": "8508af0a",
   "metadata": {},
   "outputs": [
    {
     "name": "stdout",
     "output_type": "stream",
     "text": [
      "Metrics calculated for: Regex Classifier (Positive Match)\n",
      "\n",
      "========================================\n",
      "Metrics for Regex Classifier (Positive Match)\n",
      "========================================\n",
      "\n",
      "Accuracy: 52.72%\n",
      "\n",
      "Precision: 52.90%\n",
      "\n",
      "Recall: 52.72%\n",
      "\n",
      "F1 Score: 51.96%\n",
      "\n",
      "False Positives and Negatives for Regex Baseline (Positive Match), Test set:\n",
      "-----------------------------------------------------\n",
      "False Positives: 319 examples\n",
      "False Negatives: 185 examples\n"
     ]
    }
   ],
   "source": [
    "# For each review, make the predictions using the regex classifier\n",
    "y_test_pred_pos_match = [regex_classifiers.regex_classifier(review, pattern_pos, match_label=1) for review in df_test[\"text\"].values]\n",
    "# Compute the metrics for the baseline model and the test set\n",
    "metrics_test = metrics.Metrics()\n",
    "metrics_test.run(\n",
    "    y_true=y_test_true,\n",
    "    y_pred=y_test_pred_pos_match,\n",
    "    method_name=\"Regex Classifier (Positive Match)\",\n",
    "    average='macro'\n",
    ")\n",
    "metrics_test.print_results()\n",
    "\n",
    "# Let's identify the false positives and negatives for positive match\n",
    "fp_indices_pos_match = []  # Predicted positive but actually negative\n",
    "fn_indices_pos_match = []  # Predicted negative but actually positive\n",
    "\n",
    "print(\"\\nFalse Positives and Negatives for Regex Baseline (Positive Match), Test set:\")\n",
    "print(\"-----------------------------------------------------\")\n",
    "\n",
    "for i, (true, pred) in enumerate(zip(y_test_true, y_test_pred_pos_match)):\n",
    "    if true == 0 and pred == 1:\n",
    "        fp_indices_pos_match.append(i)\n",
    "    elif true == 1 and pred == 0:\n",
    "        fn_indices_pos_match.append(i)\n",
    "\n",
    "print(\"False Positives:\", len(fp_indices_pos_match), \"examples\")\n",
    "print(\"False Negatives:\", len(fn_indices_pos_match), \"examples\")"
   ]
  },
  {
   "cell_type": "markdown",
   "id": "142a67a3",
   "metadata": {},
   "source": [
    "Extended pattern:"
   ]
  },
  {
   "cell_type": "code",
   "execution_count": 31,
   "id": "2493049a",
   "metadata": {},
   "outputs": [
    {
     "name": "stdout",
     "output_type": "stream",
     "text": [
      "Metrics calculated for: Regex Classifier - Extended\n",
      "\n",
      "========================================\n",
      "Metrics for Regex Classifier (Positive Match)\n",
      "========================================\n",
      "\n",
      "Accuracy: 52.72%\n",
      "\n",
      "Precision: 52.90%\n",
      "\n",
      "Recall: 52.72%\n",
      "\n",
      "F1 Score: 51.96%\n",
      "\n",
      "========================================\n",
      "Metrics for Regex Classifier - Extended\n",
      "========================================\n",
      "\n",
      "Accuracy: 55.72%\n",
      "\n",
      "Precision: 55.81%\n",
      "\n",
      "Recall: 55.72%\n",
      "\n",
      "F1 Score: 55.55%\n",
      "\n",
      "False Positives and Negatives for Regex Baseline (Positive Match), Test set:\n",
      "-----------------------------------------------------\n",
      "False Positives: 203 examples\n",
      "False Negatives: 269 examples\n"
     ]
    }
   ],
   "source": [
    "# Set a threshold for the ratio of words in FP and not in positive reviews (1 for words that appear only in false positives and not in actual positives)\n",
    "threshold = 0.6\n",
    "\n",
    "# Filter the words based on the threshold\n",
    "fp_ratio_threshold = [(word, ratio) for word, ratio in fp_ratio if ratio >= threshold]\n",
    "\n",
    "# Extract the words and ratio of the words of false positives\n",
    "fp_words, fp_ratio_value = zip(*fp_ratio_threshold)\n",
    "\n",
    "# Create a set of the words\n",
    "fp_words_set = set(fp_words)\n",
    "\n",
    "# Create a regex pattern to match the common words of false positives\n",
    "pattern_fp = re.compile(r\"(\" + \"|\".join(fp_words_set) + r\")\", re.IGNORECASE)\n",
    "\n",
    "# For each review, make the predictions using the regex classifier\n",
    "y_test_pred_ext = [regex_classifiers.regex_classifier_ext(review, pattern_pos, pattern_fp) for review in df_test[\"text\"].values]\n",
    "metrics_test.run(\n",
    "    y_true=y_test_true,\n",
    "    y_pred=y_test_pred_ext,\n",
    "    method_name=\"Regex Classifier - Extended\",\n",
    "    average='macro'\n",
    ")\n",
    "metrics_test.print_results()\n",
    "\n",
    "# Let's identify the false positives and negatives for positive match\n",
    "fp_indices_pos_match = []  # Predicted positive but actually negative\n",
    "fn_indices_pos_match = []  # Predicted negative but actually positive\n",
    "\n",
    "print(\"\\nFalse Positives and Negatives for Regex Baseline (Positive Match), Test set:\")\n",
    "print(\"-----------------------------------------------------\")\n",
    "\n",
    "for i, (true, pred) in enumerate(zip(y_test_true, y_test_pred_ext)):\n",
    "    if true == 0 and pred == 1:\n",
    "        fp_indices_pos_match.append(i)\n",
    "    elif true == 1 and pred == 0:\n",
    "        fn_indices_pos_match.append(i)\n",
    "\n",
    "print(\"False Positives:\", len(fp_indices_pos_match), \"examples\")\n",
    "print(\"False Negatives:\", len(fn_indices_pos_match), \"examples\")"
   ]
  },
  {
   "cell_type": "markdown",
   "id": "fa499b42",
   "metadata": {},
   "source": [
    "There is something interesting to note here, but that is expected: lowering the threshold for the ratio of words of false positives in the validation set decreases the number of false positives. This can be attributed mainly to the fact that the search for words typically in negative reviews will be extended, and thus it will be more possible that a review is not incorrectly classified as positive. \n",
    "\n",
    "Finally, **note that the performance of this approach could be potentially improved by handpicking those words which make sense for each type of review**, and selecting those which make more (intuitive) sense to include for each label."
   ]
  },
  {
   "cell_type": "markdown",
   "id": "561c35ce",
   "metadata": {},
   "source": [
    "# 2. Part 2: Machine Learning with TF-IDF and Logistic Regression (3 points)\n",
    "\n",
    "**Objective**: Build and evaluate a sentiment analysis model using TF-IDF vectorization and logistic regression."
   ]
  },
  {
   "cell_type": "markdown",
   "id": "7f681d1b",
   "metadata": {},
   "source": [
    "## 2.1. Model Fitting \n",
    "\n",
    "(0.5 points): Train a logistic regression model on TF-IDF vectors of the movie reviews."
   ]
  },
  {
   "cell_type": "markdown",
   "id": "d785edfc",
   "metadata": {},
   "source": [
    "## 2.2. Feature Importance Analysis\n",
    "\n",
    "(0.5 points): Identify and interpret the most influential features in your model. "
   ]
  },
  {
   "cell_type": "markdown",
   "id": "24487c11",
   "metadata": {},
   "source": [
    "## 2.3. Preprocessing Improvements\n",
    "\n",
    "(1 point): Experiment with different preprocessing techniques of your training set to enhance model performance. Summarize the impact of these modifications."
   ]
  },
  {
   "cell_type": "markdown",
   "id": "06a7084c",
   "metadata": {},
   "source": [
    "## 2.4. Word2Vec Embeddings \n",
    "\n",
    "(0.5 points each for a. and b.)"
   ]
  },
  {
   "cell_type": "markdown",
   "id": "95964f69",
   "metadata": {},
   "source": [
    "### a. Implement sentence embedding using the mean of word vectors and retrain your logistic regression model."
   ]
  },
  {
   "cell_type": "markdown",
   "id": "b16fb438",
   "metadata": {},
   "source": [
    "### b. Create sentence embeddings using TF-IDF weighted averages of word vectors and retrain the model. Compare this approach with the mean embedding technique. Comment."
   ]
  },
  {
   "cell_type": "markdown",
   "id": "f6a269b9",
   "metadata": {},
   "source": [
    "# 3. Part 3: Recurrent Neural Networks (RNN) with Word2Vec (4 points)\n",
    "\n",
    "**Objective**: Explore the application of RNNs for sentiment analysis, utilizing pre-trained Word2Vec embeddings."
   ]
  },
  {
   "cell_type": "markdown",
   "id": "decc0a07",
   "metadata": {},
   "source": [
    "## 3.1. RNN Implementation\n",
    "\n",
    "(1 point for each section)"
   ]
  },
  {
   "cell_type": "markdown",
   "id": "837d2b99",
   "metadata": {},
   "source": [
    "### a. Fit an RNN model with LSTM units using Word2Vec embeddings. Analyze and compare its performance with the TF-IDF based logistic regression model. \n",
    "\n",
    "(1 point)"
   ]
  },
  {
   "cell_type": "markdown",
   "id": "16df77cc",
   "metadata": {},
   "source": [
    "### b. Discuss any notable differences in results.\n",
    "\n",
    "(1 point)"
   ]
  },
  {
   "cell_type": "markdown",
   "id": "6c656ef3",
   "metadata": {},
   "source": [
    "## 3.2. Word2Vec Vectors Analysis \n",
    "\n",
    "(1 point for each section)"
   ]
  },
  {
   "cell_type": "markdown",
   "id": "22022d7b",
   "metadata": {},
   "source": [
    "### a. Before and After Fine-Tuning\n",
    "\n",
    "(1 point): Examine the evolution of word vectors by comparing them before and after fine-tuning on the movie review dataset. Provide insights into the changes observed."
   ]
  },
  {
   "cell_type": "markdown",
   "id": "166edcc7",
   "metadata": {},
   "source": [
    "### b. Visualization and Commentary\n",
    "\n",
    "(1 point): Visualize the embeddings of select words before and after fine-tuning using a tool like t-SNE or PCA. Comment on any patterns or shifts in word associations."
   ]
  }
 ],
 "metadata": {
  "kernelspec": {
   "display_name": "bse-nlp-y6-47KiC-py3.12",
   "language": "python",
   "name": "python3"
  },
  "language_info": {
   "codemirror_mode": {
    "name": "ipython",
    "version": 3
   },
   "file_extension": ".py",
   "mimetype": "text/x-python",
   "name": "python",
   "nbconvert_exporter": "python",
   "pygments_lexer": "ipython3",
   "version": "3.12.9"
  }
 },
 "nbformat": 4,
 "nbformat_minor": 5
}
