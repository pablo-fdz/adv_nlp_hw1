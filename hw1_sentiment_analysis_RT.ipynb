{
 "cells": [
  {
   "cell_type": "markdown",
   "id": "6a91f4c2",
   "metadata": {},
   "source": [
    "# 0. Introduction\n",
    "\n",
    "*Author*: Pablo Fernández"
   ]
  },
  {
   "cell_type": "markdown",
   "id": "7a315579",
   "metadata": {},
   "source": [
    "## 0.1. Libraries"
   ]
  },
  {
   "cell_type": "code",
   "execution_count": 1,
   "id": "9b1ae37d",
   "metadata": {},
   "outputs": [],
   "source": [
    "# !pip install pandarallel\n",
    "# !pip install ipywidgets\n",
    "# !pip install gensim"
   ]
  },
  {
   "cell_type": "code",
   "execution_count": 88,
   "id": "efca8584",
   "metadata": {},
   "outputs": [],
   "source": [
    "# Custom library\n",
    "from hw1_library import metrics, preprocessing, regex_classifiers\n",
    "\n",
    "# Utilities\n",
    "import pandas as pd\n",
    "import re  # For regex expressions\n",
    "import collections  # For counting\n",
    "import numpy as np\n",
    "import matplotlib.pyplot as plt\n",
    "from sklearn.linear_model import LogisticRegression\n",
    "from sklearn.pipeline import Pipeline\n",
    "from pandarallel import pandarallel\n",
    "from sklearn.model_selection import RandomizedSearchCV\n",
    "from scipy.stats import uniform\n",
    "import pickle\n",
    "import os\n",
    "from tqdm import tqdm\n",
    "\n",
    "# Basic NLP\n",
    "from nltk.corpus import stopwords  # Stopwords list\n",
    "from sklearn.feature_extraction.text import TfidfVectorizer\n",
    "\n",
    "# Pre-trained embeddings\n",
    "import gensim.downloader as api\n",
    "\n",
    "# Deep learning\n",
    "from tensorflow.keras.preprocessing.text import Tokenizer\n",
    "from tensorflow.keras.preprocessing.sequence import pad_sequences\n",
    "from tensorflow.keras.utils import to_categorical\n",
    "from tensorflow.keras.models import Sequential\n",
    "from tensorflow.keras.layers import Embedding, Bidirectional, Dropout, LSTM, Dense, Flatten\n",
    "from tensorflow.keras.callbacks import EarlyStopping, ModelCheckpoint\n",
    "from keras.regularizers import l2"
   ]
  },
  {
   "cell_type": "markdown",
   "id": "bde522d8",
   "metadata": {},
   "source": [
    "## 0.2. Data\n",
    "\n",
    "**Dataset**: https://huggingface.co/datasets/rotten_tomatoes"
   ]
  },
  {
   "cell_type": "markdown",
   "id": "ba497b50",
   "metadata": {},
   "source": [
    "### Data loading"
   ]
  },
  {
   "cell_type": "code",
   "execution_count": 3,
   "id": "0950ab4c",
   "metadata": {},
   "outputs": [],
   "source": [
    "splits = {'train': 'train.parquet', 'validation': 'validation.parquet', 'test': 'test.parquet'}\n",
    "\n",
    "df_train = pd.read_parquet(\"hf://datasets/cornell-movie-review-data/rotten_tomatoes/\" + splits[\"train\"])\n",
    "\n",
    "df_val = pd.read_parquet(\"hf://datasets/cornell-movie-review-data/rotten_tomatoes/\" + splits[\"validation\"])\n",
    "\n",
    "df_test = pd.read_parquet(\"hf://datasets/cornell-movie-review-data/rotten_tomatoes/\" + splits[\"test\"])\n",
    "\n",
    "df_dict = {\n",
    "    \"train\": df_train,\n",
    "    \"validation\": df_val,\n",
    "    \"test\": df_test\n",
    "}"
   ]
  },
  {
   "cell_type": "markdown",
   "id": "1ff81f5c",
   "metadata": {},
   "source": [
    "### Basic EDA"
   ]
  },
  {
   "cell_type": "code",
   "execution_count": 4,
   "id": "07873b6e",
   "metadata": {},
   "outputs": [
    {
     "data": {
      "text/html": [
       "<div>\n",
       "<style scoped>\n",
       "    .dataframe tbody tr th:only-of-type {\n",
       "        vertical-align: middle;\n",
       "    }\n",
       "\n",
       "    .dataframe tbody tr th {\n",
       "        vertical-align: top;\n",
       "    }\n",
       "\n",
       "    .dataframe thead th {\n",
       "        text-align: right;\n",
       "    }\n",
       "</style>\n",
       "<table border=\"1\" class=\"dataframe\">\n",
       "  <thead>\n",
       "    <tr style=\"text-align: right;\">\n",
       "      <th></th>\n",
       "      <th>text</th>\n",
       "      <th>label</th>\n",
       "    </tr>\n",
       "  </thead>\n",
       "  <tbody>\n",
       "    <tr>\n",
       "      <th>0</th>\n",
       "      <td>the rock is destined to be the 21st century's ...</td>\n",
       "      <td>1</td>\n",
       "    </tr>\n",
       "    <tr>\n",
       "      <th>1</th>\n",
       "      <td>the gorgeously elaborate continuation of \" the...</td>\n",
       "      <td>1</td>\n",
       "    </tr>\n",
       "    <tr>\n",
       "      <th>2</th>\n",
       "      <td>effective but too-tepid biopic</td>\n",
       "      <td>1</td>\n",
       "    </tr>\n",
       "    <tr>\n",
       "      <th>3</th>\n",
       "      <td>if you sometimes like to go to the movies to h...</td>\n",
       "      <td>1</td>\n",
       "    </tr>\n",
       "    <tr>\n",
       "      <th>4</th>\n",
       "      <td>emerges as something rare , an issue movie tha...</td>\n",
       "      <td>1</td>\n",
       "    </tr>\n",
       "  </tbody>\n",
       "</table>\n",
       "</div>"
      ],
      "text/plain": [
       "                                                text  label\n",
       "0  the rock is destined to be the 21st century's ...      1\n",
       "1  the gorgeously elaborate continuation of \" the...      1\n",
       "2                     effective but too-tepid biopic      1\n",
       "3  if you sometimes like to go to the movies to h...      1\n",
       "4  emerges as something rare , an issue movie tha...      1"
      ]
     },
     "execution_count": 4,
     "metadata": {},
     "output_type": "execute_result"
    }
   ],
   "source": [
    "df_train.head()"
   ]
  },
  {
   "cell_type": "markdown",
   "id": "d3a6bf12",
   "metadata": {},
   "source": [
    "Features (taken from the dataset's website):\n",
    "- `text`: a string feature.\n",
    "- `label`: a classification label, with possible values including *neg* (0, which stands for negative reviews), *pos* (1, which stands for positive reviews)."
   ]
  },
  {
   "cell_type": "code",
   "execution_count": 5,
   "id": "e9032558",
   "metadata": {},
   "outputs": [
    {
     "name": "stdout",
     "output_type": "stream",
     "text": [
      "Number of rows in each split:\n",
      "train: 8530\n",
      "validation: 1066\n",
      "test: 1066\n"
     ]
    }
   ],
   "source": [
    "# Print the number of rows in each split\n",
    "print(\"Number of rows in each split:\")\n",
    "for split, df in df_dict.items():\n",
    "    print(f\"{split}: {len(df)}\")"
   ]
  },
  {
   "cell_type": "markdown",
   "id": "945f79ac",
   "metadata": {},
   "source": [
    "Below, we check how balanced is the data: what is the ratio of positive and negative reviews in each split?"
   ]
  },
  {
   "cell_type": "code",
   "execution_count": 6,
   "id": "5fe5636b",
   "metadata": {},
   "outputs": [
    {
     "name": "stdout",
     "output_type": "stream",
     "text": [
      "Proportion of positive and negative reviews in each split:\n",
      "train: Positive: 0.50, Negative: 0.50\n",
      "validation: Positive: 0.50, Negative: 0.50\n",
      "test: Positive: 0.50, Negative: 0.50\n"
     ]
    }
   ],
   "source": [
    "# Print the proportion of positive and negative reviews in each split\n",
    "print(\"Proportion of positive and negative reviews in each split:\")\n",
    "for split, df in df_dict.items():\n",
    "    pos_count = len(df[df['label'] == 1])\n",
    "    neg_count = len(df[df['label'] == 0])\n",
    "    total_count = len(df)\n",
    "    pos_proportion = pos_count / total_count\n",
    "    neg_proportion = neg_count / total_count\n",
    "    print(f\"{split}: Positive: {pos_proportion:.2f}, Negative: {neg_proportion:.2f}\")"
   ]
  },
  {
   "cell_type": "markdown",
   "id": "42082e8c",
   "metadata": {},
   "source": [
    "As can be seen above, the data is highly balanced in all of the splits.\n",
    "\n",
    "Finally, how long are, on average, the reviews in each split?"
   ]
  },
  {
   "cell_type": "code",
   "execution_count": 7,
   "id": "bd58fbf4",
   "metadata": {},
   "outputs": [
    {
     "name": "stdout",
     "output_type": "stream",
     "text": [
      "\n",
      "Summary statistics for train split:\n",
      "--------------------------------------------------------------------------------\n",
      "             label  text_length  unique_word_count\n",
      "count  8530.000000  8530.000000        8530.000000\n",
      "mean      0.500000    20.992849          18.837515\n",
      "std       0.500029     9.371094           7.822833\n",
      "min       0.000000     1.000000           1.000000\n",
      "25%       0.000000    14.000000          13.000000\n",
      "50%       0.500000    20.000000          19.000000\n",
      "75%       1.000000    27.000000          24.000000\n",
      "max       1.000000    59.000000          45.000000\n",
      "\n",
      "Summary statistics for validation split:\n",
      "--------------------------------------------------------------------------------\n",
      "             label  text_length  unique_word_count\n",
      "count  1066.000000  1066.000000        1066.000000\n",
      "mean      0.500000    20.997186          18.745779\n",
      "std       0.500235     9.639950           7.967075\n",
      "min       0.000000     1.000000           1.000000\n",
      "25%       0.000000    14.000000          13.000000\n",
      "50%       0.500000    21.000000          19.000000\n",
      "75%       1.000000    27.000000          24.000000\n",
      "max       1.000000    54.000000          41.000000\n",
      "\n",
      "Summary statistics for test split:\n",
      "--------------------------------------------------------------------------------\n",
      "             label  text_length  unique_word_count\n",
      "count  1066.000000  1066.000000        1066.000000\n",
      "mean      0.500000    21.220450          18.957786\n",
      "std       0.500235     9.518807           7.775555\n",
      "min       0.000000     3.000000           3.000000\n",
      "25%       0.000000    14.000000          13.000000\n",
      "50%       0.500000    20.000000          19.000000\n",
      "75%       1.000000    27.750000          24.000000\n",
      "max       1.000000    52.000000          42.000000\n"
     ]
    }
   ],
   "source": [
    "for split, df in df_dict.items():\n",
    "    \n",
    "    # Compute the total length of each review per split\n",
    "    if 'text_length' not in df.columns:\n",
    "        df['text_length'] = df['text'].apply(lambda x: len(x.split()))\n",
    "    \n",
    "    # Compute the unique word count for each review\n",
    "    df['unique_word_count'] = df['text'].apply(lambda x: len(set(x.split())))\n",
    "    \n",
    "    print(f\"\\nSummary statistics for {split} split:\")\n",
    "    print(\"--\" * 40)\n",
    "\n",
    "    print(df.describe())"
   ]
  },
  {
   "cell_type": "markdown",
   "id": "296e0ed8",
   "metadata": {},
   "source": [
    "We can quickly observe that, overall, the included texts (reviews) are short in length (on average, of 21 words)."
   ]
  },
  {
   "cell_type": "markdown",
   "id": "5e824a08",
   "metadata": {},
   "source": [
    "## 0.3. Submission Guidelines\n",
    "\n",
    "- Document your code, analysis, and findings in a Jupyter notebook. 1 point on code quality/presentation of results.\n",
    "- Include comments and markdown cells to explain your logic and interpretations at each step.\n",
    "- Submit the notebook file via colab."
   ]
  },
  {
   "cell_type": "markdown",
   "id": "9789c230",
   "metadata": {},
   "source": [
    "## 0.4. Configurable parameters"
   ]
  },
  {
   "cell_type": "code",
   "execution_count": 8,
   "id": "51b0fc4a",
   "metadata": {},
   "outputs": [],
   "source": [
    "metric_avg = 'macro' # Either 'macro', 'micro' or 'weighted'"
   ]
  },
  {
   "cell_type": "markdown",
   "id": "f82f01f9",
   "metadata": {},
   "source": [
    "# 1. Part 1: Rule-based Analysis using regexes (2 points)\n",
    "\n",
    "**Objective**: Utilize regexes to classify movie reviews as positive or negative based on predefined linguistic rules.\n",
    "\n",
    "To do this, first we must get a basic idea of the most common words of positive and negative reviews. A basic approach to do this is shown below, where I tokenize the reviews depending on the type of review (positive - 1 or negative - 0). "
   ]
  },
  {
   "cell_type": "code",
   "execution_count": 9,
   "id": "d3801e20",
   "metadata": {},
   "outputs": [
    {
     "name": "stdout",
     "output_type": "stream",
     "text": [
      "['the rock is destined to be the 21st century\\'s new \" conan \" and that he\\'s going to make a splash even greater than arnold schwarzenegger , jean-claud van damme or steven segal .'\n",
      " 'the gorgeously elaborate continuation of \" the lord of the rings \" trilogy is so huge that a column of words cannot adequately describe co-writer/director peter jackson\\'s expanded vision of j . r . r . tolkien\\'s middle-earth .']\n"
     ]
    }
   ],
   "source": [
    "# We extract the text of the positive reviews and the text of the negative reviews as numpy arrays\n",
    "pos_reviews = df_train[df_train[\"label\"] == 1][\"text\"].values\n",
    "neg_reviews = df_train[df_train[\"label\"] == 0][\"text\"].values\n",
    "\n",
    "print(pos_reviews[0:2])"
   ]
  },
  {
   "cell_type": "markdown",
   "id": "ce7acf15",
   "metadata": {},
   "source": [
    "Note that below we do not remove digits, as in this case they might contain relevant information about the sentiment of the review."
   ]
  },
  {
   "cell_type": "code",
   "execution_count": 10,
   "id": "a68fbf4f",
   "metadata": {},
   "outputs": [
    {
     "name": "stdout",
     "output_type": "stream",
     "text": [
      "Tokenized positive reviews:\n",
      "[['rock', 'destined', '21st', 'century', 'new', 'conan', 'going', 'make', 'splash', 'even', 'greater', 'arnold', 'schwarzenegger', 'jean', 'claud', 'van', 'damme', 'steven', 'segal'], ['gorgeously', 'elaborate', 'continuation', 'lord', 'rings', 'trilogy', 'huge', 'column', 'words', 'cannot', 'adequately', 'describe', 'co', 'writer', 'director', 'peter', 'jackson', 'expanded', 'vision', 'j', 'r', 'r', 'tolkien', 'middle', 'earth']]\n",
      "\n",
      "Tokenized negative reviews:\n",
      "[['simplistic', 'silly', 'tedious'], ['laddish', 'juvenile', 'teenage', 'boys', 'could', 'possibly', 'find', 'funny']]\n"
     ]
    }
   ],
   "source": [
    "my_stop_words = set(stopwords.words('english'))\n",
    "\n",
    "# Tokenize the positive reviews (creates a 2-D list, where each list is a review)\n",
    "pos_reviews_tokens = [preprocessing.lower_nostop(review, rm_stopwords=True, stopword_set=my_stop_words) for review in pos_reviews]\n",
    "# Tokenize the negative reviews (creates a 2-D list, where each list is a review)\n",
    "neg_reviews_tokens = [preprocessing.lower_nostop(review, rm_stopwords=True, stopword_set=my_stop_words) for review in neg_reviews]\n",
    "\n",
    "print(\"Tokenized positive reviews:\")\n",
    "print(pos_reviews_tokens[0:2])\n",
    "print(\"\\nTokenized negative reviews:\")\n",
    "print(neg_reviews_tokens[0:2])"
   ]
  },
  {
   "cell_type": "code",
   "execution_count": 11,
   "id": "bd6bd38c",
   "metadata": {},
   "outputs": [],
   "source": [
    "# Flatten the lists of tokens\n",
    "pos_reviews_flat = [token for review in pos_reviews_tokens for token in review]\n",
    "neg_reviews_flat = [token for review in neg_reviews_tokens for token in review]\n",
    "\n",
    "# Count the frequency of each token in the positive reviews\n",
    "pos_counter = collections.Counter(pos_reviews_flat)\n",
    "neg_counter = collections.Counter(neg_reviews_flat)"
   ]
  },
  {
   "cell_type": "code",
   "execution_count": 12,
   "id": "f2e51df1",
   "metadata": {},
   "outputs": [
    {
     "name": "stdout",
     "output_type": "stream",
     "text": [
      "Positive review token counts (10 most common words):\n",
      "[('film', 695), ('movie', 445), ('one', 288), ('like', 223), ('story', 197), ('good', 177), ('comedy', 167), ('well', 150), ('even', 146), ('funny', 144)]\n",
      "\n",
      "Negative review token counts (10 most common words):\n",
      "[('movie', 671), ('film', 563), ('like', 364), ('one', 310), ('story', 190), ('much', 179), ('bad', 176), ('time', 161), ('even', 161), ('good', 152)]\n"
     ]
    }
   ],
   "source": [
    "print(\"Positive review token counts (10 most common words):\")\n",
    "print(pos_counter.most_common(10))\n",
    "\n",
    "print(\"\\nNegative review token counts (10 most common words):\")\n",
    "print(neg_counter.most_common(10))"
   ]
  },
  {
   "cell_type": "markdown",
   "id": "88518bad",
   "metadata": {},
   "source": [
    "Note that, as seen above (section 0.2), negative reviews are, on average, of the same length of positive reviews (in the training, validation and test splits). Therefore, even if this rule-based analysis is a naive approach, it is reasonable to compare the most frequent words for each type of reviews.  "
   ]
  },
  {
   "cell_type": "code",
   "execution_count": 13,
   "id": "e74daad1",
   "metadata": {},
   "outputs": [
    {
     "data": {
      "image/png": "[encoded data removed]",
      "text/plain": [
       "<Figure size 1000x600 with 1 Axes>"
      ]
     },
     "metadata": {},
     "output_type": "display_data"
    }
   ],
   "source": [
    "num_most_common = 100\n",
    "\n",
    "# We get the frequency of the most common words in the positive reviews\n",
    "pos_counter_most_common = pos_counter.most_common(num_most_common)\n",
    "\n",
    "# Extract the words and frequency of the words of positive reviews\n",
    "pos_common_words, pos_common_freq = zip(*pos_counter_most_common)\n",
    "\n",
    "# Kernel density estimation\n",
    "plt.figure(figsize=(10, 6))\n",
    "plt.hist(pos_common_freq, bins=40, density=True)\n",
    "plt.title(f\"Histogram of the {num_most_common} most common words in positive reviews\")\n",
    "plt.xlabel(\"Word Frequency\")\n",
    "plt.ylabel(\"Density\")\n",
    "plt.show()"
   ]
  },
  {
   "cell_type": "code",
   "execution_count": 14,
   "id": "c5ede3a9",
   "metadata": {},
   "outputs": [
    {
     "data": {
      "image/png": "[encoded data removed]",
      "text/plain": [
       "<Figure size 1000x600 with 1 Axes>"
      ]
     },
     "metadata": {},
     "output_type": "display_data"
    }
   ],
   "source": [
    "# We get the frequency of the most common words in the negative reviews\n",
    "neg_counter_most_common = neg_counter.most_common(num_most_common)\n",
    "\n",
    "# Extract the words and frequency of the words of negative reviews\n",
    "neg_common_words, neg_common_freq = zip(*neg_counter_most_common)\n",
    "\n",
    "# Kernel density estimation\n",
    "plt.figure(figsize=(10, 6))\n",
    "plt.hist(neg_common_freq, bins=40, density=True, color='red')\n",
    "plt.title(f\"Histogram of the {num_most_common} most common words in negative reviews\")\n",
    "plt.xlabel(\"Word Frequency\")\n",
    "plt.ylabel(\"Density\")\n",
    "plt.show()"
   ]
  },
  {
   "cell_type": "markdown",
   "id": "7ff3c8a4",
   "metadata": {},
   "source": [
    "As expected, there is a large difference between the words with the highest frequency and the common words but with lower frequency. However, we can observe a clear problem in the simple inspection of the word counts above: the most common words are the same for both type of reviews! To solve that, we can simply consider the words that are NOT in the other type of reviews, which will further refine the stopword removal and help us differentiate the reviews."
   ]
  },
  {
   "cell_type": "code",
   "execution_count": 15,
   "id": "2586743c",
   "metadata": {},
   "outputs": [
    {
     "name": "stdout",
     "output_type": "stream",
     "text": [
      "\n",
      "Positive common words (without intersection):\n",
      "{'de', 'right', 'take', 'still', 'works', 'performance', 'ever', 'heart', 'performances', 'gives', 'often', 'family', 'entertaining', 'human', 'great', 'man', 'yet', 'compelling', 'worth', 'moving', 'cinema', 'world', 'fascinating', 'romantic', 'american', 'cast', 'seen', 'documentary', 'fun', 'part', 'tale', 'music'}\n",
      "Number of positive common words (without intersection): 32\n",
      "\n",
      "Negative common words (without intersection):\n",
      "{'rather', 'dull', 'material', 'silly', 'thing', 'things', 'bad', 'quite', 'hard', 'another', 'comes', 'feels', 'nothing', 'despite', 'go', 'interesting', 'video', 'less', 'lot', 'dialogue', 'end', 'half', 'script', 'acting', 'tv', 'watching', 'seem', 'point', 'seems', 'minutes', 'ultimately', 'almost'}\n",
      "Number of negative common words (without intersection): 32\n"
     ]
    }
   ],
   "source": [
    "# Create set of common words for both positive and negative reviews\n",
    "pos_common_words_set = set(pos_common_words)\n",
    "neg_common_words_set = set(neg_common_words)\n",
    "\n",
    "# Get the intersection of the two sets\n",
    "common_words_set = pos_common_words_set.intersection(neg_common_words_set)\n",
    "\n",
    "# Remove the intersection from the positive and negative common words\n",
    "pos_common_words_set = pos_common_words_set - common_words_set\n",
    "neg_common_words_set = neg_common_words_set - common_words_set\n",
    "\n",
    "print(\"\\nPositive common words (without intersection):\")\n",
    "print(pos_common_words_set)\n",
    "print(f\"Number of positive common words (without intersection): {len(pos_common_words_set)}\")\n",
    "print(\"\\nNegative common words (without intersection):\")\n",
    "print(neg_common_words_set)\n",
    "print(f\"Number of negative common words (without intersection): {len(neg_common_words_set)}\")"
   ]
  },
  {
   "cell_type": "markdown",
   "id": "f7068af8",
   "metadata": {},
   "source": [
    "## 1.1. Positive Reviews Rule Creation\n",
    "\n",
    "(0.5 points): Develop a rule using regexes to identify phrases commonly found in positive reviews. Justify your choice of patterns.\n",
    "\n",
    "Below, we use a simple rule where, if one of the words of the set of positive reviews created above appears in a review, it will be classified as a positive review, otherwise it will be classified as a negative review."
   ]
  },
  {
   "cell_type": "code",
   "execution_count": null,
   "id": "b6e918d6",
   "metadata": {},
   "outputs": [
    {
     "name": "stdout",
     "output_type": "stream",
     "text": [
      "[1, 1, 1, 1, 1]\n",
      "[0, 1, 1, 1, 1]\n"
     ]
    }
   ],
   "source": [
    "# We create a regex pattern to match the common words of positive reviews:\n",
    "# it captures ANY of the words in the set created above and ignores the case\n",
    "pattern = re.compile(r\"(\" + \"|\".join(pos_common_words_set) + r\")\", re.IGNORECASE)\n",
    "\n",
    "# Extract the true labels of the validation set\n",
    "y_val_true = df_val[\"label\"].to_list()\n",
    "\n",
    "# For each review, make the predictions using the regex classifier\n",
    "y_val_pred_pos_match = [regex_classifiers.regex_classifier(review, pattern, match_label=1) for review in df_val[\"text\"].values]\n",
    "\n",
    "print(y_val_true[0:5])\n",
    "print(y_val_pred_pos_match[0:5])"
   ]
  },
  {
   "cell_type": "code",
   "execution_count": null,
   "id": "0556f7bb",
   "metadata": {},
   "outputs": [
    {
     "name": "stdout",
     "output_type": "stream",
     "text": [
      "Review: compassionately explores the seemingly irreconcilable situation between conservative christian parents and their estranged gay and lesbian children .\n",
      "True label: 1, Predicted label: 0\n",
      "--------------------------------------------------------------------------------\n",
      "Review: the soundtrack alone is worth the price of admission .\n",
      "True label: 1, Predicted label: 1\n",
      "--------------------------------------------------------------------------------\n",
      "Review: rodriguez does a splendid job of racial profiling hollywood style--casting excellent latin actors of all ages--a trend long overdue .\n",
      "True label: 1, Predicted label: 1\n",
      "--------------------------------------------------------------------------------\n",
      "Review: beneath the film's obvious determination to shock at any cost lies considerable skill and determination , backed by sheer nerve .\n",
      "True label: 1, Predicted label: 1\n",
      "--------------------------------------------------------------------------------\n",
      "Review: bielinsky is a filmmaker of impressive talent .\n",
      "True label: 1, Predicted label: 1\n",
      "--------------------------------------------------------------------------------\n"
     ]
    }
   ],
   "source": [
    "# Inspect the text of the first 5 predictions of the validation set\n",
    "for i in range(5):\n",
    "    print(f\"Review: {df_val['text'].values[i]}\")\n",
    "    print(f\"True label: {y_val_true[i]}, Predicted label: {y_val_pred_pos_match[i]}\")\n",
    "    print(\"-\" * 80)"
   ]
  },
  {
   "cell_type": "markdown",
   "id": "583ba629",
   "metadata": {},
   "source": [
    "Prediction errors:\n",
    "- In the first review, the pattern is finding `seem` in `seemingly`, which is included as part of the set of words of negative reviews. This triggers a false negative.\n",
    "- In the third review, it is apparently matching `end` (in the set of words of negative reviews) with `trend`, which creates a false negative."
   ]
  },
  {
   "cell_type": "code",
   "execution_count": null,
   "id": "f697cc84",
   "metadata": {},
   "outputs": [
    {
     "name": "stdout",
     "output_type": "stream",
     "text": [
      "Metrics calculated for: Regex (Positive)\n",
      "\n",
      "========================================\n",
      "Metrics for Regex (Positive)\n",
      "========================================\n",
      "\n",
      "Accuracy: 55.82%\n",
      "\n",
      "Precision: 56.38%\n",
      "\n",
      "Recall: 55.82%\n",
      "\n",
      "F1 Score: 54.81%\n"
     ]
    }
   ],
   "source": [
    "metrics_val = metrics.Metrics()\n",
    "\n",
    "metrics_val.run(\n",
    "    y_true=y_val_true,\n",
    "    y_pred=y_val_pred_pos_match,\n",
    "    method_name=\"Regex (Positive)\",\n",
    "    average=metric_avg\n",
    ")\n",
    "\n",
    "metrics_val.print_results()"
   ]
  },
  {
   "cell_type": "markdown",
   "id": "eeb58197",
   "metadata": {},
   "source": [
    "This baseline classifier that detects positive reviews:\n",
    "- Creates several false positives, which leads to an accuracy and precision which are only slightly better than random guessing.\n",
    "- Is not very good at detecting positive instances, which leads to a relatively low recall (true positive predictions over all positive instances). "
   ]
  },
  {
   "cell_type": "markdown",
   "id": "a25fd634",
   "metadata": {},
   "source": [
    "## 1.2. Negative Reviews Rule Creation \n",
    "\n",
    "(0.5 points): Create a similar rule for detecting negative reviews. Explain the rationale behind the patterns selected."
   ]
  },
  {
   "cell_type": "code",
   "execution_count": null,
   "id": "144fca62",
   "metadata": {},
   "outputs": [
    {
     "name": "stdout",
     "output_type": "stream",
     "text": [
      "[1 1 1 1 1]\n",
      "[0, 1, 0, 1, 1]\n"
     ]
    }
   ],
   "source": [
    "# We create a regex pattern to match the common words of negative reviews:\n",
    "# it captures ANY of the words in the set created above and ignores the case\n",
    "pattern = re.compile(r\"(\" + \"|\".join(neg_common_words_set) + r\")\", re.IGNORECASE)\n",
    "\n",
    "# Extract the true labels of the validation set\n",
    "y_val_true = df_val[\"label\"].values\n",
    "\n",
    "# For each review, make the predictions using the regex classifier\n",
    "y_val_pred_neg_match = [regex_classifiers.regex_classifier(review, pattern, match_label=0) for review in df_val[\"text\"].values]\n",
    "\n",
    "print(y_val_true[0:5])\n",
    "print(y_val_pred_neg_match[0:5])"
   ]
  },
  {
   "cell_type": "code",
   "execution_count": null,
   "id": "b43aa871",
   "metadata": {},
   "outputs": [
    {
     "name": "stdout",
     "output_type": "stream",
     "text": [
      "Review: compassionately explores the seemingly irreconcilable situation between conservative christian parents and their estranged gay and lesbian children .\n",
      "True label: 1, Predicted label: 0\n",
      "--------------------------------------------------------------------------------\n",
      "Review: the soundtrack alone is worth the price of admission .\n",
      "True label: 1, Predicted label: 1\n",
      "--------------------------------------------------------------------------------\n",
      "Review: rodriguez does a splendid job of racial profiling hollywood style--casting excellent latin actors of all ages--a trend long overdue .\n",
      "True label: 1, Predicted label: 0\n",
      "--------------------------------------------------------------------------------\n",
      "Review: beneath the film's obvious determination to shock at any cost lies considerable skill and determination , backed by sheer nerve .\n",
      "True label: 1, Predicted label: 1\n",
      "--------------------------------------------------------------------------------\n",
      "Review: bielinsky is a filmmaker of impressive talent .\n",
      "True label: 1, Predicted label: 1\n",
      "--------------------------------------------------------------------------------\n"
     ]
    }
   ],
   "source": [
    "# Inspect the text of the first 5 predictions of the validation set\n",
    "for i in range(5):\n",
    "    print(f\"Review: {df_val['text'].values[i]}\")\n",
    "    print(f\"True label: {y_val_true[i]}, Predicted label: {y_val_pred_neg_match[i]}\")\n",
    "    print(\"-\" * 80)"
   ]
  },
  {
   "cell_type": "code",
   "execution_count": null,
   "id": "725fd2e4",
   "metadata": {},
   "outputs": [
    {
     "name": "stdout",
     "output_type": "stream",
     "text": [
      "Metrics calculated for: Regex (Negative)\n",
      "\n",
      "========================================\n",
      "Metrics for Regex (Positive)\n",
      "========================================\n",
      "\n",
      "Accuracy: 55.82%\n",
      "\n",
      "Precision: 56.38%\n",
      "\n",
      "Recall: 55.82%\n",
      "\n",
      "F1 Score: 54.81%\n",
      "\n",
      "========================================\n",
      "Metrics for Regex (Negative)\n",
      "========================================\n",
      "\n",
      "Accuracy: 57.41%\n",
      "\n",
      "Precision: 57.47%\n",
      "\n",
      "Recall: 57.41%\n",
      "\n",
      "F1 Score: 57.33%\n"
     ]
    }
   ],
   "source": [
    "metrics_val.run(\n",
    "    y_true=y_val_true,\n",
    "    y_pred=y_val_pred_neg_match,\n",
    "    method_name=\"Regex (Negative)\",\n",
    "    average=metric_avg\n",
    ")\n",
    "\n",
    "metrics_val.print_results()"
   ]
  },
  {
   "cell_type": "markdown",
   "id": "d91e62bc",
   "metadata": {},
   "source": [
    "Compared to the positive reviews detection, this rule-based system of detecting negative reviews is performing relatively better, over all metrics. This might denote that the **most common words of negative reviews used is more different than the most common words of positive reviews**. "
   ]
  },
  {
   "cell_type": "markdown",
   "id": "a16c7a96",
   "metadata": {},
   "source": [
    "## 1.3. Reducing False Positives \n",
    "\n",
    "(1 point): Propose and implement a rule to minimize false positives in your classifications. Discuss the improvements observed."
   ]
  },
  {
   "cell_type": "code",
   "execution_count": null,
   "id": "88261735",
   "metadata": {},
   "outputs": [
    {
     "name": "stdout",
     "output_type": "stream",
     "text": [
      "False Positives and Negatives for Regex Baseline (Positive Match):\n",
      "-----------------------------------------------------\n",
      "False Positives: 315 examples\n",
      "False Negatives: 156 examples\n",
      "\n",
      "False Positives (Regex Baseline - Positive Match):\n",
      "Review: bogs down badly as we absorb jia's moody , bad-boy behavior which he portrays himself in a one-note performance .\n",
      "True label: 0, Predicted label: 1\n",
      "--------------------------------------------------------------------------------\n",
      "Review: the camera whirls ! the camera twirls ! oh , look at that clever angle ! wow , a jump cut !\n",
      "True label: 0, Predicted label: 1\n",
      "--------------------------------------------------------------------------------\n",
      "Review: demme finally succeeds in diminishing his stature from oscar-winning master to lowly studio hack .\n",
      "True label: 0, Predicted label: 1\n",
      "--------------------------------------------------------------------------------\n",
      "Review: it almost feels as if the movie is more interested in entertaining itself than in amusing us .\n",
      "True label: 0, Predicted label: 1\n",
      "--------------------------------------------------------------------------------\n",
      "Review: it puts washington , as honest working man john q . archibald , on a pedestal , then keeps lifting the pedestal higher .\n",
      "True label: 0, Predicted label: 1\n",
      "--------------------------------------------------------------------------------\n",
      "\n",
      "False Negatives (Regex Baseline - Positive Match):\n",
      "Review: compassionately explores the seemingly irreconcilable situation between conservative christian parents and their estranged gay and lesbian children .\n",
      "True label: 1, Predicted label: 0\n",
      "--------------------------------------------------------------------------------\n",
      "Review: so beautifully acted and directed , it's clear that washington most certainly has a new career ahead of him if he so chooses .\n",
      "True label: 1, Predicted label: 0\n",
      "--------------------------------------------------------------------------------\n",
      "Review: a visual spectacle full of stunning images and effects .\n",
      "True label: 1, Predicted label: 0\n",
      "--------------------------------------------------------------------------------\n",
      "Review: a gentle and engrossing character study .\n",
      "True label: 1, Predicted label: 0\n",
      "--------------------------------------------------------------------------------\n",
      "Review: it's enough to watch huppert scheming , with her small , intelligent eyes as steady as any noir villain , and to enjoy the perfectly pitched web of tension that chabrol spins .\n",
      "True label: 1, Predicted label: 0\n",
      "--------------------------------------------------------------------------------\n"
     ]
    }
   ],
   "source": [
    "y_val_true = df_val[\"label\"].to_list()\n",
    "\n",
    "# Let's identify the false positives and negatives for positive match\n",
    "fp_indices_pos_match = []  # Predicted positive but actually negative\n",
    "fn_indices_pos_match = []  # Predicted negative but actually positive\n",
    "\n",
    "print(\"False Positives and Negatives for Regex Baseline (Positive Match):\")\n",
    "print(\"-----------------------------------------------------\")\n",
    "\n",
    "for i, (true, pred) in enumerate(zip(y_val_true, y_val_pred_pos_match)):\n",
    "    if true == 0 and pred == 1:\n",
    "        fp_indices_pos_match.append(i)\n",
    "    elif true == 1 and pred == 0:\n",
    "        fn_indices_pos_match.append(i)\n",
    "\n",
    "print(\"False Positives:\", len(fp_indices_pos_match), \"examples\")\n",
    "print(\"False Negatives:\", len(fn_indices_pos_match), \"examples\")\n",
    "\n",
    "# Print the first 5 false positives\n",
    "print(\"\\nFalse Positives (Regex Baseline - Positive Match):\")\n",
    "for i in fp_indices_pos_match[:5]:\n",
    "    print(f\"Review: {df_val['text'].values[i]}\")\n",
    "    print(f\"True label: {y_val_true[i]}, Predicted label: {y_val_pred_pos_match[i]}\")\n",
    "    print(\"-\" * 80)\n",
    "\n",
    "# Print the first 5 false negatives\n",
    "print(\"\\nFalse Negatives (Regex Baseline - Positive Match):\")\n",
    "for i in fn_indices_pos_match[:5]:\n",
    "    print(f\"Review: {df_val['text'].values[i]}\")\n",
    "    print(f\"True label: {y_val_true[i]}, Predicted label: {y_val_pred_pos_match[i]}\")\n",
    "    print(\"-\" * 80)"
   ]
  },
  {
   "cell_type": "code",
   "execution_count": null,
   "id": "1980e5a5",
   "metadata": {},
   "outputs": [
    {
     "name": "stdout",
     "output_type": "stream",
     "text": [
      "False Positives and Negatives for Regex Baseline (Negative Match):\n",
      "-----------------------------------------------------\n",
      "False Positives: 250 examples\n",
      "False Negatives: 204 examples\n",
      "\n",
      "False Positives (Regex Baseline - Negative Match):\n",
      "Review: the camera whirls ! the camera twirls ! oh , look at that clever angle ! wow , a jump cut !\n",
      "True label: 0, Predicted label: 1\n",
      "--------------------------------------------------------------------------------\n",
      "Review: demme finally succeeds in diminishing his stature from oscar-winning master to lowly studio hack .\n",
      "True label: 0, Predicted label: 1\n",
      "--------------------------------------------------------------------------------\n",
      "Review: it puts washington , as honest working man john q . archibald , on a pedestal , then keeps lifting the pedestal higher .\n",
      "True label: 0, Predicted label: 1\n",
      "--------------------------------------------------------------------------------\n",
      "Review: far more enjoyable than its predecessor .\n",
      "True label: 0, Predicted label: 1\n",
      "--------------------------------------------------------------------------------\n",
      "Review: a ragbag of cliches .\n",
      "True label: 0, Predicted label: 1\n",
      "--------------------------------------------------------------------------------\n",
      "\n",
      "False Negatives (Regex Baseline - Negative Match):\n",
      "Review: compassionately explores the seemingly irreconcilable situation between conservative christian parents and their estranged gay and lesbian children .\n",
      "True label: 1, Predicted label: 0\n",
      "--------------------------------------------------------------------------------\n",
      "Review: rodriguez does a splendid job of racial profiling hollywood style--casting excellent latin actors of all ages--a trend long overdue .\n",
      "True label: 1, Predicted label: 0\n",
      "--------------------------------------------------------------------------------\n",
      "Review: an engrossing portrait of uncompromising artists trying to create something original against the backdrop of a corporate music industry that only seems to care about the bottom line .\n",
      "True label: 1, Predicted label: 0\n",
      "--------------------------------------------------------------------------------\n",
      "Review: a mischievous visual style and oodles of charm make 'cherish' a very good ( but not great ) movie .\n",
      "True label: 1, Predicted label: 0\n",
      "--------------------------------------------------------------------------------\n",
      "Review: just as the recent argentine film son of the bride reminded us that a feel-good movie can still show real heart , time of favor presents us with an action movie that actually has a brain .\n",
      "True label: 1, Predicted label: 0\n",
      "--------------------------------------------------------------------------------\n"
     ]
    }
   ],
   "source": [
    "y_val_true = df_val[\"label\"].to_list()\n",
    "\n",
    "# Let's identify the false positives and negatives for negative match\n",
    "fp_indices_neg_match = []  # Predicted positive but actually negative\n",
    "fn_indices_neg_match = []  # Predicted negative but actually positive\n",
    "\n",
    "print(\"False Positives and Negatives for Regex Baseline (Negative Match):\")\n",
    "print(\"-----------------------------------------------------\")\n",
    "\n",
    "for i, (true, pred) in enumerate(zip(y_val_true, y_val_pred_neg_match)):\n",
    "    if true == 0 and pred == 1:\n",
    "        fp_indices_neg_match.append(i)\n",
    "    elif true == 1 and pred == 0:\n",
    "        fn_indices_neg_match.append(i)\n",
    "\n",
    "print(\"False Positives:\", len(fp_indices_neg_match), \"examples\")\n",
    "print(\"False Negatives:\", len(fn_indices_neg_match), \"examples\")\n",
    "\n",
    "# Print the first 5 false positives\n",
    "print(\"\\nFalse Positives (Regex Baseline - Negative Match):\")\n",
    "for i in fp_indices_neg_match[:5]:\n",
    "    print(f\"Review: {df_val['text'].values[i]}\")\n",
    "    print(f\"True label: {y_val_true[i]}, Predicted label: {y_val_pred_neg_match[i]}\")\n",
    "    print(\"-\" * 80)\n",
    "\n",
    "# Print the first 5 false negatives\n",
    "print(\"\\nFalse Negatives (Regex Baseline - Negative Match):\")\n",
    "for i in fn_indices_neg_match[:5]:\n",
    "    print(f\"Review: {df_val['text'].values[i]}\")\n",
    "    print(f\"True label: {y_val_true[i]}, Predicted label: {y_val_pred_neg_match[i]}\")\n",
    "    print(\"-\" * 80)"
   ]
  },
  {
   "cell_type": "markdown",
   "id": "20f05cbb",
   "metadata": {},
   "source": [
    "Note that of the first 5 false positives for both types of matching, there are 3 reviews that appear in both cases, which can reveal that both types of matching are failing in the same cases."
   ]
  },
  {
   "cell_type": "code",
   "execution_count": 24,
   "id": "939d024c",
   "metadata": {},
   "outputs": [
    {
     "name": "stdout",
     "output_type": "stream",
     "text": [
      "Number of false positive reviews that match for both types of matching: 130\n",
      "Number of false negative reviews that match for both types of matching: 50\n"
     ]
    }
   ],
   "source": [
    "# Check the number of false positive reviews that match for both types of matching\n",
    "fp_both = set(fp_indices_pos_match).intersection(set(fp_indices_neg_match))\n",
    "print(f\"Number of false positive reviews that match for both types of matching: {len(fp_both)}\")\n",
    "\n",
    "# Check the number of false negative reviews that match for both types of matching\n",
    "fn_both = set(fn_indices_pos_match).intersection(set(fn_indices_neg_match))\n",
    "print(f\"Number of false negative reviews that match for both types of matching: {len(fn_both)}\")"
   ]
  },
  {
   "cell_type": "markdown",
   "id": "08bdb9c4",
   "metadata": {},
   "source": [
    "For the positive matching rule, almost half of its false positives match with the false positives of the negative match (for which more than half coincide). These cases will probably be hard cases, since neither of the patterns can pick them up correctly.\n",
    "\n",
    "Below we try to reduce the number of false positives **for the positive matching** by extending the regex list with those words appearing in the false positive instances but NOT as much on actually positive instances of the test set. Then, we will check the metrics before and after the pattern extension for the test set."
   ]
  },
  {
   "cell_type": "code",
   "execution_count": null,
   "id": "e195f94a",
   "metadata": {},
   "outputs": [],
   "source": [
    "# Get the indices for the positive predictions with the positive match\n",
    "positive_indices = []\n",
    "for i, (true, pred) in enumerate(zip(y_val_true, y_val_pred_pos_match)):\n",
    "    if true == 1:\n",
    "        positive_indices.append(i)\n",
    "\n",
    "# Subset the false positive reviews and the false negative reviews\n",
    "fp_reviews = df_val.iloc[fp_indices_pos_match]['text'].values\n",
    "# fn_reviews = df_val.iloc[fn_indices_pos_match]['text'].values\n",
    "pos_pred_reviews = df_val.iloc[positive_indices]['text'].values \n",
    "\n",
    "# Tokenize the false positive and false negative reviews\n",
    "fp_tokens = [preprocessing.lower_nostop(review, rm_stopwords=True, stopword_set=my_stop_words) for review in fp_reviews]\n",
    "# fn_tokens = [tokenize(review, rm_stopwords=True, stopword_set=my_stop_words) for review in fn_reviews]\n",
    "pos_pred_tokens = [preprocessing.lower_nostop(review, rm_stopwords=True, stopword_set=my_stop_words) for review in pos_pred_reviews]\n",
    "\n",
    "# Flatten the lists of tokens\n",
    "fp_reviews_flat = [token for review in fp_tokens for token in review]\n",
    "# fn_reviews_flat = [token for review in fn_tokens for token in review]\n",
    "pos_pred_reviews_flat = [token for review in pos_pred_tokens for token in review]\n",
    "\n",
    "# Count the frequency of each token in the false positive and false negative reviews\n",
    "fp_counter = collections.Counter(fp_reviews_flat)\n",
    "# fn_counter = collections.Counter(fn_reviews_flat)\n",
    "pos_pred_counter = collections.Counter(pos_pred_reviews_flat)"
   ]
  },
  {
   "cell_type": "code",
   "execution_count": 26,
   "id": "45fc5110",
   "metadata": {},
   "outputs": [
    {
     "name": "stdout",
     "output_type": "stream",
     "text": [
      "running 1.0\n",
      "dull 1.0\n",
      "minutes 0.9\n",
      "idea 0.8888888888888888\n",
      "ending 0.8571428571428571\n",
      "sandler 0.8571428571428571\n",
      "wrong 0.8333333333333334\n",
      "joke 0.8333333333333334\n",
      "cut 0.8\n",
      "play 0.8\n",
      "predictable 0.8\n",
      "silly 0.8\n",
      "scene 0.8\n",
      "beyond 0.8\n",
      "talent 0.8\n",
      "science 0.8\n",
      "teen 0.8\n",
      "level 0.8\n",
      "sure 0.8\n",
      "george 0.8\n",
      "energy 0.75\n",
      "bad 0.7222222222222222\n",
      "every 0.7142857142857143\n",
      "lacks 0.7142857142857143\n",
      "looking 0.7142857142857143\n",
      "together 0.7\n",
      "mind 0.6666666666666666\n",
      "fine 0.6666666666666666\n",
      "simply 0.6666666666666666\n",
      "nearly 0.6666666666666666\n"
     ]
    }
   ],
   "source": [
    "# Set minimum word frequency to filter out rare words\n",
    "min_word_freq = 4\n",
    "\n",
    "# Let's create a ratio of occurences in the false positives over all of the positive instances\n",
    "# A value of 1 means that the word appears only in the false positives\n",
    "fp_ratio = {word: fp_counter.get(word, 0) / (fp_counter.get(word, 0) + pos_pred_counter.get(word, 0)) \n",
    "            for word in fp_counter if fp_counter.get(word, 0) + pos_pred_counter.get(word, 0) > min_word_freq}\n",
    "\n",
    "#Let's sort the words by the ratio\n",
    "fp_ratio = sorted(fp_ratio.items(), key=lambda x: x[1], reverse=True)\n",
    "\n",
    "# Let's print the words that appear a lot in the false positives but not so much in the false negatives\n",
    "for word, ratio in fp_ratio[:30]:\n",
    "    print(word, ratio)"
   ]
  },
  {
   "cell_type": "markdown",
   "id": "df46487e",
   "metadata": {},
   "source": [
    "These words should be considered to detect negative reviews instead of positive reviews. To that end, below we extend the regex classification function to consider that, whenever a review contains more of the positive words than of the negative words of the false positive list identified above, it will be classified as positive, otherwise as negative."
   ]
  },
  {
   "cell_type": "code",
   "execution_count": 27,
   "id": "8728e8ed",
   "metadata": {},
   "outputs": [],
   "source": [
    "# We create a regex pattern to match the common words of positive reviews:\n",
    "# it captures ANY of the words in the set created above and ignores the case\n",
    "pattern_pos = re.compile(r\"(\" + \"|\".join(pos_common_words_set) + r\")\", re.IGNORECASE)\n",
    "pattern_neg = re.compile(r\"(\" + \"|\".join(neg_common_words_set) + r\")\", re.IGNORECASE)\n",
    "\n",
    "# Extract the true labels of the validation set\n",
    "y_test_true = df_test[\"label\"].to_list()"
   ]
  },
  {
   "cell_type": "markdown",
   "id": "93ad05e6",
   "metadata": {},
   "source": [
    "Now, we use the classifier and compute the metrics for the test set, both with the initial pattern and with the extended pattern."
   ]
  },
  {
   "cell_type": "markdown",
   "id": "161a4425",
   "metadata": {},
   "source": [
    "Initial pattern:"
   ]
  },
  {
   "cell_type": "code",
   "execution_count": 28,
   "id": "8508af0a",
   "metadata": {},
   "outputs": [
    {
     "name": "stdout",
     "output_type": "stream",
     "text": [
      "Metrics calculated for: Regex (Positive)\n",
      "\n",
      "========================================\n",
      "Metrics for Regex (Positive)\n",
      "========================================\n",
      "\n",
      "Accuracy: 52.72%\n",
      "\n",
      "Precision: 52.90%\n",
      "\n",
      "Recall: 52.72%\n",
      "\n",
      "F1 Score: 51.96%\n",
      "\n",
      "False Positives and Negatives for Regex Baseline (Positive Match), Test set:\n",
      "-----------------------------------------------------\n",
      "False Positives: 319 examples\n",
      "False Negatives: 185 examples\n"
     ]
    }
   ],
   "source": [
    "# For each review, make the predictions using the regex classifier\n",
    "y_test_pred_pos_match = [regex_classifiers.regex_classifier(review, pattern_pos, match_label=1) for review in df_test[\"text\"].values]\n",
    "# Compute the metrics for the baseline model and the test set\n",
    "metrics_test = metrics.Metrics()\n",
    "metrics_test.run(\n",
    "    y_true=y_test_true,\n",
    "    y_pred=y_test_pred_pos_match,\n",
    "    method_name=\"Regex (Positive)\",\n",
    "    average=metric_avg\n",
    ")\n",
    "metrics_test.print_results()\n",
    "\n",
    "# Let's identify the false positives and negatives for positive match\n",
    "fp_indices_pos_match = []  # Predicted positive but actually negative\n",
    "fn_indices_pos_match = []  # Predicted negative but actually positive\n",
    "\n",
    "print(\"\\nFalse Positives and Negatives for Regex Baseline (Positive Match), Test set:\")\n",
    "print(\"-----------------------------------------------------\")\n",
    "\n",
    "for i, (true, pred) in enumerate(zip(y_test_true, y_test_pred_pos_match)):\n",
    "    if true == 0 and pred == 1:\n",
    "        fp_indices_pos_match.append(i)\n",
    "    elif true == 1 and pred == 0:\n",
    "        fn_indices_pos_match.append(i)\n",
    "\n",
    "print(\"False Positives:\", len(fp_indices_pos_match), \"examples\")\n",
    "print(\"False Negatives:\", len(fn_indices_pos_match), \"examples\")"
   ]
  },
  {
   "cell_type": "markdown",
   "id": "142a67a3",
   "metadata": {},
   "source": [
    "Extended pattern:"
   ]
  },
  {
   "cell_type": "code",
   "execution_count": 29,
   "id": "2493049a",
   "metadata": {},
   "outputs": [
    {
     "name": "stdout",
     "output_type": "stream",
     "text": [
      "Metrics calculated for: Regex - Extended\n",
      "\n",
      "========================================\n",
      "Metrics for Regex (Positive)\n",
      "========================================\n",
      "\n",
      "Accuracy: 52.72%\n",
      "\n",
      "Precision: 52.90%\n",
      "\n",
      "Recall: 52.72%\n",
      "\n",
      "F1 Score: 51.96%\n",
      "\n",
      "========================================\n",
      "Metrics for Regex - Extended\n",
      "========================================\n",
      "\n",
      "Accuracy: 55.72%\n",
      "\n",
      "Precision: 55.81%\n",
      "\n",
      "Recall: 55.72%\n",
      "\n",
      "F1 Score: 55.55%\n",
      "\n",
      "False Positives and Negatives for Regex Baseline (Positive Match), Test set:\n",
      "-----------------------------------------------------\n",
      "False Positives: 203 examples\n",
      "False Negatives: 269 examples\n"
     ]
    }
   ],
   "source": [
    "# Set a threshold for the ratio of words in FP and not in positive reviews (1 for words that appear only in false positives and not in actual positives)\n",
    "threshold = 0.6\n",
    "\n",
    "# Filter the words based on the threshold\n",
    "fp_ratio_threshold = [(word, ratio) for word, ratio in fp_ratio if ratio >= threshold]\n",
    "\n",
    "# Extract the words and ratio of the words of false positives\n",
    "fp_words, fp_ratio_value = zip(*fp_ratio_threshold)\n",
    "\n",
    "# Create a set of the words\n",
    "fp_words_set = set(fp_words)\n",
    "\n",
    "# Create a regex pattern to match the common words of false positives\n",
    "pattern_fp = re.compile(r\"(\" + \"|\".join(fp_words_set) + r\")\", re.IGNORECASE)\n",
    "\n",
    "# For each review, make the predictions using the regex classifier\n",
    "y_test_pred_ext = [regex_classifiers.regex_classifier_ext(review, pattern_pos, pattern_fp) for review in df_test[\"text\"].values]\n",
    "metrics_test.run(\n",
    "    y_true=y_test_true,\n",
    "    y_pred=y_test_pred_ext,\n",
    "    method_name=\"Regex - Extended\",\n",
    "    average=metric_avg\n",
    ")\n",
    "metrics_test.print_results()\n",
    "\n",
    "# Let's identify the false positives and negatives for positive match\n",
    "fp_indices_pos_match = []  # Predicted positive but actually negative\n",
    "fn_indices_pos_match = []  # Predicted negative but actually positive\n",
    "\n",
    "print(\"\\nFalse Positives and Negatives for Regex Baseline (Positive Match), Test set:\")\n",
    "print(\"-----------------------------------------------------\")\n",
    "\n",
    "for i, (true, pred) in enumerate(zip(y_test_true, y_test_pred_ext)):\n",
    "    if true == 0 and pred == 1:\n",
    "        fp_indices_pos_match.append(i)\n",
    "    elif true == 1 and pred == 0:\n",
    "        fn_indices_pos_match.append(i)\n",
    "\n",
    "print(\"False Positives:\", len(fp_indices_pos_match), \"examples\")\n",
    "print(\"False Negatives:\", len(fn_indices_pos_match), \"examples\")"
   ]
  },
  {
   "cell_type": "markdown",
   "id": "fa499b42",
   "metadata": {},
   "source": [
    "There is something interesting to note here, but that is expected: lowering the threshold for the ratio of words of false positives in the validation set decreases the number of false positives. This can be attributed mainly to the fact that the search for words typically in negative reviews will be extended, and thus it will be more possible that a review is not incorrectly classified as positive. However, this leads to an increase in the number of false negatives.\n",
    "\n",
    "Finally, **note that the performance of this approach could be potentially improved by handpicking those words which make sense for each type of review**, and selecting those which make more (intuitive) sense to include for each label."
   ]
  },
  {
   "cell_type": "markdown",
   "id": "561c35ce",
   "metadata": {},
   "source": [
    "# 2. Part 2: Machine Learning with TF-IDF and Logistic Regression (3 points)\n",
    "\n",
    "**Objective**: Build and evaluate a sentiment analysis model using TF-IDF vectorization and logistic regression."
   ]
  },
  {
   "cell_type": "markdown",
   "id": "7f681d1b",
   "metadata": {},
   "source": [
    "## 2.1. Model Fitting \n",
    "\n",
    "(0.5 points): Train a logistic regression model on TF-IDF vectors of the movie reviews.\n",
    "\n",
    "We start by training with a baseline pipeline, which below will be extended to different pre-processing techniques to improve performance."
   ]
  },
  {
   "cell_type": "code",
   "execution_count": 30,
   "id": "11c0d84c",
   "metadata": {},
   "outputs": [
    {
     "name": "stdout",
     "output_type": "stream",
     "text": [
      "Document-term matrix for train has size (documents, terms) (8530, 16188)\n",
      "Document-term matrix for validation has size (documents, terms) (1066, 16188)\n",
      "Metrics calculated for: Logreg - TFIDF\n"
     ]
    },
    {
     "data": {
      "image/png": "[encoded data removed]",
      "text/plain": [
       "<Figure size 1200x1000 with 4 Axes>"
      ]
     },
     "metadata": {},
     "output_type": "display_data"
    }
   ],
   "source": [
    "# Construct the tf-idf vectorizer with the default parameters and stop words for English\n",
    "tfidf_vectorizer = TfidfVectorizer(\n",
    "    stop_words='english',\n",
    "    ngram_range=(1, 1),\n",
    "    lowercase=True,\n",
    "    min_df=0.0,\n",
    "    max_df=1.0,\n",
    "    sublinear_tf=True  # Apply sublinear term frequency scaling (i.e., log normalization to compress the range of term frequencies)\n",
    ")\n",
    "\n",
    "# Fit to the training data \n",
    "tfidf_vectorizer.fit(df_train['text'].values)\n",
    "\n",
    "# Transform the training and validation data (creates the document-term matrix)\n",
    "X_train = tfidf_vectorizer.transform(df_train['text'].values)\n",
    "X_valid = tfidf_vectorizer.transform(df_val['text'].values)\n",
    "\n",
    "for split, dtm in {'train': X_train, 'validation': X_valid}.items():\n",
    "    print(f\"Document-term matrix for {split} has size (documents, terms) {dtm.shape}\")\n",
    "\n",
    "# Create the Logistic Regression model\n",
    "logistic_model = LogisticRegression(\n",
    "    max_iter=1000,\n",
    "    C=1.0,\n",
    "    solver='liblinear',  # Small dataset, binary classification\n",
    "    random_state=42\n",
    ")\n",
    "\n",
    "# Fit the model to the training data\n",
    "logistic_model.fit(X_train, df_train['label'].values)\n",
    "\n",
    "# Make predictions on the validation set\n",
    "valid_preds = logistic_model.predict(X_valid)\n",
    "\n",
    "# Compute the metrics for the logistic regression model and the validation set\n",
    "metrics_val.run(\n",
    "    y_true=df_val['label'].values,\n",
    "    y_pred=valid_preds,\n",
    "    method_name=\"Logreg - TFIDF\",\n",
    "    average=metric_avg\n",
    ")\n",
    "\n",
    "metrics_val.plot()"
   ]
  },
  {
   "cell_type": "markdown",
   "id": "d752c681",
   "metadata": {},
   "source": [
    "Without almost any preprocessing (just stopword removal and lowercasing, but no further text preprocessing or hyperparameter optimization) the performance is already significantly better than for the regex classifiers."
   ]
  },
  {
   "cell_type": "markdown",
   "id": "d785edfc",
   "metadata": {},
   "source": [
    "## 2.2. Feature Importance Analysis\n",
    "\n",
    "(0.5 points): Identify and interpret the most influential features in your model.\n",
    "\n",
    "For analyzing the importance of features (in this case, uni-grams) of the logistic regression model, it must be considered that through TF-IDF the term frequency of the documents has been normalized, so the magnitude of the coefficients in the logistic regression can be used to infer relative feature importance. Specifically:\n",
    "- The sign of the coefficient indicates the direction of influence (positive, 1 vs. negative, 0 sentiment).\n",
    "- Larger magnitude generally indicates stronger influence on the prediction.\n",
    "- Ranking features by coefficient magnitude can identify the most important terms."
   ]
  },
  {
   "cell_type": "code",
   "execution_count": 31,
   "id": "c4ecd604",
   "metadata": {},
   "outputs": [
    {
     "name": "stdout",
     "output_type": "stream",
     "text": [
      "Number of coefficients (should match the number of terms in the training set): (16188,)\n",
      "\n",
      "Top positive coefficients:\n",
      "\n",
      "Word: performances, Coefficient: 2.7513229113981668\n",
      "Word: enjoyable, Coefficient: 2.174851585066445\n",
      "Word: cinema, Coefficient: 2.1018280976138297\n",
      "Word: fun, Coefficient: 2.1009884855582883\n",
      "Word: beautiful, Coefficient: 2.0774950625881714\n",
      "Word: solid, Coefficient: 2.0388579766963693\n",
      "Word: culture, Coefficient: 2.010448144921942\n",
      "Word: entertaining, Coefficient: 1.9945226910050151\n",
      "Word: best, Coefficient: 1.9603469963567457\n",
      "Word: powerful, Coefficient: 1.9372810730634509\n",
      "Word: wonderful, Coefficient: 1.932985816143211\n",
      "Word: hilarious, Coefficient: 1.9315420837891548\n",
      "Word: engrossing, Coefficient: 1.9295295968304995\n",
      "Word: touching, Coefficient: 1.926475652197013\n",
      "Word: heart, Coefficient: 1.9074218792035402\n",
      "Word: portrait, Coefficient: 1.9024987434537053\n",
      "Word: human, Coefficient: 1.842652818949533\n",
      "Word: moving, Coefficient: 1.8361015523468038\n",
      "Word: rare, Coefficient: 1.8193748946094703\n",
      "Word: look, Coefficient: 1.7887327947587799\n",
      "\n",
      "Top negative coefficients:\n",
      "\n",
      "Word: bad, Coefficient: -3.0693852206251684\n",
      "Word: dull, Coefficient: -2.7637070013807965\n",
      "Word: boring, Coefficient: -2.4870959491831237\n",
      "Word: feels, Coefficient: -2.1788284748066196\n",
      "Word: fails, Coefficient: -2.083303400926236\n",
      "Word: worst, Coefficient: -2.077862968321569\n",
      "Word: tv, Coefficient: -2.0700080263780105\n",
      "Word: flat, Coefficient: -1.8807336925025815\n",
      "Word: thing, Coefficient: -1.8747092921149164\n",
      "Word: tries, Coefficient: -1.8637218944744482\n",
      "Word: script, Coefficient: -1.8150945776951477\n",
      "Word: just, Coefficient: -1.7618588826538706\n",
      "Word: unfunny, Coefficient: -1.711856313779791\n",
      "Word: doesn, Coefficient: -1.7069624797150582\n",
      "Word: mediocre, Coefficient: -1.7022866610700658\n",
      "Word: lack, Coefficient: -1.698164638912048\n",
      "Word: badly, Coefficient: -1.6304638953889565\n",
      "Word: stupid, Coefficient: -1.6295761543962732\n",
      "Word: pretentious, Coefficient: -1.620520971392292\n",
      "Word: generic, Coefficient: -1.60984803303519\n"
     ]
    }
   ],
   "source": [
    "# First of all, we extract the words from the fitted DTM\n",
    "terms = tfidf_vectorizer.get_feature_names_out()\n",
    "\n",
    "# Extract the coefficients of the logistic regression model\n",
    "coefs = logistic_model.coef_[0]\n",
    "print(f'Number of coefficients (should match the number of terms in the training set): {coefs.shape}')\n",
    "\n",
    "# Extract the top 20 positive and negative coefficients\n",
    "top_n = 20\n",
    "top_positive_indices = coefs.argsort()[-top_n:][::-1]  # Indices of the top positive coefficients\n",
    "top_negative_indices = coefs.argsort()[:top_n]  # Indices of the top negative coefficients\n",
    "\n",
    "# Print the values of the top positive and negative coefficients to check\n",
    "print(\"\\nTop positive coefficients:\\n\")\n",
    "for i in top_positive_indices:\n",
    "    print(f\"Word: {terms[i]}, Coefficient: {coefs[i]}\")\n",
    "print(\"\\nTop negative coefficients:\\n\")\n",
    "for i in top_negative_indices:\n",
    "    print(f\"Word: {terms[i]}, Coefficient: {coefs[i]}\")"
   ]
  },
  {
   "cell_type": "markdown",
   "id": "7fbc84cd",
   "metadata": {},
   "source": [
    "As expected, the words with the highest relevance for predicting a review as positive are also positive words, such as \"enjoyable\", \"best\", \"wonderful\", etc.; while for negative reviews it is the opposite: words such as \"boring\", \"feels\", \"flat\", etc. are the most relevant. In terms of values, these coefficients are not directly interpretable (they are logit values, not probabilities or percentage points)."
   ]
  },
  {
   "cell_type": "markdown",
   "id": "24487c11",
   "metadata": {},
   "source": [
    "## 2.3. Preprocessing Improvements\n",
    "\n",
    "(1 point): Experiment with different preprocessing techniques of your training set to enhance model performance. Summarize the impact of these modifications.\n",
    "\n",
    "Compared to the baseline model implemented above, several improvements (or at least possibilities) can be executed:\n",
    "1) More customized text pre-processing (e.g., lemmatization).\n",
    "2) Considering different parameters for the tf-idf vectorizer, such as higher n-gram inclusion and minimum document-frequency or maximum document-frequency parameters.\n",
    "3) Considering different parameters for the logistic regression (e.g., regularization parameter, penalization type, maximum iterations)."
   ]
  },
  {
   "cell_type": "code",
   "execution_count": 32,
   "id": "8cb634ca",
   "metadata": {},
   "outputs": [
    {
     "name": "stdout",
     "output_type": "stream",
     "text": [
      "INFO: Pandarallel will run on 8 workers.\n",
      "INFO: Pandarallel will use Memory file system to transfer data between the main process and workers.\n"
     ]
    }
   ],
   "source": [
    "# Initialize parallelization for pandas\n",
    "pandarallel.initialize(progress_bar=True)"
   ]
  },
  {
   "cell_type": "markdown",
   "id": "0321d591",
   "metadata": {},
   "source": [
    "### Text preprocessing\n",
    "\n",
    "In this section, different types of text features are constructed. Lemmatized and stemmed words are expected to reduce the length of the vocabulary. "
   ]
  },
  {
   "cell_type": "code",
   "execution_count": 33,
   "id": "3eb9c22e",
   "metadata": {},
   "outputs": [
    {
     "name": "stdout",
     "output_type": "stream",
     "text": [
      "\n",
      "Preprocessing train split...\n"
     ]
    },
    {
     "data": {
      "application/vnd.jupyter.widget-view+json": {
       "model_id": "24308197e1f34018a6de6ef031bd3608",
       "version_major": 2,
       "version_minor": 0
      },
      "text/plain": [
       "VBox(children=(HBox(children=(IntProgress(value=0, description='0.00%', max=1067), Label(value='0 / 1067'))), …"
      ]
     },
     "metadata": {},
     "output_type": "display_data"
    },
    {
     "data": {
      "application/vnd.jupyter.widget-view+json": {
       "model_id": "6da0ad38bddb4d388f600dd22ea6efa4",
       "version_major": 2,
       "version_minor": 0
      },
      "text/plain": [
       "VBox(children=(HBox(children=(IntProgress(value=0, description='0.00%', max=1067), Label(value='0 / 1067'))), …"
      ]
     },
     "metadata": {},
     "output_type": "display_data"
    },
    {
     "data": {
      "application/vnd.jupyter.widget-view+json": {
       "model_id": "aa8394ee0a7f49dda27528332f83a067",
       "version_major": 2,
       "version_minor": 0
      },
      "text/plain": [
       "VBox(children=(HBox(children=(IntProgress(value=0, description='0.00%', max=1067), Label(value='0 / 1067'))), …"
      ]
     },
     "metadata": {},
     "output_type": "display_data"
    },
    {
     "name": "stdout",
     "output_type": "stream",
     "text": [
      "Preprocessing train split done.\n",
      "\n",
      "Preprocessing validation split...\n"
     ]
    },
    {
     "data": {
      "application/vnd.jupyter.widget-view+json": {
       "model_id": "220066f810a44844b6733a139f81abb1",
       "version_major": 2,
       "version_minor": 0
      },
      "text/plain": [
       "VBox(children=(HBox(children=(IntProgress(value=0, description='0.00%', max=134), Label(value='0 / 134'))), HB…"
      ]
     },
     "metadata": {},
     "output_type": "display_data"
    },
    {
     "data": {
      "application/vnd.jupyter.widget-view+json": {
       "model_id": "a92ebd3f0ab2422397f9ddedc9af53ec",
       "version_major": 2,
       "version_minor": 0
      },
      "text/plain": [
       "VBox(children=(HBox(children=(IntProgress(value=0, description='0.00%', max=134), Label(value='0 / 134'))), HB…"
      ]
     },
     "metadata": {},
     "output_type": "display_data"
    },
    {
     "data": {
      "application/vnd.jupyter.widget-view+json": {
       "model_id": "aa3b5d73bb4e47aabffa142923c8e412",
       "version_major": 2,
       "version_minor": 0
      },
      "text/plain": [
       "VBox(children=(HBox(children=(IntProgress(value=0, description='0.00%', max=134), Label(value='0 / 134'))), HB…"
      ]
     },
     "metadata": {},
     "output_type": "display_data"
    },
    {
     "name": "stdout",
     "output_type": "stream",
     "text": [
      "Preprocessing validation split done.\n",
      "\n",
      "Preprocessing test split...\n"
     ]
    },
    {
     "data": {
      "application/vnd.jupyter.widget-view+json": {
       "model_id": "d2bcc358e1074de39d6f83b6b5012d86",
       "version_major": 2,
       "version_minor": 0
      },
      "text/plain": [
       "VBox(children=(HBox(children=(IntProgress(value=0, description='0.00%', max=134), Label(value='0 / 134'))), HB…"
      ]
     },
     "metadata": {},
     "output_type": "display_data"
    },
    {
     "data": {
      "application/vnd.jupyter.widget-view+json": {
       "model_id": "4451750b2280426fbc428d6c3f9a7372",
       "version_major": 2,
       "version_minor": 0
      },
      "text/plain": [
       "VBox(children=(HBox(children=(IntProgress(value=0, description='0.00%', max=134), Label(value='0 / 134'))), HB…"
      ]
     },
     "metadata": {},
     "output_type": "display_data"
    },
    {
     "data": {
      "application/vnd.jupyter.widget-view+json": {
       "model_id": "dc8b98d63d5a47f098f3c56d78e7e590",
       "version_major": 2,
       "version_minor": 0
      },
      "text/plain": [
       "VBox(children=(HBox(children=(IntProgress(value=0, description='0.00%', max=134), Label(value='0 / 134'))), HB…"
      ]
     },
     "metadata": {},
     "output_type": "display_data"
    },
    {
     "name": "stdout",
     "output_type": "stream",
     "text": [
      "Preprocessing test split done.\n"
     ]
    }
   ],
   "source": [
    "# First, we preprocess the text of the reviews with the custom functions\n",
    "\n",
    "my_stop_words = set(stopwords.words('english'))\n",
    "\n",
    "for split, df in df_dict.items():\n",
    "    print(f\"\\nPreprocessing {split} split...\")\n",
    "    df['text_lower'] = df['text'].parallel_apply(\n",
    "        lambda row: preprocessing.lower_nostop(text = row, rm_stopwords=True, stopword_set=my_stop_words, output_type='string')\n",
    "    )\n",
    "    df['text_lemmatized'] = df['text_lower'].parallel_apply(\n",
    "        lambda row: preprocessing.lemmatize(row)\n",
    "    )\n",
    "    df['text_stemmed'] = df['text_lower'].parallel_apply(\n",
    "        lambda row: preprocessing.stem(row)\n",
    "    )\n",
    "    print(f\"Preprocessing {split} split done.\")"
   ]
  },
  {
   "cell_type": "code",
   "execution_count": 34,
   "id": "ecd85484",
   "metadata": {},
   "outputs": [
    {
     "data": {
      "text/html": [
       "<div>\n",
       "<style scoped>\n",
       "    .dataframe tbody tr th:only-of-type {\n",
       "        vertical-align: middle;\n",
       "    }\n",
       "\n",
       "    .dataframe tbody tr th {\n",
       "        vertical-align: top;\n",
       "    }\n",
       "\n",
       "    .dataframe thead th {\n",
       "        text-align: right;\n",
       "    }\n",
       "</style>\n",
       "<table border=\"1\" class=\"dataframe\">\n",
       "  <thead>\n",
       "    <tr style=\"text-align: right;\">\n",
       "      <th></th>\n",
       "      <th>text</th>\n",
       "      <th>label</th>\n",
       "      <th>text_length</th>\n",
       "      <th>unique_word_count</th>\n",
       "      <th>text_lower</th>\n",
       "      <th>text_lemmatized</th>\n",
       "      <th>text_stemmed</th>\n",
       "    </tr>\n",
       "  </thead>\n",
       "  <tbody>\n",
       "    <tr>\n",
       "      <th>0</th>\n",
       "      <td>the rock is destined to be the 21st century's ...</td>\n",
       "      <td>1</td>\n",
       "      <td>34</td>\n",
       "      <td>31</td>\n",
       "      <td>rock destined 21st century new conan going mak...</td>\n",
       "      <td>rock destined 21st century new conan going mak...</td>\n",
       "      <td>rock destin 21st centuri new conan go make spl...</td>\n",
       "    </tr>\n",
       "    <tr>\n",
       "      <th>1</th>\n",
       "      <td>the gorgeously elaborate continuation of \" the...</td>\n",
       "      <td>1</td>\n",
       "      <td>39</td>\n",
       "      <td>29</td>\n",
       "      <td>gorgeously elaborate continuation lord rings t...</td>\n",
       "      <td>gorgeously elaborate continuation lord ring tr...</td>\n",
       "      <td>gorgeous elabor continu lord ring trilog huge ...</td>\n",
       "    </tr>\n",
       "    <tr>\n",
       "      <th>2</th>\n",
       "      <td>effective but too-tepid biopic</td>\n",
       "      <td>1</td>\n",
       "      <td>4</td>\n",
       "      <td>4</td>\n",
       "      <td>effective tepid biopic</td>\n",
       "      <td>effective tepid biopic</td>\n",
       "      <td>effect tepid biopic</td>\n",
       "    </tr>\n",
       "    <tr>\n",
       "      <th>3</th>\n",
       "      <td>if you sometimes like to go to the movies to h...</td>\n",
       "      <td>1</td>\n",
       "      <td>21</td>\n",
       "      <td>18</td>\n",
       "      <td>sometimes like go movies fun wasabi good place...</td>\n",
       "      <td>sometimes like go movie fun wasabi good place ...</td>\n",
       "      <td>sometim like go movi fun wasabi good place start</td>\n",
       "    </tr>\n",
       "    <tr>\n",
       "      <th>4</th>\n",
       "      <td>emerges as something rare , an issue movie tha...</td>\n",
       "      <td>1</td>\n",
       "      <td>21</td>\n",
       "      <td>21</td>\n",
       "      <td>emerges something rare issue movie honest keen...</td>\n",
       "      <td>emerges something rare issue movie honest keen...</td>\n",
       "      <td>emerg someth rare issu movi honest keenli obse...</td>\n",
       "    </tr>\n",
       "  </tbody>\n",
       "</table>\n",
       "</div>"
      ],
      "text/plain": [
       "                                                text  label  text_length  \\\n",
       "0  the rock is destined to be the 21st century's ...      1           34   \n",
       "1  the gorgeously elaborate continuation of \" the...      1           39   \n",
       "2                     effective but too-tepid biopic      1            4   \n",
       "3  if you sometimes like to go to the movies to h...      1           21   \n",
       "4  emerges as something rare , an issue movie tha...      1           21   \n",
       "\n",
       "   unique_word_count                                         text_lower  \\\n",
       "0                 31  rock destined 21st century new conan going mak...   \n",
       "1                 29  gorgeously elaborate continuation lord rings t...   \n",
       "2                  4                             effective tepid biopic   \n",
       "3                 18  sometimes like go movies fun wasabi good place...   \n",
       "4                 21  emerges something rare issue movie honest keen...   \n",
       "\n",
       "                                     text_lemmatized  \\\n",
       "0  rock destined 21st century new conan going mak...   \n",
       "1  gorgeously elaborate continuation lord ring tr...   \n",
       "2                             effective tepid biopic   \n",
       "3  sometimes like go movie fun wasabi good place ...   \n",
       "4  emerges something rare issue movie honest keen...   \n",
       "\n",
       "                                        text_stemmed  \n",
       "0  rock destin 21st centuri new conan go make spl...  \n",
       "1  gorgeous elabor continu lord ring trilog huge ...  \n",
       "2                                effect tepid biopic  \n",
       "3   sometim like go movi fun wasabi good place start  \n",
       "4  emerg someth rare issu movi honest keenli obse...  "
      ]
     },
     "execution_count": 34,
     "metadata": {},
     "output_type": "execute_result"
    }
   ],
   "source": [
    "df_train.head()"
   ]
  },
  {
   "cell_type": "markdown",
   "id": "70244caa",
   "metadata": {},
   "source": [
    "As can be observed in the previous data frame, lemmatizing does not significantly change the wording of the tokens, while stemming is generally more aggressive in reducing the vocabulary length (at the cost of reducing interprebatility)."
   ]
  },
  {
   "cell_type": "markdown",
   "id": "fa8f3dfb",
   "metadata": {},
   "source": [
    "### Hyperparameter optimization: TF-IDF and logistic regression"
   ]
  },
  {
   "cell_type": "code",
   "execution_count": 35,
   "id": "415d186a",
   "metadata": {},
   "outputs": [],
   "source": [
    "# Create a pipeline with TF-IDF and Logistic Regression\n",
    "pipeline = Pipeline([\n",
    "    ('tfidf', TfidfVectorizer(\n",
    "        lowercase=False,  # We have already lowercased the text\n",
    "        stop_words=None,  # We have already removed stop words\n",
    "        sublinear_tf=True,  # Apply sublinear term frequency scaling\n",
    "        )\n",
    "    ),\n",
    "    ('clf', LogisticRegression(\n",
    "        max_iter=5000,\n",
    "        class_weight=None,\n",
    "        fit_intercept=True,\n",
    "        solver='liblinear',\n",
    "        random_state=42\n",
    "        )\n",
    "    )\n",
    "])\n",
    "\n",
    "# Define the parameter grid for the randomized search\n",
    "param_grid = {\n",
    "    'tfidf__ngram_range': [(1, 1), (1, 2), (1, 3)],  # Unigrams, bigrams and trigrams\n",
    "    'tfidf__min_df': uniform(loc=0.0, scale=0.1),  # Minimum document frequency, uniform distribution from 0% to 10%\n",
    "    'tfidf__max_df': uniform(loc=0.8, scale=0.2),  # Maximum document frequency, uniform distribution from 80% to 100%\n",
    "    'clf__C': uniform(loc=0.01, scale=10),  # Regularization strength, uniform distribution from 0.01 to 10\n",
    "    'clf__penalty': ['l1', 'l2']  # Regularization type\n",
    "}\n",
    "\n",
    "# Create the randomized search object\n",
    "random_search = RandomizedSearchCV(\n",
    "    pipeline,\n",
    "    param_distributions=param_grid,\n",
    "    n_iter=500,  # Number of iterations for the randomized search\n",
    "    scoring=f'f1_{metric_avg}', # Use the F1-score averaged as specified\n",
    "    cv=5,  # 5-fold cross-validation with stratification\n",
    "    refit=f'f1_{metric_avg}',  # Refit the best model with the F1-score averaged as specified\n",
    "    verbose=1,\n",
    "    n_jobs=-1,  # Use all available cores\n",
    "    random_state=42\n",
    ")"
   ]
  },
  {
   "cell_type": "code",
   "execution_count": 36,
   "id": "16dc34c1",
   "metadata": {},
   "outputs": [],
   "source": [
    "preprocessed_text = 'text_lower'  # Choose the preprocessed text to use for the model"
   ]
  },
  {
   "cell_type": "code",
   "execution_count": 37,
   "id": "d6592456",
   "metadata": {},
   "outputs": [],
   "source": [
    "# # Fit the randomized search on the training data, \n",
    "# random_search.fit(df_train[preprocessed_text].values, df_train['label'].values)\n",
    "\n",
    "# # Best parameters found by grid search\n",
    "# print(f'Best Parameters: {random_search.best_params_}')\n",
    "\n",
    "# # Save the best model as a pickle file with the name of the model and the F1 score in the models directory\n",
    "# os.makedirs('models', exist_ok=True)\n",
    "# best_model_name = f\"models/logreg_tfidf_f1_{metric_avg}_{random_search.best_score_:.4f}_{preprocessed_text}.pkl\"\n",
    "# with open(best_model_name, 'wb') as f:\n",
    "#     pickle.dump(random_search.best_estimator_, f)\n",
    "# print(f\"Best model saved as: {best_model_name}\")"
   ]
  },
  {
   "cell_type": "markdown",
   "id": "1590dbfe",
   "metadata": {},
   "source": [
    "With 500 iterations and 5 folds per iteration, the code above approximately takes 30 seconds to run. "
   ]
  },
  {
   "cell_type": "code",
   "execution_count": 38,
   "id": "e9918275",
   "metadata": {},
   "outputs": [
    {
     "data": {
      "text/html": [
       "<style>#sk-container-id-1 {\n",
       "  /* Definition of color scheme common for light and dark mode */\n",
       "  --sklearn-color-text: #000;\n",
       "  --sklearn-color-text-muted: #666;\n",
       "  --sklearn-color-line: gray;\n",
       "  /* Definition of color scheme for unfitted estimators */\n",
       "  --sklearn-color-unfitted-level-0: #fff5e6;\n",
       "  --sklearn-color-unfitted-level-1: #f6e4d2;\n",
       "  --sklearn-color-unfitted-level-2: #ffe0b3;\n",
       "  --sklearn-color-unfitted-level-3: chocolate;\n",
       "  /* Definition of color scheme for fitted estimators */\n",
       "  --sklearn-color-fitted-level-0: #f0f8ff;\n",
       "  --sklearn-color-fitted-level-1: #d4ebff;\n",
       "  --sklearn-color-fitted-level-2: #b3dbfd;\n",
       "  --sklearn-color-fitted-level-3: cornflowerblue;\n",
       "\n",
       "  /* Specific color for light theme */\n",
       "  --sklearn-color-text-on-default-background: var(--sg-text-color, var(--theme-code-foreground, var(--jp-content-font-color1, black)));\n",
       "  --sklearn-color-background: var(--sg-background-color, var(--theme-background, var(--jp-layout-color0, white)));\n",
       "  --sklearn-color-border-box: var(--sg-text-color, var(--theme-code-foreground, var(--jp-content-font-color1, black)));\n",
       "  --sklearn-color-icon: #696969;\n",
       "\n",
       "  @media (prefers-color-scheme: dark) {\n",
       "    /* Redefinition of color scheme for dark theme */\n",
       "    --sklearn-color-text-on-default-background: var(--sg-text-color, var(--theme-code-foreground, var(--jp-content-font-color1, white)));\n",
       "    --sklearn-color-background: var(--sg-background-color, var(--theme-background, var(--jp-layout-color0, #111)));\n",
       "    --sklearn-color-border-box: var(--sg-text-color, var(--theme-code-foreground, var(--jp-content-font-color1, white)));\n",
       "    --sklearn-color-icon: #878787;\n",
       "  }\n",
       "}\n",
       "\n",
       "#sk-container-id-1 {\n",
       "  color: var(--sklearn-color-text);\n",
       "}\n",
       "\n",
       "#sk-container-id-1 pre {\n",
       "  padding: 0;\n",
       "}\n",
       "\n",
       "#sk-container-id-1 input.sk-hidden--visually {\n",
       "  border: 0;\n",
       "  clip: rect(1px 1px 1px 1px);\n",
       "  clip: rect(1px, 1px, 1px, 1px);\n",
       "  height: 1px;\n",
       "  margin: -1px;\n",
       "  overflow: hidden;\n",
       "  padding: 0;\n",
       "  position: absolute;\n",
       "  width: 1px;\n",
       "}\n",
       "\n",
       "#sk-container-id-1 div.sk-dashed-wrapped {\n",
       "  border: 1px dashed var(--sklearn-color-line);\n",
       "  margin: 0 0.4em 0.5em 0.4em;\n",
       "  box-sizing: border-box;\n",
       "  padding-bottom: 0.4em;\n",
       "  background-color: var(--sklearn-color-background);\n",
       "}\n",
       "\n",
       "#sk-container-id-1 div.sk-container {\n",
       "  /* jupyter's `normalize.less` sets `[hidden] { display: none; }`\n",
       "     but bootstrap.min.css set `[hidden] { display: none !important; }`\n",
       "     so we also need the `!important` here to be able to override the\n",
       "     default hidden behavior on the sphinx rendered scikit-learn.org.\n",
       "     See: https://github.com/scikit-learn/scikit-learn/issues/21755 */\n",
       "  display: inline-block !important;\n",
       "  position: relative;\n",
       "}\n",
       "\n",
       "#sk-container-id-1 div.sk-text-repr-fallback {\n",
       "  display: none;\n",
       "}\n",
       "\n",
       "div.sk-parallel-item,\n",
       "div.sk-serial,\n",
       "div.sk-item {\n",
       "  /* draw centered vertical line to link estimators */\n",
       "  background-image: linear-gradient(var(--sklearn-color-text-on-default-background), var(--sklearn-color-text-on-default-background));\n",
       "  background-size: 2px 100%;\n",
       "  background-repeat: no-repeat;\n",
       "  background-position: center center;\n",
       "}\n",
       "\n",
       "/* Parallel-specific style estimator block */\n",
       "\n",
       "#sk-container-id-1 div.sk-parallel-item::after {\n",
       "  content: \"\";\n",
       "  width: 100%;\n",
       "  border-bottom: 2px solid var(--sklearn-color-text-on-default-background);\n",
       "  flex-grow: 1;\n",
       "}\n",
       "\n",
       "#sk-container-id-1 div.sk-parallel {\n",
       "  display: flex;\n",
       "  align-items: stretch;\n",
       "  justify-content: center;\n",
       "  background-color: var(--sklearn-color-background);\n",
       "  position: relative;\n",
       "}\n",
       "\n",
       "#sk-container-id-1 div.sk-parallel-item {\n",
       "  display: flex;\n",
       "  flex-direction: column;\n",
       "}\n",
       "\n",
       "#sk-container-id-1 div.sk-parallel-item:first-child::after {\n",
       "  align-self: flex-end;\n",
       "  width: 50%;\n",
       "}\n",
       "\n",
       "#sk-container-id-1 div.sk-parallel-item:last-child::after {\n",
       "  align-self: flex-start;\n",
       "  width: 50%;\n",
       "}\n",
       "\n",
       "#sk-container-id-1 div.sk-parallel-item:only-child::after {\n",
       "  width: 0;\n",
       "}\n",
       "\n",
       "/* Serial-specific style estimator block */\n",
       "\n",
       "#sk-container-id-1 div.sk-serial {\n",
       "  display: flex;\n",
       "  flex-direction: column;\n",
       "  align-items: center;\n",
       "  background-color: var(--sklearn-color-background);\n",
       "  padding-right: 1em;\n",
       "  padding-left: 1em;\n",
       "}\n",
       "\n",
       "\n",
       "/* Toggleable style: style used for estimator/Pipeline/ColumnTransformer box that is\n",
       "clickable and can be expanded/collapsed.\n",
       "- Pipeline and ColumnTransformer use this feature and define the default style\n",
       "- Estimators will overwrite some part of the style using the `sk-estimator` class\n",
       "*/\n",
       "\n",
       "/* Pipeline and ColumnTransformer style (default) */\n",
       "\n",
       "#sk-container-id-1 div.sk-toggleable {\n",
       "  /* Default theme specific background. It is overwritten whether we have a\n",
       "  specific estimator or a Pipeline/ColumnTransformer */\n",
       "  background-color: var(--sklearn-color-background);\n",
       "}\n",
       "\n",
       "/* Toggleable label */\n",
       "#sk-container-id-1 label.sk-toggleable__label {\n",
       "  cursor: pointer;\n",
       "  display: flex;\n",
       "  width: 100%;\n",
       "  margin-bottom: 0;\n",
       "  padding: 0.5em;\n",
       "  box-sizing: border-box;\n",
       "  text-align: center;\n",
       "  align-items: start;\n",
       "  justify-content: space-between;\n",
       "  gap: 0.5em;\n",
       "}\n",
       "\n",
       "#sk-container-id-1 label.sk-toggleable__label .caption {\n",
       "  font-size: 0.6rem;\n",
       "  font-weight: lighter;\n",
       "  color: var(--sklearn-color-text-muted);\n",
       "}\n",
       "\n",
       "#sk-container-id-1 label.sk-toggleable__label-arrow:before {\n",
       "  /* Arrow on the left of the label */\n",
       "  content: \"▸\";\n",
       "  float: left;\n",
       "  margin-right: 0.25em;\n",
       "  color: var(--sklearn-color-icon);\n",
       "}\n",
       "\n",
       "#sk-container-id-1 label.sk-toggleable__label-arrow:hover:before {\n",
       "  color: var(--sklearn-color-text);\n",
       "}\n",
       "\n",
       "/* Toggleable content - dropdown */\n",
       "\n",
       "#sk-container-id-1 div.sk-toggleable__content {\n",
       "  max-height: 0;\n",
       "  max-width: 0;\n",
       "  overflow: hidden;\n",
       "  text-align: left;\n",
       "  /* unfitted */\n",
       "  background-color: var(--sklearn-color-unfitted-level-0);\n",
       "}\n",
       "\n",
       "#sk-container-id-1 div.sk-toggleable__content.fitted {\n",
       "  /* fitted */\n",
       "  background-color: var(--sklearn-color-fitted-level-0);\n",
       "}\n",
       "\n",
       "#sk-container-id-1 div.sk-toggleable__content pre {\n",
       "  margin: 0.2em;\n",
       "  border-radius: 0.25em;\n",
       "  color: var(--sklearn-color-text);\n",
       "  /* unfitted */\n",
       "  background-color: var(--sklearn-color-unfitted-level-0);\n",
       "}\n",
       "\n",
       "#sk-container-id-1 div.sk-toggleable__content.fitted pre {\n",
       "  /* unfitted */\n",
       "  background-color: var(--sklearn-color-fitted-level-0);\n",
       "}\n",
       "\n",
       "#sk-container-id-1 input.sk-toggleable__control:checked~div.sk-toggleable__content {\n",
       "  /* Expand drop-down */\n",
       "  max-height: 200px;\n",
       "  max-width: 100%;\n",
       "  overflow: auto;\n",
       "}\n",
       "\n",
       "#sk-container-id-1 input.sk-toggleable__control:checked~label.sk-toggleable__label-arrow:before {\n",
       "  content: \"▾\";\n",
       "}\n",
       "\n",
       "/* Pipeline/ColumnTransformer-specific style */\n",
       "\n",
       "#sk-container-id-1 div.sk-label input.sk-toggleable__control:checked~label.sk-toggleable__label {\n",
       "  color: var(--sklearn-color-text);\n",
       "  background-color: var(--sklearn-color-unfitted-level-2);\n",
       "}\n",
       "\n",
       "#sk-container-id-1 div.sk-label.fitted input.sk-toggleable__control:checked~label.sk-toggleable__label {\n",
       "  background-color: var(--sklearn-color-fitted-level-2);\n",
       "}\n",
       "\n",
       "/* Estimator-specific style */\n",
       "\n",
       "/* Colorize estimator box */\n",
       "#sk-container-id-1 div.sk-estimator input.sk-toggleable__control:checked~label.sk-toggleable__label {\n",
       "  /* unfitted */\n",
       "  background-color: var(--sklearn-color-unfitted-level-2);\n",
       "}\n",
       "\n",
       "#sk-container-id-1 div.sk-estimator.fitted input.sk-toggleable__control:checked~label.sk-toggleable__label {\n",
       "  /* fitted */\n",
       "  background-color: var(--sklearn-color-fitted-level-2);\n",
       "}\n",
       "\n",
       "#sk-container-id-1 div.sk-label label.sk-toggleable__label,\n",
       "#sk-container-id-1 div.sk-label label {\n",
       "  /* The background is the default theme color */\n",
       "  color: var(--sklearn-color-text-on-default-background);\n",
       "}\n",
       "\n",
       "/* On hover, darken the color of the background */\n",
       "#sk-container-id-1 div.sk-label:hover label.sk-toggleable__label {\n",
       "  color: var(--sklearn-color-text);\n",
       "  background-color: var(--sklearn-color-unfitted-level-2);\n",
       "}\n",
       "\n",
       "/* Label box, darken color on hover, fitted */\n",
       "#sk-container-id-1 div.sk-label.fitted:hover label.sk-toggleable__label.fitted {\n",
       "  color: var(--sklearn-color-text);\n",
       "  background-color: var(--sklearn-color-fitted-level-2);\n",
       "}\n",
       "\n",
       "/* Estimator label */\n",
       "\n",
       "#sk-container-id-1 div.sk-label label {\n",
       "  font-family: monospace;\n",
       "  font-weight: bold;\n",
       "  display: inline-block;\n",
       "  line-height: 1.2em;\n",
       "}\n",
       "\n",
       "#sk-container-id-1 div.sk-label-container {\n",
       "  text-align: center;\n",
       "}\n",
       "\n",
       "/* Estimator-specific */\n",
       "#sk-container-id-1 div.sk-estimator {\n",
       "  font-family: monospace;\n",
       "  border: 1px dotted var(--sklearn-color-border-box);\n",
       "  border-radius: 0.25em;\n",
       "  box-sizing: border-box;\n",
       "  margin-bottom: 0.5em;\n",
       "  /* unfitted */\n",
       "  background-color: var(--sklearn-color-unfitted-level-0);\n",
       "}\n",
       "\n",
       "#sk-container-id-1 div.sk-estimator.fitted {\n",
       "  /* fitted */\n",
       "  background-color: var(--sklearn-color-fitted-level-0);\n",
       "}\n",
       "\n",
       "/* on hover */\n",
       "#sk-container-id-1 div.sk-estimator:hover {\n",
       "  /* unfitted */\n",
       "  background-color: var(--sklearn-color-unfitted-level-2);\n",
       "}\n",
       "\n",
       "#sk-container-id-1 div.sk-estimator.fitted:hover {\n",
       "  /* fitted */\n",
       "  background-color: var(--sklearn-color-fitted-level-2);\n",
       "}\n",
       "\n",
       "/* Specification for estimator info (e.g. \"i\" and \"?\") */\n",
       "\n",
       "/* Common style for \"i\" and \"?\" */\n",
       "\n",
       ".sk-estimator-doc-link,\n",
       "a:link.sk-estimator-doc-link,\n",
       "a:visited.sk-estimator-doc-link {\n",
       "  float: right;\n",
       "  font-size: smaller;\n",
       "  line-height: 1em;\n",
       "  font-family: monospace;\n",
       "  background-color: var(--sklearn-color-background);\n",
       "  border-radius: 1em;\n",
       "  height: 1em;\n",
       "  width: 1em;\n",
       "  text-decoration: none !important;\n",
       "  margin-left: 0.5em;\n",
       "  text-align: center;\n",
       "  /* unfitted */\n",
       "  border: var(--sklearn-color-unfitted-level-1) 1pt solid;\n",
       "  color: var(--sklearn-color-unfitted-level-1);\n",
       "}\n",
       "\n",
       ".sk-estimator-doc-link.fitted,\n",
       "a:link.sk-estimator-doc-link.fitted,\n",
       "a:visited.sk-estimator-doc-link.fitted {\n",
       "  /* fitted */\n",
       "  border: var(--sklearn-color-fitted-level-1) 1pt solid;\n",
       "  color: var(--sklearn-color-fitted-level-1);\n",
       "}\n",
       "\n",
       "/* On hover */\n",
       "div.sk-estimator:hover .sk-estimator-doc-link:hover,\n",
       ".sk-estimator-doc-link:hover,\n",
       "div.sk-label-container:hover .sk-estimator-doc-link:hover,\n",
       ".sk-estimator-doc-link:hover {\n",
       "  /* unfitted */\n",
       "  background-color: var(--sklearn-color-unfitted-level-3);\n",
       "  color: var(--sklearn-color-background);\n",
       "  text-decoration: none;\n",
       "}\n",
       "\n",
       "div.sk-estimator.fitted:hover .sk-estimator-doc-link.fitted:hover,\n",
       ".sk-estimator-doc-link.fitted:hover,\n",
       "div.sk-label-container:hover .sk-estimator-doc-link.fitted:hover,\n",
       ".sk-estimator-doc-link.fitted:hover {\n",
       "  /* fitted */\n",
       "  background-color: var(--sklearn-color-fitted-level-3);\n",
       "  color: var(--sklearn-color-background);\n",
       "  text-decoration: none;\n",
       "}\n",
       "\n",
       "/* Span, style for the box shown on hovering the info icon */\n",
       ".sk-estimator-doc-link span {\n",
       "  display: none;\n",
       "  z-index: 9999;\n",
       "  position: relative;\n",
       "  font-weight: normal;\n",
       "  right: .2ex;\n",
       "  padding: .5ex;\n",
       "  margin: .5ex;\n",
       "  width: min-content;\n",
       "  min-width: 20ex;\n",
       "  max-width: 50ex;\n",
       "  color: var(--sklearn-color-text);\n",
       "  box-shadow: 2pt 2pt 4pt #999;\n",
       "  /* unfitted */\n",
       "  background: var(--sklearn-color-unfitted-level-0);\n",
       "  border: .5pt solid var(--sklearn-color-unfitted-level-3);\n",
       "}\n",
       "\n",
       ".sk-estimator-doc-link.fitted span {\n",
       "  /* fitted */\n",
       "  background: var(--sklearn-color-fitted-level-0);\n",
       "  border: var(--sklearn-color-fitted-level-3);\n",
       "}\n",
       "\n",
       ".sk-estimator-doc-link:hover span {\n",
       "  display: block;\n",
       "}\n",
       "\n",
       "/* \"?\"-specific style due to the `<a>` HTML tag */\n",
       "\n",
       "#sk-container-id-1 a.estimator_doc_link {\n",
       "  float: right;\n",
       "  font-size: 1rem;\n",
       "  line-height: 1em;\n",
       "  font-family: monospace;\n",
       "  background-color: var(--sklearn-color-background);\n",
       "  border-radius: 1rem;\n",
       "  height: 1rem;\n",
       "  width: 1rem;\n",
       "  text-decoration: none;\n",
       "  /* unfitted */\n",
       "  color: var(--sklearn-color-unfitted-level-1);\n",
       "  border: var(--sklearn-color-unfitted-level-1) 1pt solid;\n",
       "}\n",
       "\n",
       "#sk-container-id-1 a.estimator_doc_link.fitted {\n",
       "  /* fitted */\n",
       "  border: var(--sklearn-color-fitted-level-1) 1pt solid;\n",
       "  color: var(--sklearn-color-fitted-level-1);\n",
       "}\n",
       "\n",
       "/* On hover */\n",
       "#sk-container-id-1 a.estimator_doc_link:hover {\n",
       "  /* unfitted */\n",
       "  background-color: var(--sklearn-color-unfitted-level-3);\n",
       "  color: var(--sklearn-color-background);\n",
       "  text-decoration: none;\n",
       "}\n",
       "\n",
       "#sk-container-id-1 a.estimator_doc_link.fitted:hover {\n",
       "  /* fitted */\n",
       "  background-color: var(--sklearn-color-fitted-level-3);\n",
       "}\n",
       "</style><div id=\"sk-container-id-1\" class=\"sk-top-container\"><div class=\"sk-text-repr-fallback\"><pre>Pipeline(steps=[(&#x27;tfidf&#x27;,\n",
       "                 TfidfVectorizer(lowercase=False, max_df=0.8924194581531322,\n",
       "                                 min_df=0.00012318351664258875,\n",
       "                                 ngram_range=(1, 3), sublinear_tf=True)),\n",
       "                (&#x27;clf&#x27;,\n",
       "                 LogisticRegression(C=6.176503145207381, max_iter=5000,\n",
       "                                    random_state=42, solver=&#x27;liblinear&#x27;))])</pre><b>In a Jupyter environment, please rerun this cell to show the HTML representation or trust the notebook. <br />On GitHub, the HTML representation is unable to render, please try loading this page with nbviewer.org.</b></div><div class=\"sk-container\" hidden><div class=\"sk-item sk-dashed-wrapped\"><div class=\"sk-label-container\"><div class=\"sk-label fitted sk-toggleable\"><input class=\"sk-toggleable__control sk-hidden--visually\" id=\"sk-estimator-id-1\" type=\"checkbox\" ><label for=\"sk-estimator-id-1\" class=\"sk-toggleable__label fitted sk-toggleable__label-arrow\"><div><div>Pipeline</div></div><div><a class=\"sk-estimator-doc-link fitted\" rel=\"noreferrer\" target=\"_blank\" href=\"https://scikit-learn.org/1.6/modules/generated/sklearn.pipeline.Pipeline.html\">?<span>Documentation for Pipeline</span></a><span class=\"sk-estimator-doc-link fitted\">i<span>Fitted</span></span></div></label><div class=\"sk-toggleable__content fitted\"><pre>Pipeline(steps=[(&#x27;tfidf&#x27;,\n",
       "                 TfidfVectorizer(lowercase=False, max_df=0.8924194581531322,\n",
       "                                 min_df=0.00012318351664258875,\n",
       "                                 ngram_range=(1, 3), sublinear_tf=True)),\n",
       "                (&#x27;clf&#x27;,\n",
       "                 LogisticRegression(C=6.176503145207381, max_iter=5000,\n",
       "                                    random_state=42, solver=&#x27;liblinear&#x27;))])</pre></div> </div></div><div class=\"sk-serial\"><div class=\"sk-item\"><div class=\"sk-estimator fitted sk-toggleable\"><input class=\"sk-toggleable__control sk-hidden--visually\" id=\"sk-estimator-id-2\" type=\"checkbox\" ><label for=\"sk-estimator-id-2\" class=\"sk-toggleable__label fitted sk-toggleable__label-arrow\"><div><div>TfidfVectorizer</div></div><div><a class=\"sk-estimator-doc-link fitted\" rel=\"noreferrer\" target=\"_blank\" href=\"https://scikit-learn.org/1.6/modules/generated/sklearn.feature_extraction.text.TfidfVectorizer.html\">?<span>Documentation for TfidfVectorizer</span></a></div></label><div class=\"sk-toggleable__content fitted\"><pre>TfidfVectorizer(lowercase=False, max_df=0.8924194581531322,\n",
       "                min_df=0.00012318351664258875, ngram_range=(1, 3),\n",
       "                sublinear_tf=True)</pre></div> </div></div><div class=\"sk-item\"><div class=\"sk-estimator fitted sk-toggleable\"><input class=\"sk-toggleable__control sk-hidden--visually\" id=\"sk-estimator-id-3\" type=\"checkbox\" ><label for=\"sk-estimator-id-3\" class=\"sk-toggleable__label fitted sk-toggleable__label-arrow\"><div><div>LogisticRegression</div></div><div><a class=\"sk-estimator-doc-link fitted\" rel=\"noreferrer\" target=\"_blank\" href=\"https://scikit-learn.org/1.6/modules/generated/sklearn.linear_model.LogisticRegression.html\">?<span>Documentation for LogisticRegression</span></a></div></label><div class=\"sk-toggleable__content fitted\"><pre>LogisticRegression(C=6.176503145207381, max_iter=5000, random_state=42,\n",
       "                   solver=&#x27;liblinear&#x27;)</pre></div> </div></div></div></div></div></div>"
      ],
      "text/plain": [
       "Pipeline(steps=[('tfidf',\n",
       "                 TfidfVectorizer(lowercase=False, max_df=0.8924194581531322,\n",
       "                                 min_df=0.00012318351664258875,\n",
       "                                 ngram_range=(1, 3), sublinear_tf=True)),\n",
       "                ('clf',\n",
       "                 LogisticRegression(C=6.176503145207381, max_iter=5000,\n",
       "                                    random_state=42, solver='liblinear'))])"
      ]
     },
     "execution_count": 38,
     "metadata": {},
     "output_type": "execute_result"
    }
   ],
   "source": [
    "# Load the best model from the pickle file\n",
    "with open('models/logreg_tfidf_f1_macro_0.7463_text_lower.pkl', 'rb') as f:\n",
    "    best_model = pickle.load(f)\n",
    "\n",
    "# Train the best model on the entire training set\n",
    "model = best_model.fit(df_train[preprocessed_text].values, df_train['label'].values)\n",
    "\n",
    "model"
   ]
  },
  {
   "cell_type": "markdown",
   "id": "b856ff2a",
   "metadata": {},
   "source": [
    "The question is: has the model been improved in the validation set?"
   ]
  },
  {
   "cell_type": "code",
   "execution_count": 39,
   "id": "b9767cd3",
   "metadata": {},
   "outputs": [
    {
     "name": "stdout",
     "output_type": "stream",
     "text": [
      "Metrics calculated for: Logreg - best TFIDF\n"
     ]
    },
    {
     "data": {
      "image/png": "[encoded data removed]",
      "text/plain": [
       "<Figure size 1200x1000 with 4 Axes>"
      ]
     },
     "metadata": {},
     "output_type": "display_data"
    }
   ],
   "source": [
    "# Evaluate on the validation set\n",
    "valid_preds = best_model.predict(df_val[preprocessed_text].values)\n",
    "\n",
    "# Compute the metrics for the logistic regression model and the validation set\n",
    "metrics_val.run(\n",
    "    y_true=df_val['label'].values,\n",
    "    y_pred=valid_preds,\n",
    "    method_name=\"Logreg - best TFIDF\",\n",
    "    average=metric_avg\n",
    ")\n",
    "\n",
    "metrics_val.plot()"
   ]
  },
  {
   "cell_type": "markdown",
   "id": "ee045a91",
   "metadata": {},
   "source": [
    "According to the plot shown above, it can be observed that hyperparameter-tuning has only slightly improved the performance of the sentiment detection model over the logistic regression default parameters. \n",
    "- Other text preprocessing techniques have also been tried out as features (stemmed features, lemmatized features), but in these cases the performance has been observed to be worse. The most possible reason to explain that is that the vocabulary reduction and simplification associated to lemmatizing and stemming does not come with a better performance, even if the dimensionality of the features are reduced. In other words, in this case the nuances from the default text (with only lowercasing and stopword removal) are worth keeping (at least with literal NLP techniques). Nevertheless, the performance is very similar for the three types of preprocessing.\n",
    "- In the optimal model, the minimum document frequency (`min_df`, a threshold that can be set between a [0.0, 1.0] which denotes which terms to ignore if a word appears in less than x% of the reviews) is extremely low, close to 0%. This is relatively expected in the sense that less words of the review corpus are pruned, thus keeping more information.\n",
    "- Something similar happens with the maximum document frequency (`max_df`, words appearing in more than x% of the reviews are pruned), which is set at a relatively high value (close to 90%). Therefore, approximately 10% of the most common words across documents are ignored in the final model.\n",
    "- Finally, and probably to preserve the maximum \"context\" as possible, the best scores are found with the inclusion of **uni-grams, bi-grams and tri-grams**, which can be seen as an attempt to overcome the limitations of literality of TF-IDF.\n",
    "\n",
    "In conclusion, even if performance has been increased, the main limitation is still present: **this method cannot capture, at all, context from the reviews**."
   ]
  },
  {
   "cell_type": "markdown",
   "id": "06a7084c",
   "metadata": {},
   "source": [
    "## 2.4. Word2Vec Embeddings \n",
    "\n",
    "(0.5 points each for a. and b.)\n",
    "\n",
    "Below, the [pre-trained Word2Vec embeddings from `gensim`](https://radimrehurek.com/gensim/models/word2vec.html) are used (information on their Word2Vec training utilities can be found [here](https://radimrehurek.com/gensim/models/word2vec.html)). Specifically, the model loaded is the one trained on the Google News data, which has 3 million vectors (one per each word considered), where each vector has 300 dimensions."
   ]
  },
  {
   "cell_type": "code",
   "execution_count": 40,
   "id": "87d82dda",
   "metadata": {},
   "outputs": [],
   "source": [
    "# Load pre-trained Word2Vec embeddings\n",
    "word2vec_model = api.load('word2vec-google-news-300')  # 300-dimensional Google News embeddings"
   ]
  },
  {
   "cell_type": "code",
   "execution_count": 63,
   "id": "dbb091e4",
   "metadata": {},
   "outputs": [
    {
     "name": "stdout",
     "output_type": "stream",
     "text": [
      "Word vector for 'film': [-0.0038147  -0.01916504 -0.13085938  0.16992188  0.10546875  0.13671875\n",
      "  0.07421875 -0.05175781  0.13769531  0.02368164]\n",
      "Shape of the word vector for 'film': (300,)\n",
      "Number of words in the vocabulary: 3000000\n"
     ]
    }
   ],
   "source": [
    "# As an example, let's check the word vector for \"film\"\n",
    "word_vector = word2vec_model['film']\n",
    "print(f\"Word vector for 'film': {word_vector[:10]}\")  # Print the first 10 dimensions of the vector\n",
    "\n",
    "# Check the shape of the word vector\n",
    "print(f\"Shape of the word vector for 'film': {word_vector.shape}\")  # Should be (300,)\n",
    "\n",
    "# Check the number of words in the vocabulary\n",
    "print(f\"Number of words in the vocabulary: {len(word2vec_model.key_to_index)}\")  # Should be 3 million\n",
    "\n",
    "# Save the number of dimensions of the word vectors\n",
    "word_vector_dim = word_vector.shape[0]"
   ]
  },
  {
   "cell_type": "markdown",
   "id": "95964f69",
   "metadata": {},
   "source": [
    "### a. Implement sentence embedding using the mean of word vectors and retrain your logistic regression model.\n",
    "\n",
    "In this pipeline, for each review:\n",
    "1. We start by splitting each review into words,  \n",
    "2. Get the word embedding for each word, and\n",
    "3. Compute the arithmetic mean across all word embeddings for that review. \n",
    "\n",
    "Words that are not in the vocabulary of the Word2Vec model are not considered for computing the mean of the word vectors. \n",
    "\n",
    "Note that, **since the number of dimensions of the vectors for the used Word2Vec model is of 300, the number of features will also be equal to 300**. Again, each of these features will correspond to the mean of the word embedding corresponding to that dimension for each film review. "
   ]
  },
  {
   "cell_type": "code",
   "execution_count": 42,
   "id": "ef8b84de",
   "metadata": {},
   "outputs": [
    {
     "name": "stdout",
     "output_type": "stream",
     "text": [
      "Shape of the sentence embeddings for training set: (8530, 300)\n",
      "Shape of the sentence embeddings for validation set: (1066, 300)\n"
     ]
    }
   ],
   "source": [
    "# Initialize the stopword set\n",
    "my_stop_words = set(stopwords.words('english'))\n",
    "\n",
    "# Create sentence embeddings (features) for each dataset split\n",
    "embeddings_train_mean = preprocessing.word2vec_mean_embedding(df_train['text'], word2vec_model, my_stop_words)\n",
    "\n",
    "embeddings_val_mean = preprocessing.word2vec_mean_embedding(df_val['text'], word2vec_model, my_stop_words)\n",
    "\n",
    "# Check the shape of the sentence embeddings\n",
    "print(f\"Shape of the sentence embeddings for training set: {embeddings_train_mean.shape}\")  # Should be (num_reviews, 300)\n",
    "print(f\"Shape of the sentence embeddings for validation set: {embeddings_val_mean.shape}\")  # Should be (num_reviews, 300)"
   ]
  },
  {
   "cell_type": "code",
   "execution_count": 50,
   "id": "96be9761",
   "metadata": {},
   "outputs": [],
   "source": [
    "# Initialize Logistic Regression model\n",
    "logreg = LogisticRegression(\n",
    "    max_iter=1000,\n",
    "    class_weight=None,\n",
    "    fit_intercept=True,\n",
    "    solver='liblinear',\n",
    "    random_state=42\n",
    ")\n",
    "\n",
    "# Define the parameter grid for the randomized search\n",
    "param_grid = {\n",
    "    'C': uniform(loc=0.01, scale=10),  # Regularization strength, uniform distribution from 0.01 to 10\n",
    "    'penalty': ['l1', 'l2']  # Regularization type\n",
    "}\n",
    "\n",
    "# Create the randomized search object\n",
    "random_search = RandomizedSearchCV(\n",
    "    logreg,\n",
    "    param_distributions=param_grid,\n",
    "    n_iter=50,  # Number of iterations for the randomized search\n",
    "    scoring=f'f1_{metric_avg}', # Use the F1-score averaged as specified\n",
    "    cv=5,  # 5-fold cross-validation with stratification\n",
    "    refit=f'f1_{metric_avg}',  # Refit the best model with the F1-score averaged as specified\n",
    "    verbose=1,\n",
    "    n_jobs=-1,  # Use all available cores\n",
    "    random_state=42\n",
    ")"
   ]
  },
  {
   "cell_type": "code",
   "execution_count": null,
   "id": "12622484",
   "metadata": {},
   "outputs": [],
   "source": [
    "# # Fit the randomized search on the training data, \n",
    "# random_search.fit(embeddings_train_mean, df_train['label'].values)\n",
    "\n",
    "# # Best parameters found by grid search\n",
    "# print(f'Best Parameters: {random_search.best_params_}')\n",
    "\n",
    "# # Save the best model as a pickle file with the name of the model and the F1 score in the models directory\n",
    "# os.makedirs('models', exist_ok=True)\n",
    "# best_model_name = f\"models/word2vec_mean_emb_f1_{metric_avg}_{random_search.best_score_:.4f}.pkl\"\n",
    "# with open(best_model_name, 'wb') as f:\n",
    "#     pickle.dump(random_search.best_estimator_, f)\n",
    "# print(f\"Best model saved as: {best_model_name}\")"
   ]
  },
  {
   "cell_type": "markdown",
   "id": "9ff438a1",
   "metadata": {},
   "source": [
    "For 50 iterations and 5 folds, it takes approximately 4.5 minutes to finish the `RandomizedSearchCV`."
   ]
  },
  {
   "cell_type": "code",
   "execution_count": 45,
   "id": "b9ce27e1",
   "metadata": {},
   "outputs": [
    {
     "data": {
      "text/html": [
       "<style>#sk-container-id-2 {\n",
       "  /* Definition of color scheme common for light and dark mode */\n",
       "  --sklearn-color-text: #000;\n",
       "  --sklearn-color-text-muted: #666;\n",
       "  --sklearn-color-line: gray;\n",
       "  /* Definition of color scheme for unfitted estimators */\n",
       "  --sklearn-color-unfitted-level-0: #fff5e6;\n",
       "  --sklearn-color-unfitted-level-1: #f6e4d2;\n",
       "  --sklearn-color-unfitted-level-2: #ffe0b3;\n",
       "  --sklearn-color-unfitted-level-3: chocolate;\n",
       "  /* Definition of color scheme for fitted estimators */\n",
       "  --sklearn-color-fitted-level-0: #f0f8ff;\n",
       "  --sklearn-color-fitted-level-1: #d4ebff;\n",
       "  --sklearn-color-fitted-level-2: #b3dbfd;\n",
       "  --sklearn-color-fitted-level-3: cornflowerblue;\n",
       "\n",
       "  /* Specific color for light theme */\n",
       "  --sklearn-color-text-on-default-background: var(--sg-text-color, var(--theme-code-foreground, var(--jp-content-font-color1, black)));\n",
       "  --sklearn-color-background: var(--sg-background-color, var(--theme-background, var(--jp-layout-color0, white)));\n",
       "  --sklearn-color-border-box: var(--sg-text-color, var(--theme-code-foreground, var(--jp-content-font-color1, black)));\n",
       "  --sklearn-color-icon: #696969;\n",
       "\n",
       "  @media (prefers-color-scheme: dark) {\n",
       "    /* Redefinition of color scheme for dark theme */\n",
       "    --sklearn-color-text-on-default-background: var(--sg-text-color, var(--theme-code-foreground, var(--jp-content-font-color1, white)));\n",
       "    --sklearn-color-background: var(--sg-background-color, var(--theme-background, var(--jp-layout-color0, #111)));\n",
       "    --sklearn-color-border-box: var(--sg-text-color, var(--theme-code-foreground, var(--jp-content-font-color1, white)));\n",
       "    --sklearn-color-icon: #878787;\n",
       "  }\n",
       "}\n",
       "\n",
       "#sk-container-id-2 {\n",
       "  color: var(--sklearn-color-text);\n",
       "}\n",
       "\n",
       "#sk-container-id-2 pre {\n",
       "  padding: 0;\n",
       "}\n",
       "\n",
       "#sk-container-id-2 input.sk-hidden--visually {\n",
       "  border: 0;\n",
       "  clip: rect(1px 1px 1px 1px);\n",
       "  clip: rect(1px, 1px, 1px, 1px);\n",
       "  height: 1px;\n",
       "  margin: -1px;\n",
       "  overflow: hidden;\n",
       "  padding: 0;\n",
       "  position: absolute;\n",
       "  width: 1px;\n",
       "}\n",
       "\n",
       "#sk-container-id-2 div.sk-dashed-wrapped {\n",
       "  border: 1px dashed var(--sklearn-color-line);\n",
       "  margin: 0 0.4em 0.5em 0.4em;\n",
       "  box-sizing: border-box;\n",
       "  padding-bottom: 0.4em;\n",
       "  background-color: var(--sklearn-color-background);\n",
       "}\n",
       "\n",
       "#sk-container-id-2 div.sk-container {\n",
       "  /* jupyter's `normalize.less` sets `[hidden] { display: none; }`\n",
       "     but bootstrap.min.css set `[hidden] { display: none !important; }`\n",
       "     so we also need the `!important` here to be able to override the\n",
       "     default hidden behavior on the sphinx rendered scikit-learn.org.\n",
       "     See: https://github.com/scikit-learn/scikit-learn/issues/21755 */\n",
       "  display: inline-block !important;\n",
       "  position: relative;\n",
       "}\n",
       "\n",
       "#sk-container-id-2 div.sk-text-repr-fallback {\n",
       "  display: none;\n",
       "}\n",
       "\n",
       "div.sk-parallel-item,\n",
       "div.sk-serial,\n",
       "div.sk-item {\n",
       "  /* draw centered vertical line to link estimators */\n",
       "  background-image: linear-gradient(var(--sklearn-color-text-on-default-background), var(--sklearn-color-text-on-default-background));\n",
       "  background-size: 2px 100%;\n",
       "  background-repeat: no-repeat;\n",
       "  background-position: center center;\n",
       "}\n",
       "\n",
       "/* Parallel-specific style estimator block */\n",
       "\n",
       "#sk-container-id-2 div.sk-parallel-item::after {\n",
       "  content: \"\";\n",
       "  width: 100%;\n",
       "  border-bottom: 2px solid var(--sklearn-color-text-on-default-background);\n",
       "  flex-grow: 1;\n",
       "}\n",
       "\n",
       "#sk-container-id-2 div.sk-parallel {\n",
       "  display: flex;\n",
       "  align-items: stretch;\n",
       "  justify-content: center;\n",
       "  background-color: var(--sklearn-color-background);\n",
       "  position: relative;\n",
       "}\n",
       "\n",
       "#sk-container-id-2 div.sk-parallel-item {\n",
       "  display: flex;\n",
       "  flex-direction: column;\n",
       "}\n",
       "\n",
       "#sk-container-id-2 div.sk-parallel-item:first-child::after {\n",
       "  align-self: flex-end;\n",
       "  width: 50%;\n",
       "}\n",
       "\n",
       "#sk-container-id-2 div.sk-parallel-item:last-child::after {\n",
       "  align-self: flex-start;\n",
       "  width: 50%;\n",
       "}\n",
       "\n",
       "#sk-container-id-2 div.sk-parallel-item:only-child::after {\n",
       "  width: 0;\n",
       "}\n",
       "\n",
       "/* Serial-specific style estimator block */\n",
       "\n",
       "#sk-container-id-2 div.sk-serial {\n",
       "  display: flex;\n",
       "  flex-direction: column;\n",
       "  align-items: center;\n",
       "  background-color: var(--sklearn-color-background);\n",
       "  padding-right: 1em;\n",
       "  padding-left: 1em;\n",
       "}\n",
       "\n",
       "\n",
       "/* Toggleable style: style used for estimator/Pipeline/ColumnTransformer box that is\n",
       "clickable and can be expanded/collapsed.\n",
       "- Pipeline and ColumnTransformer use this feature and define the default style\n",
       "- Estimators will overwrite some part of the style using the `sk-estimator` class\n",
       "*/\n",
       "\n",
       "/* Pipeline and ColumnTransformer style (default) */\n",
       "\n",
       "#sk-container-id-2 div.sk-toggleable {\n",
       "  /* Default theme specific background. It is overwritten whether we have a\n",
       "  specific estimator or a Pipeline/ColumnTransformer */\n",
       "  background-color: var(--sklearn-color-background);\n",
       "}\n",
       "\n",
       "/* Toggleable label */\n",
       "#sk-container-id-2 label.sk-toggleable__label {\n",
       "  cursor: pointer;\n",
       "  display: flex;\n",
       "  width: 100%;\n",
       "  margin-bottom: 0;\n",
       "  padding: 0.5em;\n",
       "  box-sizing: border-box;\n",
       "  text-align: center;\n",
       "  align-items: start;\n",
       "  justify-content: space-between;\n",
       "  gap: 0.5em;\n",
       "}\n",
       "\n",
       "#sk-container-id-2 label.sk-toggleable__label .caption {\n",
       "  font-size: 0.6rem;\n",
       "  font-weight: lighter;\n",
       "  color: var(--sklearn-color-text-muted);\n",
       "}\n",
       "\n",
       "#sk-container-id-2 label.sk-toggleable__label-arrow:before {\n",
       "  /* Arrow on the left of the label */\n",
       "  content: \"▸\";\n",
       "  float: left;\n",
       "  margin-right: 0.25em;\n",
       "  color: var(--sklearn-color-icon);\n",
       "}\n",
       "\n",
       "#sk-container-id-2 label.sk-toggleable__label-arrow:hover:before {\n",
       "  color: var(--sklearn-color-text);\n",
       "}\n",
       "\n",
       "/* Toggleable content - dropdown */\n",
       "\n",
       "#sk-container-id-2 div.sk-toggleable__content {\n",
       "  max-height: 0;\n",
       "  max-width: 0;\n",
       "  overflow: hidden;\n",
       "  text-align: left;\n",
       "  /* unfitted */\n",
       "  background-color: var(--sklearn-color-unfitted-level-0);\n",
       "}\n",
       "\n",
       "#sk-container-id-2 div.sk-toggleable__content.fitted {\n",
       "  /* fitted */\n",
       "  background-color: var(--sklearn-color-fitted-level-0);\n",
       "}\n",
       "\n",
       "#sk-container-id-2 div.sk-toggleable__content pre {\n",
       "  margin: 0.2em;\n",
       "  border-radius: 0.25em;\n",
       "  color: var(--sklearn-color-text);\n",
       "  /* unfitted */\n",
       "  background-color: var(--sklearn-color-unfitted-level-0);\n",
       "}\n",
       "\n",
       "#sk-container-id-2 div.sk-toggleable__content.fitted pre {\n",
       "  /* unfitted */\n",
       "  background-color: var(--sklearn-color-fitted-level-0);\n",
       "}\n",
       "\n",
       "#sk-container-id-2 input.sk-toggleable__control:checked~div.sk-toggleable__content {\n",
       "  /* Expand drop-down */\n",
       "  max-height: 200px;\n",
       "  max-width: 100%;\n",
       "  overflow: auto;\n",
       "}\n",
       "\n",
       "#sk-container-id-2 input.sk-toggleable__control:checked~label.sk-toggleable__label-arrow:before {\n",
       "  content: \"▾\";\n",
       "}\n",
       "\n",
       "/* Pipeline/ColumnTransformer-specific style */\n",
       "\n",
       "#sk-container-id-2 div.sk-label input.sk-toggleable__control:checked~label.sk-toggleable__label {\n",
       "  color: var(--sklearn-color-text);\n",
       "  background-color: var(--sklearn-color-unfitted-level-2);\n",
       "}\n",
       "\n",
       "#sk-container-id-2 div.sk-label.fitted input.sk-toggleable__control:checked~label.sk-toggleable__label {\n",
       "  background-color: var(--sklearn-color-fitted-level-2);\n",
       "}\n",
       "\n",
       "/* Estimator-specific style */\n",
       "\n",
       "/* Colorize estimator box */\n",
       "#sk-container-id-2 div.sk-estimator input.sk-toggleable__control:checked~label.sk-toggleable__label {\n",
       "  /* unfitted */\n",
       "  background-color: var(--sklearn-color-unfitted-level-2);\n",
       "}\n",
       "\n",
       "#sk-container-id-2 div.sk-estimator.fitted input.sk-toggleable__control:checked~label.sk-toggleable__label {\n",
       "  /* fitted */\n",
       "  background-color: var(--sklearn-color-fitted-level-2);\n",
       "}\n",
       "\n",
       "#sk-container-id-2 div.sk-label label.sk-toggleable__label,\n",
       "#sk-container-id-2 div.sk-label label {\n",
       "  /* The background is the default theme color */\n",
       "  color: var(--sklearn-color-text-on-default-background);\n",
       "}\n",
       "\n",
       "/* On hover, darken the color of the background */\n",
       "#sk-container-id-2 div.sk-label:hover label.sk-toggleable__label {\n",
       "  color: var(--sklearn-color-text);\n",
       "  background-color: var(--sklearn-color-unfitted-level-2);\n",
       "}\n",
       "\n",
       "/* Label box, darken color on hover, fitted */\n",
       "#sk-container-id-2 div.sk-label.fitted:hover label.sk-toggleable__label.fitted {\n",
       "  color: var(--sklearn-color-text);\n",
       "  background-color: var(--sklearn-color-fitted-level-2);\n",
       "}\n",
       "\n",
       "/* Estimator label */\n",
       "\n",
       "#sk-container-id-2 div.sk-label label {\n",
       "  font-family: monospace;\n",
       "  font-weight: bold;\n",
       "  display: inline-block;\n",
       "  line-height: 1.2em;\n",
       "}\n",
       "\n",
       "#sk-container-id-2 div.sk-label-container {\n",
       "  text-align: center;\n",
       "}\n",
       "\n",
       "/* Estimator-specific */\n",
       "#sk-container-id-2 div.sk-estimator {\n",
       "  font-family: monospace;\n",
       "  border: 1px dotted var(--sklearn-color-border-box);\n",
       "  border-radius: 0.25em;\n",
       "  box-sizing: border-box;\n",
       "  margin-bottom: 0.5em;\n",
       "  /* unfitted */\n",
       "  background-color: var(--sklearn-color-unfitted-level-0);\n",
       "}\n",
       "\n",
       "#sk-container-id-2 div.sk-estimator.fitted {\n",
       "  /* fitted */\n",
       "  background-color: var(--sklearn-color-fitted-level-0);\n",
       "}\n",
       "\n",
       "/* on hover */\n",
       "#sk-container-id-2 div.sk-estimator:hover {\n",
       "  /* unfitted */\n",
       "  background-color: var(--sklearn-color-unfitted-level-2);\n",
       "}\n",
       "\n",
       "#sk-container-id-2 div.sk-estimator.fitted:hover {\n",
       "  /* fitted */\n",
       "  background-color: var(--sklearn-color-fitted-level-2);\n",
       "}\n",
       "\n",
       "/* Specification for estimator info (e.g. \"i\" and \"?\") */\n",
       "\n",
       "/* Common style for \"i\" and \"?\" */\n",
       "\n",
       ".sk-estimator-doc-link,\n",
       "a:link.sk-estimator-doc-link,\n",
       "a:visited.sk-estimator-doc-link {\n",
       "  float: right;\n",
       "  font-size: smaller;\n",
       "  line-height: 1em;\n",
       "  font-family: monospace;\n",
       "  background-color: var(--sklearn-color-background);\n",
       "  border-radius: 1em;\n",
       "  height: 1em;\n",
       "  width: 1em;\n",
       "  text-decoration: none !important;\n",
       "  margin-left: 0.5em;\n",
       "  text-align: center;\n",
       "  /* unfitted */\n",
       "  border: var(--sklearn-color-unfitted-level-1) 1pt solid;\n",
       "  color: var(--sklearn-color-unfitted-level-1);\n",
       "}\n",
       "\n",
       ".sk-estimator-doc-link.fitted,\n",
       "a:link.sk-estimator-doc-link.fitted,\n",
       "a:visited.sk-estimator-doc-link.fitted {\n",
       "  /* fitted */\n",
       "  border: var(--sklearn-color-fitted-level-1) 1pt solid;\n",
       "  color: var(--sklearn-color-fitted-level-1);\n",
       "}\n",
       "\n",
       "/* On hover */\n",
       "div.sk-estimator:hover .sk-estimator-doc-link:hover,\n",
       ".sk-estimator-doc-link:hover,\n",
       "div.sk-label-container:hover .sk-estimator-doc-link:hover,\n",
       ".sk-estimator-doc-link:hover {\n",
       "  /* unfitted */\n",
       "  background-color: var(--sklearn-color-unfitted-level-3);\n",
       "  color: var(--sklearn-color-background);\n",
       "  text-decoration: none;\n",
       "}\n",
       "\n",
       "div.sk-estimator.fitted:hover .sk-estimator-doc-link.fitted:hover,\n",
       ".sk-estimator-doc-link.fitted:hover,\n",
       "div.sk-label-container:hover .sk-estimator-doc-link.fitted:hover,\n",
       ".sk-estimator-doc-link.fitted:hover {\n",
       "  /* fitted */\n",
       "  background-color: var(--sklearn-color-fitted-level-3);\n",
       "  color: var(--sklearn-color-background);\n",
       "  text-decoration: none;\n",
       "}\n",
       "\n",
       "/* Span, style for the box shown on hovering the info icon */\n",
       ".sk-estimator-doc-link span {\n",
       "  display: none;\n",
       "  z-index: 9999;\n",
       "  position: relative;\n",
       "  font-weight: normal;\n",
       "  right: .2ex;\n",
       "  padding: .5ex;\n",
       "  margin: .5ex;\n",
       "  width: min-content;\n",
       "  min-width: 20ex;\n",
       "  max-width: 50ex;\n",
       "  color: var(--sklearn-color-text);\n",
       "  box-shadow: 2pt 2pt 4pt #999;\n",
       "  /* unfitted */\n",
       "  background: var(--sklearn-color-unfitted-level-0);\n",
       "  border: .5pt solid var(--sklearn-color-unfitted-level-3);\n",
       "}\n",
       "\n",
       ".sk-estimator-doc-link.fitted span {\n",
       "  /* fitted */\n",
       "  background: var(--sklearn-color-fitted-level-0);\n",
       "  border: var(--sklearn-color-fitted-level-3);\n",
       "}\n",
       "\n",
       ".sk-estimator-doc-link:hover span {\n",
       "  display: block;\n",
       "}\n",
       "\n",
       "/* \"?\"-specific style due to the `<a>` HTML tag */\n",
       "\n",
       "#sk-container-id-2 a.estimator_doc_link {\n",
       "  float: right;\n",
       "  font-size: 1rem;\n",
       "  line-height: 1em;\n",
       "  font-family: monospace;\n",
       "  background-color: var(--sklearn-color-background);\n",
       "  border-radius: 1rem;\n",
       "  height: 1rem;\n",
       "  width: 1rem;\n",
       "  text-decoration: none;\n",
       "  /* unfitted */\n",
       "  color: var(--sklearn-color-unfitted-level-1);\n",
       "  border: var(--sklearn-color-unfitted-level-1) 1pt solid;\n",
       "}\n",
       "\n",
       "#sk-container-id-2 a.estimator_doc_link.fitted {\n",
       "  /* fitted */\n",
       "  border: var(--sklearn-color-fitted-level-1) 1pt solid;\n",
       "  color: var(--sklearn-color-fitted-level-1);\n",
       "}\n",
       "\n",
       "/* On hover */\n",
       "#sk-container-id-2 a.estimator_doc_link:hover {\n",
       "  /* unfitted */\n",
       "  background-color: var(--sklearn-color-unfitted-level-3);\n",
       "  color: var(--sklearn-color-background);\n",
       "  text-decoration: none;\n",
       "}\n",
       "\n",
       "#sk-container-id-2 a.estimator_doc_link.fitted:hover {\n",
       "  /* fitted */\n",
       "  background-color: var(--sklearn-color-fitted-level-3);\n",
       "}\n",
       "</style><div id=\"sk-container-id-2\" class=\"sk-top-container\"><div class=\"sk-text-repr-fallback\"><pre>LogisticRegression(C=7.090725777960454, max_iter=1000, random_state=42,\n",
       "                   solver=&#x27;liblinear&#x27;)</pre><b>In a Jupyter environment, please rerun this cell to show the HTML representation or trust the notebook. <br />On GitHub, the HTML representation is unable to render, please try loading this page with nbviewer.org.</b></div><div class=\"sk-container\" hidden><div class=\"sk-item\"><div class=\"sk-estimator fitted sk-toggleable\"><input class=\"sk-toggleable__control sk-hidden--visually\" id=\"sk-estimator-id-4\" type=\"checkbox\" checked><label for=\"sk-estimator-id-4\" class=\"sk-toggleable__label fitted sk-toggleable__label-arrow\"><div><div>LogisticRegression</div></div><div><a class=\"sk-estimator-doc-link fitted\" rel=\"noreferrer\" target=\"_blank\" href=\"https://scikit-learn.org/1.6/modules/generated/sklearn.linear_model.LogisticRegression.html\">?<span>Documentation for LogisticRegression</span></a><span class=\"sk-estimator-doc-link fitted\">i<span>Fitted</span></span></div></label><div class=\"sk-toggleable__content fitted\"><pre>LogisticRegression(C=7.090725777960454, max_iter=1000, random_state=42,\n",
       "                   solver=&#x27;liblinear&#x27;)</pre></div> </div></div></div></div>"
      ],
      "text/plain": [
       "LogisticRegression(C=7.090725777960454, max_iter=1000, random_state=42,\n",
       "                   solver='liblinear')"
      ]
     },
     "execution_count": 45,
     "metadata": {},
     "output_type": "execute_result"
    }
   ],
   "source": [
    "# Load the best model from the pickle file\n",
    "with open('models/word2vec_mean_emb_f1_macro_0.7743_text_lower.pkl', 'rb') as f:\n",
    "    best_model = pickle.load(f)\n",
    "\n",
    "# Train the best model on the entire training set\n",
    "model = best_model.fit(embeddings_train_mean, df_train['label'].values)\n",
    "\n",
    "model"
   ]
  },
  {
   "cell_type": "code",
   "execution_count": 46,
   "id": "af061e48",
   "metadata": {},
   "outputs": [
    {
     "name": "stdout",
     "output_type": "stream",
     "text": [
      "Metrics calculated for: Logreg - mean embed.\n"
     ]
    },
    {
     "data": {
      "image/png": "[encoded data removed]",
      "text/plain": [
       "<Figure size 1200x1000 with 4 Axes>"
      ]
     },
     "metadata": {},
     "output_type": "display_data"
    }
   ],
   "source": [
    "# Evaluate on the validation set\n",
    "valid_preds = best_model.predict(embeddings_val_mean)\n",
    "\n",
    "# Compute the metrics for the logistic regression model and the validation set\n",
    "metrics_val.run(\n",
    "    y_true=df_val['label'].values,\n",
    "    y_pred=valid_preds,\n",
    "    method_name=\"Logreg - mean embed.\",\n",
    "    average=metric_avg\n",
    ")\n",
    "\n",
    "metrics_val.plot()"
   ]
  },
  {
   "cell_type": "markdown",
   "id": "62695eae",
   "metadata": {},
   "source": [
    "As can be observed in the plot above, performance is slightly improved across all metrics with the mean embeddings from the Word2Vec model, applied to the reviews data. However, the increase in performance is still marginal, which could be attributed to 2 main reasons:\n",
    "1. Through this method, all of the words in a review are given the same relevance (regardless of their rarity or frequency in the sentences). This approach is explored in the next question.\n",
    "2. The lack of dynamic embeddings (instead of static), i.e., that all words have the same representation in all reviews even if the surrounding context is different. This can be especially problematic in this case, given that (as explored above) some film reviews use metaphores or are ironic, which can make static embeddings struggle significantly."
   ]
  },
  {
   "cell_type": "markdown",
   "id": "b16fb438",
   "metadata": {},
   "source": [
    "### b. Create sentence embeddings using TF-IDF weighted averages of word vectors and retrain the model. Compare this approach with the mean embedding technique. Comment.\n",
    "\n",
    "The approach that is used here is the same as in the previous question, but in this case, and within each review, each word embedding is weighted by the TF-IDF weight for that word.\n",
    "\n",
    "The function `word2vec_tfidf_weighted_embedding`, used below:\n",
    "1. Processes all texts and gets their TF-IDF weights using the provided (fitted) vectorizer. Note that, to fit the TF-IDF matrix and pass it into the function `word2vec_tfidf_weighted_embedding`, the input can only be the pre-processed text with no stopwords and lowercased.\n",
    "2. For each text, it finds which words have TF-IDF weights and are in the Word2Vec model\n",
    "3. It multiplies each word vector by its corresponding TF-IDF weight\n",
    "4. It computes the weighted average by summing the weighted vectors and dividing by the total weight\n",
    "5. If no weighted vectors are found, it returns a zero vector"
   ]
  },
  {
   "cell_type": "code",
   "execution_count": null,
   "id": "8173ebd8",
   "metadata": {},
   "outputs": [
    {
     "name": "stdout",
     "output_type": "stream",
     "text": [
      "Shape of the sentence embeddings for training set: (8530, 300)\n",
      "Shape of the sentence embeddings for validation set: (1066, 300)\n"
     ]
    }
   ],
   "source": [
    "# First, we fit the TF-IDF vectorizer on the training data\n",
    "tfidf_vectorizer = TfidfVectorizer(\n",
    "    lowercase=False,  # Already preprocessed in lower_nostop\n",
    "    stop_words=None,  # Already handled in lower_nostop\n",
    "    min_df=0.0,\n",
    "    max_df=1.0,\n",
    "    sublinear_tf=True,  # Apply sublinear term frequency scaling\n",
    "    ngram_range=(1, 1)  # Unigrams only\n",
    ")\n",
    "# Fit the TF-IDF vectorizer on the training data with the text\n",
    "tfidf_vectorizer.fit(df_train['text_lower'].values)\n",
    "\n",
    "# Then create the TF-IDF weighted embeddings\n",
    "embeddings_train_tfidf_mean = preprocessing.word2vec_tfidf_weighted_embedding(\n",
    "    df_train['text'], \n",
    "    word2vec_model, \n",
    "    tfidf_vectorizer, \n",
    "    rm_stopwords=True, \n",
    "    stopwords=my_stop_words\n",
    ")\n",
    "\n",
    "embeddings_val_tfidf_mean = preprocessing.word2vec_tfidf_weighted_embedding(\n",
    "    df_val['text'], \n",
    "    word2vec_model, \n",
    "    tfidf_vectorizer, \n",
    "    rm_stopwords=True, \n",
    "    stopwords=my_stop_words\n",
    ")\n",
    "\n",
    "# Check the shape of the sentence embeddings\n",
    "print(f\"Shape of the sentence embeddings for training set: {embeddings_train_tfidf_mean.shape}\")  # Should be (num_reviews, 300)\n",
    "print(f\"Shape of the sentence embeddings for validation set: {embeddings_val_tfidf_mean.shape}\")  # Should be (num_reviews, 300)"
   ]
  },
  {
   "cell_type": "code",
   "execution_count": 51,
   "id": "3a88f358",
   "metadata": {},
   "outputs": [
    {
     "name": "stdout",
     "output_type": "stream",
     "text": [
      "Fitting 5 folds for each of 50 candidates, totalling 250 fits\n",
      "Best Parameters: {'C': 0.5741157902710026, 'penalty': 'l2'}\n",
      "Best model saved as: models/word2vec_tfidf_weighted_emb_f1_macro_0.7650.pkl\n"
     ]
    }
   ],
   "source": [
    "# Fit the randomized search defined in the previous section on the training data, \n",
    "random_search.fit(embeddings_train_tfidf_mean, df_train['label'].values)\n",
    "\n",
    "# Best parameters found by grid search\n",
    "print(f'Best Parameters: {random_search.best_params_}')\n",
    "\n",
    "# Save the best model as a pickle file with the name of the model and the F1 score in the models directory\n",
    "os.makedirs('models', exist_ok=True)\n",
    "best_model_name = f\"models/word2vec_tfidf_weighted_emb_f1_{metric_avg}_{random_search.best_score_:.4f}.pkl\"\n",
    "with open(best_model_name, 'wb') as f:\n",
    "    pickle.dump(random_search.best_estimator_, f)\n",
    "print(f\"Best model saved as: {best_model_name}\")"
   ]
  },
  {
   "cell_type": "markdown",
   "id": "621a6986",
   "metadata": {},
   "source": [
    "For 50 iterations and 5 folds, it takes approximately 2.33 minutes to finish the `RandomizedSearchCV`."
   ]
  },
  {
   "cell_type": "code",
   "execution_count": 53,
   "id": "f349086e",
   "metadata": {},
   "outputs": [
    {
     "data": {
      "text/html": [
       "<style>#sk-container-id-3 {\n",
       "  /* Definition of color scheme common for light and dark mode */\n",
       "  --sklearn-color-text: #000;\n",
       "  --sklearn-color-text-muted: #666;\n",
       "  --sklearn-color-line: gray;\n",
       "  /* Definition of color scheme for unfitted estimators */\n",
       "  --sklearn-color-unfitted-level-0: #fff5e6;\n",
       "  --sklearn-color-unfitted-level-1: #f6e4d2;\n",
       "  --sklearn-color-unfitted-level-2: #ffe0b3;\n",
       "  --sklearn-color-unfitted-level-3: chocolate;\n",
       "  /* Definition of color scheme for fitted estimators */\n",
       "  --sklearn-color-fitted-level-0: #f0f8ff;\n",
       "  --sklearn-color-fitted-level-1: #d4ebff;\n",
       "  --sklearn-color-fitted-level-2: #b3dbfd;\n",
       "  --sklearn-color-fitted-level-3: cornflowerblue;\n",
       "\n",
       "  /* Specific color for light theme */\n",
       "  --sklearn-color-text-on-default-background: var(--sg-text-color, var(--theme-code-foreground, var(--jp-content-font-color1, black)));\n",
       "  --sklearn-color-background: var(--sg-background-color, var(--theme-background, var(--jp-layout-color0, white)));\n",
       "  --sklearn-color-border-box: var(--sg-text-color, var(--theme-code-foreground, var(--jp-content-font-color1, black)));\n",
       "  --sklearn-color-icon: #696969;\n",
       "\n",
       "  @media (prefers-color-scheme: dark) {\n",
       "    /* Redefinition of color scheme for dark theme */\n",
       "    --sklearn-color-text-on-default-background: var(--sg-text-color, var(--theme-code-foreground, var(--jp-content-font-color1, white)));\n",
       "    --sklearn-color-background: var(--sg-background-color, var(--theme-background, var(--jp-layout-color0, #111)));\n",
       "    --sklearn-color-border-box: var(--sg-text-color, var(--theme-code-foreground, var(--jp-content-font-color1, white)));\n",
       "    --sklearn-color-icon: #878787;\n",
       "  }\n",
       "}\n",
       "\n",
       "#sk-container-id-3 {\n",
       "  color: var(--sklearn-color-text);\n",
       "}\n",
       "\n",
       "#sk-container-id-3 pre {\n",
       "  padding: 0;\n",
       "}\n",
       "\n",
       "#sk-container-id-3 input.sk-hidden--visually {\n",
       "  border: 0;\n",
       "  clip: rect(1px 1px 1px 1px);\n",
       "  clip: rect(1px, 1px, 1px, 1px);\n",
       "  height: 1px;\n",
       "  margin: -1px;\n",
       "  overflow: hidden;\n",
       "  padding: 0;\n",
       "  position: absolute;\n",
       "  width: 1px;\n",
       "}\n",
       "\n",
       "#sk-container-id-3 div.sk-dashed-wrapped {\n",
       "  border: 1px dashed var(--sklearn-color-line);\n",
       "  margin: 0 0.4em 0.5em 0.4em;\n",
       "  box-sizing: border-box;\n",
       "  padding-bottom: 0.4em;\n",
       "  background-color: var(--sklearn-color-background);\n",
       "}\n",
       "\n",
       "#sk-container-id-3 div.sk-container {\n",
       "  /* jupyter's `normalize.less` sets `[hidden] { display: none; }`\n",
       "     but bootstrap.min.css set `[hidden] { display: none !important; }`\n",
       "     so we also need the `!important` here to be able to override the\n",
       "     default hidden behavior on the sphinx rendered scikit-learn.org.\n",
       "     See: https://github.com/scikit-learn/scikit-learn/issues/21755 */\n",
       "  display: inline-block !important;\n",
       "  position: relative;\n",
       "}\n",
       "\n",
       "#sk-container-id-3 div.sk-text-repr-fallback {\n",
       "  display: none;\n",
       "}\n",
       "\n",
       "div.sk-parallel-item,\n",
       "div.sk-serial,\n",
       "div.sk-item {\n",
       "  /* draw centered vertical line to link estimators */\n",
       "  background-image: linear-gradient(var(--sklearn-color-text-on-default-background), var(--sklearn-color-text-on-default-background));\n",
       "  background-size: 2px 100%;\n",
       "  background-repeat: no-repeat;\n",
       "  background-position: center center;\n",
       "}\n",
       "\n",
       "/* Parallel-specific style estimator block */\n",
       "\n",
       "#sk-container-id-3 div.sk-parallel-item::after {\n",
       "  content: \"\";\n",
       "  width: 100%;\n",
       "  border-bottom: 2px solid var(--sklearn-color-text-on-default-background);\n",
       "  flex-grow: 1;\n",
       "}\n",
       "\n",
       "#sk-container-id-3 div.sk-parallel {\n",
       "  display: flex;\n",
       "  align-items: stretch;\n",
       "  justify-content: center;\n",
       "  background-color: var(--sklearn-color-background);\n",
       "  position: relative;\n",
       "}\n",
       "\n",
       "#sk-container-id-3 div.sk-parallel-item {\n",
       "  display: flex;\n",
       "  flex-direction: column;\n",
       "}\n",
       "\n",
       "#sk-container-id-3 div.sk-parallel-item:first-child::after {\n",
       "  align-self: flex-end;\n",
       "  width: 50%;\n",
       "}\n",
       "\n",
       "#sk-container-id-3 div.sk-parallel-item:last-child::after {\n",
       "  align-self: flex-start;\n",
       "  width: 50%;\n",
       "}\n",
       "\n",
       "#sk-container-id-3 div.sk-parallel-item:only-child::after {\n",
       "  width: 0;\n",
       "}\n",
       "\n",
       "/* Serial-specific style estimator block */\n",
       "\n",
       "#sk-container-id-3 div.sk-serial {\n",
       "  display: flex;\n",
       "  flex-direction: column;\n",
       "  align-items: center;\n",
       "  background-color: var(--sklearn-color-background);\n",
       "  padding-right: 1em;\n",
       "  padding-left: 1em;\n",
       "}\n",
       "\n",
       "\n",
       "/* Toggleable style: style used for estimator/Pipeline/ColumnTransformer box that is\n",
       "clickable and can be expanded/collapsed.\n",
       "- Pipeline and ColumnTransformer use this feature and define the default style\n",
       "- Estimators will overwrite some part of the style using the `sk-estimator` class\n",
       "*/\n",
       "\n",
       "/* Pipeline and ColumnTransformer style (default) */\n",
       "\n",
       "#sk-container-id-3 div.sk-toggleable {\n",
       "  /* Default theme specific background. It is overwritten whether we have a\n",
       "  specific estimator or a Pipeline/ColumnTransformer */\n",
       "  background-color: var(--sklearn-color-background);\n",
       "}\n",
       "\n",
       "/* Toggleable label */\n",
       "#sk-container-id-3 label.sk-toggleable__label {\n",
       "  cursor: pointer;\n",
       "  display: flex;\n",
       "  width: 100%;\n",
       "  margin-bottom: 0;\n",
       "  padding: 0.5em;\n",
       "  box-sizing: border-box;\n",
       "  text-align: center;\n",
       "  align-items: start;\n",
       "  justify-content: space-between;\n",
       "  gap: 0.5em;\n",
       "}\n",
       "\n",
       "#sk-container-id-3 label.sk-toggleable__label .caption {\n",
       "  font-size: 0.6rem;\n",
       "  font-weight: lighter;\n",
       "  color: var(--sklearn-color-text-muted);\n",
       "}\n",
       "\n",
       "#sk-container-id-3 label.sk-toggleable__label-arrow:before {\n",
       "  /* Arrow on the left of the label */\n",
       "  content: \"▸\";\n",
       "  float: left;\n",
       "  margin-right: 0.25em;\n",
       "  color: var(--sklearn-color-icon);\n",
       "}\n",
       "\n",
       "#sk-container-id-3 label.sk-toggleable__label-arrow:hover:before {\n",
       "  color: var(--sklearn-color-text);\n",
       "}\n",
       "\n",
       "/* Toggleable content - dropdown */\n",
       "\n",
       "#sk-container-id-3 div.sk-toggleable__content {\n",
       "  max-height: 0;\n",
       "  max-width: 0;\n",
       "  overflow: hidden;\n",
       "  text-align: left;\n",
       "  /* unfitted */\n",
       "  background-color: var(--sklearn-color-unfitted-level-0);\n",
       "}\n",
       "\n",
       "#sk-container-id-3 div.sk-toggleable__content.fitted {\n",
       "  /* fitted */\n",
       "  background-color: var(--sklearn-color-fitted-level-0);\n",
       "}\n",
       "\n",
       "#sk-container-id-3 div.sk-toggleable__content pre {\n",
       "  margin: 0.2em;\n",
       "  border-radius: 0.25em;\n",
       "  color: var(--sklearn-color-text);\n",
       "  /* unfitted */\n",
       "  background-color: var(--sklearn-color-unfitted-level-0);\n",
       "}\n",
       "\n",
       "#sk-container-id-3 div.sk-toggleable__content.fitted pre {\n",
       "  /* unfitted */\n",
       "  background-color: var(--sklearn-color-fitted-level-0);\n",
       "}\n",
       "\n",
       "#sk-container-id-3 input.sk-toggleable__control:checked~div.sk-toggleable__content {\n",
       "  /* Expand drop-down */\n",
       "  max-height: 200px;\n",
       "  max-width: 100%;\n",
       "  overflow: auto;\n",
       "}\n",
       "\n",
       "#sk-container-id-3 input.sk-toggleable__control:checked~label.sk-toggleable__label-arrow:before {\n",
       "  content: \"▾\";\n",
       "}\n",
       "\n",
       "/* Pipeline/ColumnTransformer-specific style */\n",
       "\n",
       "#sk-container-id-3 div.sk-label input.sk-toggleable__control:checked~label.sk-toggleable__label {\n",
       "  color: var(--sklearn-color-text);\n",
       "  background-color: var(--sklearn-color-unfitted-level-2);\n",
       "}\n",
       "\n",
       "#sk-container-id-3 div.sk-label.fitted input.sk-toggleable__control:checked~label.sk-toggleable__label {\n",
       "  background-color: var(--sklearn-color-fitted-level-2);\n",
       "}\n",
       "\n",
       "/* Estimator-specific style */\n",
       "\n",
       "/* Colorize estimator box */\n",
       "#sk-container-id-3 div.sk-estimator input.sk-toggleable__control:checked~label.sk-toggleable__label {\n",
       "  /* unfitted */\n",
       "  background-color: var(--sklearn-color-unfitted-level-2);\n",
       "}\n",
       "\n",
       "#sk-container-id-3 div.sk-estimator.fitted input.sk-toggleable__control:checked~label.sk-toggleable__label {\n",
       "  /* fitted */\n",
       "  background-color: var(--sklearn-color-fitted-level-2);\n",
       "}\n",
       "\n",
       "#sk-container-id-3 div.sk-label label.sk-toggleable__label,\n",
       "#sk-container-id-3 div.sk-label label {\n",
       "  /* The background is the default theme color */\n",
       "  color: var(--sklearn-color-text-on-default-background);\n",
       "}\n",
       "\n",
       "/* On hover, darken the color of the background */\n",
       "#sk-container-id-3 div.sk-label:hover label.sk-toggleable__label {\n",
       "  color: var(--sklearn-color-text);\n",
       "  background-color: var(--sklearn-color-unfitted-level-2);\n",
       "}\n",
       "\n",
       "/* Label box, darken color on hover, fitted */\n",
       "#sk-container-id-3 div.sk-label.fitted:hover label.sk-toggleable__label.fitted {\n",
       "  color: var(--sklearn-color-text);\n",
       "  background-color: var(--sklearn-color-fitted-level-2);\n",
       "}\n",
       "\n",
       "/* Estimator label */\n",
       "\n",
       "#sk-container-id-3 div.sk-label label {\n",
       "  font-family: monospace;\n",
       "  font-weight: bold;\n",
       "  display: inline-block;\n",
       "  line-height: 1.2em;\n",
       "}\n",
       "\n",
       "#sk-container-id-3 div.sk-label-container {\n",
       "  text-align: center;\n",
       "}\n",
       "\n",
       "/* Estimator-specific */\n",
       "#sk-container-id-3 div.sk-estimator {\n",
       "  font-family: monospace;\n",
       "  border: 1px dotted var(--sklearn-color-border-box);\n",
       "  border-radius: 0.25em;\n",
       "  box-sizing: border-box;\n",
       "  margin-bottom: 0.5em;\n",
       "  /* unfitted */\n",
       "  background-color: var(--sklearn-color-unfitted-level-0);\n",
       "}\n",
       "\n",
       "#sk-container-id-3 div.sk-estimator.fitted {\n",
       "  /* fitted */\n",
       "  background-color: var(--sklearn-color-fitted-level-0);\n",
       "}\n",
       "\n",
       "/* on hover */\n",
       "#sk-container-id-3 div.sk-estimator:hover {\n",
       "  /* unfitted */\n",
       "  background-color: var(--sklearn-color-unfitted-level-2);\n",
       "}\n",
       "\n",
       "#sk-container-id-3 div.sk-estimator.fitted:hover {\n",
       "  /* fitted */\n",
       "  background-color: var(--sklearn-color-fitted-level-2);\n",
       "}\n",
       "\n",
       "/* Specification for estimator info (e.g. \"i\" and \"?\") */\n",
       "\n",
       "/* Common style for \"i\" and \"?\" */\n",
       "\n",
       ".sk-estimator-doc-link,\n",
       "a:link.sk-estimator-doc-link,\n",
       "a:visited.sk-estimator-doc-link {\n",
       "  float: right;\n",
       "  font-size: smaller;\n",
       "  line-height: 1em;\n",
       "  font-family: monospace;\n",
       "  background-color: var(--sklearn-color-background);\n",
       "  border-radius: 1em;\n",
       "  height: 1em;\n",
       "  width: 1em;\n",
       "  text-decoration: none !important;\n",
       "  margin-left: 0.5em;\n",
       "  text-align: center;\n",
       "  /* unfitted */\n",
       "  border: var(--sklearn-color-unfitted-level-1) 1pt solid;\n",
       "  color: var(--sklearn-color-unfitted-level-1);\n",
       "}\n",
       "\n",
       ".sk-estimator-doc-link.fitted,\n",
       "a:link.sk-estimator-doc-link.fitted,\n",
       "a:visited.sk-estimator-doc-link.fitted {\n",
       "  /* fitted */\n",
       "  border: var(--sklearn-color-fitted-level-1) 1pt solid;\n",
       "  color: var(--sklearn-color-fitted-level-1);\n",
       "}\n",
       "\n",
       "/* On hover */\n",
       "div.sk-estimator:hover .sk-estimator-doc-link:hover,\n",
       ".sk-estimator-doc-link:hover,\n",
       "div.sk-label-container:hover .sk-estimator-doc-link:hover,\n",
       ".sk-estimator-doc-link:hover {\n",
       "  /* unfitted */\n",
       "  background-color: var(--sklearn-color-unfitted-level-3);\n",
       "  color: var(--sklearn-color-background);\n",
       "  text-decoration: none;\n",
       "}\n",
       "\n",
       "div.sk-estimator.fitted:hover .sk-estimator-doc-link.fitted:hover,\n",
       ".sk-estimator-doc-link.fitted:hover,\n",
       "div.sk-label-container:hover .sk-estimator-doc-link.fitted:hover,\n",
       ".sk-estimator-doc-link.fitted:hover {\n",
       "  /* fitted */\n",
       "  background-color: var(--sklearn-color-fitted-level-3);\n",
       "  color: var(--sklearn-color-background);\n",
       "  text-decoration: none;\n",
       "}\n",
       "\n",
       "/* Span, style for the box shown on hovering the info icon */\n",
       ".sk-estimator-doc-link span {\n",
       "  display: none;\n",
       "  z-index: 9999;\n",
       "  position: relative;\n",
       "  font-weight: normal;\n",
       "  right: .2ex;\n",
       "  padding: .5ex;\n",
       "  margin: .5ex;\n",
       "  width: min-content;\n",
       "  min-width: 20ex;\n",
       "  max-width: 50ex;\n",
       "  color: var(--sklearn-color-text);\n",
       "  box-shadow: 2pt 2pt 4pt #999;\n",
       "  /* unfitted */\n",
       "  background: var(--sklearn-color-unfitted-level-0);\n",
       "  border: .5pt solid var(--sklearn-color-unfitted-level-3);\n",
       "}\n",
       "\n",
       ".sk-estimator-doc-link.fitted span {\n",
       "  /* fitted */\n",
       "  background: var(--sklearn-color-fitted-level-0);\n",
       "  border: var(--sklearn-color-fitted-level-3);\n",
       "}\n",
       "\n",
       ".sk-estimator-doc-link:hover span {\n",
       "  display: block;\n",
       "}\n",
       "\n",
       "/* \"?\"-specific style due to the `<a>` HTML tag */\n",
       "\n",
       "#sk-container-id-3 a.estimator_doc_link {\n",
       "  float: right;\n",
       "  font-size: 1rem;\n",
       "  line-height: 1em;\n",
       "  font-family: monospace;\n",
       "  background-color: var(--sklearn-color-background);\n",
       "  border-radius: 1rem;\n",
       "  height: 1rem;\n",
       "  width: 1rem;\n",
       "  text-decoration: none;\n",
       "  /* unfitted */\n",
       "  color: var(--sklearn-color-unfitted-level-1);\n",
       "  border: var(--sklearn-color-unfitted-level-1) 1pt solid;\n",
       "}\n",
       "\n",
       "#sk-container-id-3 a.estimator_doc_link.fitted {\n",
       "  /* fitted */\n",
       "  border: var(--sklearn-color-fitted-level-1) 1pt solid;\n",
       "  color: var(--sklearn-color-fitted-level-1);\n",
       "}\n",
       "\n",
       "/* On hover */\n",
       "#sk-container-id-3 a.estimator_doc_link:hover {\n",
       "  /* unfitted */\n",
       "  background-color: var(--sklearn-color-unfitted-level-3);\n",
       "  color: var(--sklearn-color-background);\n",
       "  text-decoration: none;\n",
       "}\n",
       "\n",
       "#sk-container-id-3 a.estimator_doc_link.fitted:hover {\n",
       "  /* fitted */\n",
       "  background-color: var(--sklearn-color-fitted-level-3);\n",
       "}\n",
       "</style><div id=\"sk-container-id-3\" class=\"sk-top-container\"><div class=\"sk-text-repr-fallback\"><pre>LogisticRegression(C=0.5741157902710026, max_iter=1000, random_state=42,\n",
       "                   solver=&#x27;liblinear&#x27;)</pre><b>In a Jupyter environment, please rerun this cell to show the HTML representation or trust the notebook. <br />On GitHub, the HTML representation is unable to render, please try loading this page with nbviewer.org.</b></div><div class=\"sk-container\" hidden><div class=\"sk-item\"><div class=\"sk-estimator fitted sk-toggleable\"><input class=\"sk-toggleable__control sk-hidden--visually\" id=\"sk-estimator-id-5\" type=\"checkbox\" checked><label for=\"sk-estimator-id-5\" class=\"sk-toggleable__label fitted sk-toggleable__label-arrow\"><div><div>LogisticRegression</div></div><div><a class=\"sk-estimator-doc-link fitted\" rel=\"noreferrer\" target=\"_blank\" href=\"https://scikit-learn.org/1.6/modules/generated/sklearn.linear_model.LogisticRegression.html\">?<span>Documentation for LogisticRegression</span></a><span class=\"sk-estimator-doc-link fitted\">i<span>Fitted</span></span></div></label><div class=\"sk-toggleable__content fitted\"><pre>LogisticRegression(C=0.5741157902710026, max_iter=1000, random_state=42,\n",
       "                   solver=&#x27;liblinear&#x27;)</pre></div> </div></div></div></div>"
      ],
      "text/plain": [
       "LogisticRegression(C=0.5741157902710026, max_iter=1000, random_state=42,\n",
       "                   solver='liblinear')"
      ]
     },
     "execution_count": 53,
     "metadata": {},
     "output_type": "execute_result"
    }
   ],
   "source": [
    "# Load the best model from the pickle file\n",
    "with open('models/word2vec_tfidf_weighted_emb_f1_macro_0.7650.pkl', 'rb') as f:\n",
    "    best_model = pickle.load(f)\n",
    "\n",
    "# Train the best model on the entire training set\n",
    "model = best_model.fit(embeddings_train_tfidf_mean, df_train['label'].values)\n",
    "\n",
    "model"
   ]
  },
  {
   "cell_type": "code",
   "execution_count": 54,
   "id": "ff3c9eda",
   "metadata": {},
   "outputs": [
    {
     "name": "stdout",
     "output_type": "stream",
     "text": [
      "Metrics calculated for: Logreg - tfidf embed.\n"
     ]
    },
    {
     "data": {
      "image/png": "[encoded data removed]",
      "text/plain": [
       "<Figure size 1200x1000 with 4 Axes>"
      ]
     },
     "metadata": {},
     "output_type": "display_data"
    }
   ],
   "source": [
    "# Evaluate on the validation set\n",
    "valid_preds = best_model.predict(embeddings_val_tfidf_mean)\n",
    "\n",
    "# Compute the metrics for the logistic regression model and the validation set\n",
    "metrics_val.run(\n",
    "    y_true=df_val['label'].values,\n",
    "    y_pred=valid_preds,\n",
    "    method_name=\"Logreg - tfidf embed.\",\n",
    "    average=metric_avg\n",
    ")\n",
    "\n",
    "metrics_val.plot()"
   ]
  },
  {
   "cell_type": "markdown",
   "id": "9c6267a5",
   "metadata": {},
   "source": [
    "A bit surprisingly, the logistic regression with the TF-IDF-weighted word embeddings performs worse than with simple (arithmetic) mean embeddings for each text. Given how TF-IDF works, emphasizing rare words which appear in few documents (and downweighting the others), it may be that it is precisely downweighting more common words which can be closely linked to the sentiment, which could lead to this relatively worse performance."
   ]
  },
  {
   "cell_type": "markdown",
   "id": "f6a269b9",
   "metadata": {},
   "source": [
    "# 3. Part 3: Recurrent Neural Networks (RNN) with Word2Vec (4 points)\n",
    "\n",
    "**Objective**: Explore the application of RNNs for sentiment analysis, utilizing pre-trained Word2Vec embeddings."
   ]
  },
  {
   "cell_type": "markdown",
   "id": "decc0a07",
   "metadata": {},
   "source": [
    "## 3.1. RNN Implementation\n",
    "\n",
    "(1 point for each section)"
   ]
  },
  {
   "cell_type": "markdown",
   "id": "837d2b99",
   "metadata": {},
   "source": [
    "### a. Fit an RNN model with LSTM units using Word2Vec embeddings. Analyze and compare its performance with the TF-IDF based logistic regression model. \n",
    "\n",
    "(1 point)"
   ]
  },
  {
   "cell_type": "markdown",
   "id": "8602ce8a",
   "metadata": {},
   "source": [
    "#### Preprocessing for the LSTM\n",
    "\n",
    "(Following the guidelines in the notebooks `Session_2_3_LSTM_Classif.ipynb` and `Session_4_correction.ipynb`)."
   ]
  },
  {
   "cell_type": "code",
   "execution_count": null,
   "id": "57c28a1c",
   "metadata": {},
   "outputs": [
    {
     "name": "stdout",
     "output_type": "stream",
     "text": [
      "Found 17452 unique tokens.\n",
      "\n",
      "Original text:\n",
      "\n",
      "the rock is destined to be the 21st century's new \" conan \" and that he's going to make a splash even greater than arnold schwarzenegger , jean-claud van damme or steven segal .\n",
      "\n",
      "Word IDs:\n",
      "\n",
      "[2, 645, 7, 2775, 6, 21, 2, 3217, 8963, 94, 4801, 4, 9, 313, 230, 6, 68, 3, 3218, 53, 2431, 34, 1480, 1961, 1962, 8964, 1481, 6231, 39, 939, 8965]\n",
      "\n",
      "Tokenized text:\n",
      "\n",
      "[\"the rock is destined to be the 21st century's new conan and that he's going to make a splash even greater than arnold schwarzenegger jean claud van damme or steven segal\"]\n"
     ]
    }
   ],
   "source": [
    "vocab_size = 20000  # Maximum size of the vocabulary\n",
    "\n",
    "# Initialize and fit the tokenizer (create word IDs), and create ID for out-of-vocabulary words \n",
    "tokenizer = Tokenizer(num_words=vocab_size, oov_token=\"<OOV>\")\n",
    "tokenizer.fit_on_texts(df_train['text'].values)\n",
    "word_index = tokenizer.word_index\n",
    "print(f\"Found {len(word_index)} unique tokens.\")\n",
    "\n",
    "# Convert texts to sequences of word IDs (transform)\n",
    "sequences_train = tokenizer.texts_to_sequences(df_train['text'].values)\n",
    "sequences_val = tokenizer.texts_to_sequences(df_val['text'].values)\n",
    "\n",
    "# Print an example\n",
    "print('\\nOriginal text:\\n')\n",
    "print(df_train['text'][0])\n",
    "print('\\nWord IDs:\\n')\n",
    "print(sequences_train[0])\n",
    "print('\\nTokenized text:\\n')\n",
    "print(tokenizer.sequences_to_texts([sequences_train[0]]))"
   ]
  },
  {
   "cell_type": "code",
   "execution_count": null,
   "id": "d2581f86",
   "metadata": {},
   "outputs": [],
   "source": [
    "max_length = 64  # Maximum length of the sequences (number of words in a review). Set to 64 because, at most, reviews have 59 words (see 0.2) \n",
    "\n",
    "# Pad sequences to the same length (i.e., truncate longer sequences by not considering \n",
    "# the words further than the maximum length and pad shorter ones, by adding zeros at the end)\n",
    "padded_sequences_train = pad_sequences(sequences_train, maxlen=max_length,\n",
    "                                 padding='post', truncating='post')\n",
    "padded_sequences_val = pad_sequences(sequences_val, maxlen=max_length,\n",
    "                                 padding='post', truncating='post')\n",
    "\n",
    "# Convert labels to numpy arrays\n",
    "y_train = df_train['label'].values\n",
    "y_val = df_val['label'].values"
   ]
  },
  {
   "cell_type": "markdown",
   "id": "0e190346",
   "metadata": {},
   "source": [
    "#### Create embedding metrix from Word2Vec\n",
    "\n",
    "The embedding layer with the pre-trained Word2Vec model from `gensim` is created here."
   ]
  },
  {
   "cell_type": "code",
   "execution_count": 67,
   "id": "2e587eca",
   "metadata": {},
   "outputs": [
    {
     "name": "stdout",
     "output_type": "stream",
     "text": [
      "Embedding matrix shape: (17453, 300)\n"
     ]
    }
   ],
   "source": [
    "# Create embedding matrix using pre-trained Word2Vec\n",
    "embedding_matrix = np.zeros((len(word_index) + 1, word_vector_dim))  # Sum 1 for the out-of-vocabulary token\n",
    "\n",
    "for word, i in word_index.items():\n",
    "    if i < vocab_size:\n",
    "        try:\n",
    "            embedding_vector = word2vec_model[word]\n",
    "            embedding_matrix[i] = embedding_vector\n",
    "        except KeyError:\n",
    "            # Word not in embedding model, leave as zeros\n",
    "            continue\n",
    "\n",
    "print(f\"Embedding matrix shape: {embedding_matrix.shape}\")"
   ]
  },
  {
   "cell_type": "markdown",
   "id": "8c162169",
   "metadata": {},
   "source": [
    "#### Build the model"
   ]
  },
  {
   "cell_type": "code",
   "execution_count": 89,
   "id": "46cf05e8",
   "metadata": {},
   "outputs": [
    {
     "data": {
      "text/html": [
       "<pre style=\"white-space:pre;overflow-x:auto;line-height:normal;font-family:Menlo,'DejaVu Sans Mono',consolas,'Courier New',monospace\"><span style=\"font-weight: bold\">Model: \"sequential_6\"</span>\n",
       "</pre>\n"
      ],
      "text/plain": [
       "\u001b[1mModel: \"sequential_6\"\u001b[0m\n"
      ]
     },
     "metadata": {},
     "output_type": "display_data"
    },
    {
     "data": {
      "text/html": [
       "<pre style=\"white-space:pre;overflow-x:auto;line-height:normal;font-family:Menlo,'DejaVu Sans Mono',consolas,'Courier New',monospace\">┏━━━━━━━━━━━━━━━━━━━━━━━━━━━━━━━━━┳━━━━━━━━━━━━━━━━━━━━━━━━┳━━━━━━━━━━━━━━━┓\n",
       "┃<span style=\"font-weight: bold\"> Layer (type)                    </span>┃<span style=\"font-weight: bold\"> Output Shape           </span>┃<span style=\"font-weight: bold\">       Param # </span>┃\n",
       "┡━━━━━━━━━━━━━━━━━━━━━━━━━━━━━━━━━╇━━━━━━━━━━━━━━━━━━━━━━━━╇━━━━━━━━━━━━━━━┩\n",
       "│ embedding_6 (<span style=\"color: #0087ff; text-decoration-color: #0087ff\">Embedding</span>)         │ ?                      │     <span style=\"color: #00af00; text-decoration-color: #00af00\">5,235,900</span> │\n",
       "├─────────────────────────────────┼────────────────────────┼───────────────┤\n",
       "│ bidirectional_6 (<span style=\"color: #0087ff; text-decoration-color: #0087ff\">Bidirectional</span>) │ ?                      │   <span style=\"color: #00af00; text-decoration-color: #00af00\">0</span> (unbuilt) │\n",
       "├─────────────────────────────────┼────────────────────────┼───────────────┤\n",
       "│ flatten_4 (<span style=\"color: #0087ff; text-decoration-color: #0087ff\">Flatten</span>)             │ ?                      │   <span style=\"color: #00af00; text-decoration-color: #00af00\">0</span> (unbuilt) │\n",
       "├─────────────────────────────────┼────────────────────────┼───────────────┤\n",
       "│ dropout_1 (<span style=\"color: #0087ff; text-decoration-color: #0087ff\">Dropout</span>)             │ ?                      │             <span style=\"color: #00af00; text-decoration-color: #00af00\">0</span> │\n",
       "├─────────────────────────────────┼────────────────────────┼───────────────┤\n",
       "│ dense_5 (<span style=\"color: #0087ff; text-decoration-color: #0087ff\">Dense</span>)                 │ ?                      │   <span style=\"color: #00af00; text-decoration-color: #00af00\">0</span> (unbuilt) │\n",
       "└─────────────────────────────────┴────────────────────────┴───────────────┘\n",
       "</pre>\n"
      ],
      "text/plain": [
       "┏━━━━━━━━━━━━━━━━━━━━━━━━━━━━━━━━━┳━━━━━━━━━━━━━━━━━━━━━━━━┳━━━━━━━━━━━━━━━┓\n",
       "┃\u001b[1m \u001b[0m\u001b[1mLayer (type)                   \u001b[0m\u001b[1m \u001b[0m┃\u001b[1m \u001b[0m\u001b[1mOutput Shape          \u001b[0m\u001b[1m \u001b[0m┃\u001b[1m \u001b[0m\u001b[1m      Param #\u001b[0m\u001b[1m \u001b[0m┃\n",
       "┡━━━━━━━━━━━━━━━━━━━━━━━━━━━━━━━━━╇━━━━━━━━━━━━━━━━━━━━━━━━╇━━━━━━━━━━━━━━━┩\n",
       "│ embedding_6 (\u001b[38;5;33mEmbedding\u001b[0m)         │ ?                      │     \u001b[38;5;34m5,235,900\u001b[0m │\n",
       "├─────────────────────────────────┼────────────────────────┼───────────────┤\n",
       "│ bidirectional_6 (\u001b[38;5;33mBidirectional\u001b[0m) │ ?                      │   \u001b[38;5;34m0\u001b[0m (unbuilt) │\n",
       "├─────────────────────────────────┼────────────────────────┼───────────────┤\n",
       "│ flatten_4 (\u001b[38;5;33mFlatten\u001b[0m)             │ ?                      │   \u001b[38;5;34m0\u001b[0m (unbuilt) │\n",
       "├─────────────────────────────────┼────────────────────────┼───────────────┤\n",
       "│ dropout_1 (\u001b[38;5;33mDropout\u001b[0m)             │ ?                      │             \u001b[38;5;34m0\u001b[0m │\n",
       "├─────────────────────────────────┼────────────────────────┼───────────────┤\n",
       "│ dense_5 (\u001b[38;5;33mDense\u001b[0m)                 │ ?                      │   \u001b[38;5;34m0\u001b[0m (unbuilt) │\n",
       "└─────────────────────────────────┴────────────────────────┴───────────────┘\n"
      ]
     },
     "metadata": {},
     "output_type": "display_data"
    },
    {
     "data": {
      "text/html": [
       "<pre style=\"white-space:pre;overflow-x:auto;line-height:normal;font-family:Menlo,'DejaVu Sans Mono',consolas,'Courier New',monospace\"><span style=\"font-weight: bold\"> Total params: </span><span style=\"color: #00af00; text-decoration-color: #00af00\">5,235,900</span> (19.97 MB)\n",
       "</pre>\n"
      ],
      "text/plain": [
       "\u001b[1m Total params: \u001b[0m\u001b[38;5;34m5,235,900\u001b[0m (19.97 MB)\n"
      ]
     },
     "metadata": {},
     "output_type": "display_data"
    },
    {
     "data": {
      "text/html": [
       "<pre style=\"white-space:pre;overflow-x:auto;line-height:normal;font-family:Menlo,'DejaVu Sans Mono',consolas,'Courier New',monospace\"><span style=\"font-weight: bold\"> Trainable params: </span><span style=\"color: #00af00; text-decoration-color: #00af00\">0</span> (0.00 B)\n",
       "</pre>\n"
      ],
      "text/plain": [
       "\u001b[1m Trainable params: \u001b[0m\u001b[38;5;34m0\u001b[0m (0.00 B)\n"
      ]
     },
     "metadata": {},
     "output_type": "display_data"
    },
    {
     "data": {
      "text/html": [
       "<pre style=\"white-space:pre;overflow-x:auto;line-height:normal;font-family:Menlo,'DejaVu Sans Mono',consolas,'Courier New',monospace\"><span style=\"font-weight: bold\"> Non-trainable params: </span><span style=\"color: #00af00; text-decoration-color: #00af00\">5,235,900</span> (19.97 MB)\n",
       "</pre>\n"
      ],
      "text/plain": [
       "\u001b[1m Non-trainable params: \u001b[0m\u001b[38;5;34m5,235,900\u001b[0m (19.97 MB)\n"
      ]
     },
     "metadata": {},
     "output_type": "display_data"
    }
   ],
   "source": [
    "model = Sequential()\n",
    "model.add(Embedding(len(word_index) + 1,  # Vocabulary size + 1 for out-of-vocabulary token\n",
    "                    word_vector_dim,  # Dimension of the word vectors (300 for Google News model)\n",
    "                    weights=[embedding_matrix],  # Pre-trained word vector weights\n",
    "                    trainable=False))  # Set to False to avoid fine-tuning embeddings\n",
    "\n",
    "# Add LSTM layer(s)\n",
    "model.add(Bidirectional(LSTM(\n",
    "    64,  # Number of LSTM units\n",
    "    return_sequences=True,  # Return the full sequence for the next LSTM layer (which preserves the sequential nature of the data)\n",
    "    dropout=0.2,  # Dropout for the LSTM layer to prevent overfitting\n",
    "    recurrent_dropout=0.2,\n",
    "    activity_regularizer=l2(0.01)  # L2 regularization to prevent overfitting\n",
    ")))\n",
    "\n",
    "# Flatten layer to convert 3D output to 2D\n",
    "model.add(Flatten())\n",
    "\n",
    "# Add dropout before the dense layer to prevent overfitting\n",
    "model.add(Dropout(0.2))\n",
    "\n",
    "# Output layer\n",
    "model.add(Dense(1, # Number of classes (1 for binary classification)\n",
    "                activation='sigmoid'  # Sigmoid activation for binary classification\n",
    "))\n",
    "\n",
    "# Compile model\n",
    "model.compile(loss='binary_crossentropy',\n",
    "              optimizer='adam',\n",
    "              metrics=['accuracy'])\n",
    "\n",
    "model.summary()"
   ]
  },
  {
   "cell_type": "markdown",
   "id": "85b8e9b0",
   "metadata": {},
   "source": [
    "#### Train the model"
   ]
  },
  {
   "cell_type": "code",
   "execution_count": null,
   "id": "f4675327",
   "metadata": {},
   "outputs": [
    {
     "name": "stdout",
     "output_type": "stream",
     "text": [
      "Epoch 1/50\n",
      "\u001b[1m134/134\u001b[0m \u001b[32m━━━━━━━━━━━━━━━━━━━━\u001b[0m\u001b[37m\u001b[0m \u001b[1m7s\u001b[0m 28ms/step - accuracy: 0.5905 - loss: 3.1717 - val_accuracy: 0.6857 - val_loss: 0.8397\n",
      "Epoch 2/50\n",
      "\u001b[1m134/134\u001b[0m \u001b[32m━━━━━━━━━━━━━━━━━━━━\u001b[0m\u001b[37m\u001b[0m \u001b[1m3s\u001b[0m 25ms/step - accuracy: 0.6984 - loss: 0.8958 - val_accuracy: 0.6998 - val_loss: 0.7193\n",
      "Epoch 3/50\n",
      "\u001b[1m134/134\u001b[0m \u001b[32m━━━━━━━━━━━━━━━━━━━━\u001b[0m\u001b[37m\u001b[0m \u001b[1m3s\u001b[0m 25ms/step - accuracy: 0.7312 - loss: 0.7336 - val_accuracy: 0.7552 - val_loss: 0.6128\n",
      "Epoch 4/50\n",
      "\u001b[1m134/134\u001b[0m \u001b[32m━━━━━━━━━━━━━━━━━━━━\u001b[0m\u001b[37m\u001b[0m \u001b[1m3s\u001b[0m 26ms/step - accuracy: 0.7469 - loss: 0.6336 - val_accuracy: 0.7589 - val_loss: 0.5749\n",
      "Epoch 5/50\n",
      "\u001b[1m134/134\u001b[0m \u001b[32m━━━━━━━━━━━━━━━━━━━━\u001b[0m\u001b[37m\u001b[0m \u001b[1m3s\u001b[0m 26ms/step - accuracy: 0.7580 - loss: 0.5878 - val_accuracy: 0.7580 - val_loss: 0.5522\n",
      "Epoch 6/50\n",
      "\u001b[1m134/134\u001b[0m \u001b[32m━━━━━━━━━━━━━━━━━━━━\u001b[0m\u001b[37m\u001b[0m \u001b[1m4s\u001b[0m 26ms/step - accuracy: 0.7650 - loss: 0.5555 - val_accuracy: 0.7439 - val_loss: 0.5569\n",
      "Epoch 7/50\n",
      "\u001b[1m134/134\u001b[0m \u001b[32m━━━━━━━━━━━━━━━━━━━━\u001b[0m\u001b[37m\u001b[0m \u001b[1m4s\u001b[0m 26ms/step - accuracy: 0.7658 - loss: 0.5437 - val_accuracy: 0.7739 - val_loss: 0.5145\n",
      "Epoch 8/50\n",
      "\u001b[1m134/134\u001b[0m \u001b[32m━━━━━━━━━━━━━━━━━━━━\u001b[0m\u001b[37m\u001b[0m \u001b[1m4s\u001b[0m 26ms/step - accuracy: 0.7800 - loss: 0.5188 - val_accuracy: 0.7739 - val_loss: 0.5077\n",
      "Epoch 9/50\n",
      "\u001b[1m134/134\u001b[0m \u001b[32m━━━━━━━━━━━━━━━━━━━━\u001b[0m\u001b[37m\u001b[0m \u001b[1m4s\u001b[0m 27ms/step - accuracy: 0.7834 - loss: 0.5150 - val_accuracy: 0.7720 - val_loss: 0.5060\n",
      "Epoch 10/50\n",
      "\u001b[1m134/134\u001b[0m \u001b[32m━━━━━━━━━━━━━━━━━━━━\u001b[0m\u001b[37m\u001b[0m \u001b[1m4s\u001b[0m 27ms/step - accuracy: 0.7849 - loss: 0.5045 - val_accuracy: 0.7786 - val_loss: 0.4962\n",
      "Epoch 11/50\n",
      "\u001b[1m134/134\u001b[0m \u001b[32m━━━━━━━━━━━━━━━━━━━━\u001b[0m\u001b[37m\u001b[0m \u001b[1m4s\u001b[0m 27ms/step - accuracy: 0.7906 - loss: 0.4905 - val_accuracy: 0.7777 - val_loss: 0.5020\n",
      "Epoch 12/50\n",
      "\u001b[1m134/134\u001b[0m \u001b[32m━━━━━━━━━━━━━━━━━━━━\u001b[0m\u001b[37m\u001b[0m \u001b[1m4s\u001b[0m 27ms/step - accuracy: 0.7841 - loss: 0.4949 - val_accuracy: 0.7814 - val_loss: 0.4873\n",
      "Epoch 13/50\n",
      "\u001b[1m134/134\u001b[0m \u001b[32m━━━━━━━━━━━━━━━━━━━━\u001b[0m\u001b[37m\u001b[0m \u001b[1m4s\u001b[0m 27ms/step - accuracy: 0.7937 - loss: 0.4799 - val_accuracy: 0.7786 - val_loss: 0.4851\n",
      "Epoch 14/50\n",
      "\u001b[1m134/134\u001b[0m \u001b[32m━━━━━━━━━━━━━━━━━━━━\u001b[0m\u001b[37m\u001b[0m \u001b[1m4s\u001b[0m 27ms/step - accuracy: 0.7973 - loss: 0.4767 - val_accuracy: 0.7608 - val_loss: 0.5069\n",
      "Epoch 15/50\n",
      "\u001b[1m134/134\u001b[0m \u001b[32m━━━━━━━━━━━━━━━━━━━━\u001b[0m\u001b[37m\u001b[0m \u001b[1m4s\u001b[0m 27ms/step - accuracy: 0.7977 - loss: 0.4722 - val_accuracy: 0.7899 - val_loss: 0.4824\n",
      "Epoch 16/50\n",
      "\u001b[1m134/134\u001b[0m \u001b[32m━━━━━━━━━━━━━━━━━━━━\u001b[0m\u001b[37m\u001b[0m \u001b[1m4s\u001b[0m 27ms/step - accuracy: 0.8036 - loss: 0.4611 - val_accuracy: 0.7852 - val_loss: 0.4769\n",
      "Epoch 17/50\n",
      "\u001b[1m134/134\u001b[0m \u001b[32m━━━━━━━━━━━━━━━━━━━━\u001b[0m\u001b[37m\u001b[0m \u001b[1m4s\u001b[0m 27ms/step - accuracy: 0.8067 - loss: 0.4581 - val_accuracy: 0.7824 - val_loss: 0.4828\n",
      "Epoch 18/50\n",
      "\u001b[1m134/134\u001b[0m \u001b[32m━━━━━━━━━━━━━━━━━━━━\u001b[0m\u001b[37m\u001b[0m \u001b[1m4s\u001b[0m 27ms/step - accuracy: 0.8107 - loss: 0.4528 - val_accuracy: 0.7936 - val_loss: 0.4724\n",
      "Epoch 19/50\n",
      "\u001b[1m134/134\u001b[0m \u001b[32m━━━━━━━━━━━━━━━━━━━━\u001b[0m\u001b[37m\u001b[0m \u001b[1m4s\u001b[0m 27ms/step - accuracy: 0.8230 - loss: 0.4402 - val_accuracy: 0.7899 - val_loss: 0.4700\n",
      "Epoch 20/50\n",
      "\u001b[1m134/134\u001b[0m \u001b[32m━━━━━━━━━━━━━━━━━━━━\u001b[0m\u001b[37m\u001b[0m \u001b[1m4s\u001b[0m 27ms/step - accuracy: 0.8250 - loss: 0.4308 - val_accuracy: 0.7871 - val_loss: 0.4741\n",
      "Epoch 21/50\n",
      "\u001b[1m134/134\u001b[0m \u001b[32m━━━━━━━━━━━━━━━━━━━━\u001b[0m\u001b[37m\u001b[0m \u001b[1m4s\u001b[0m 27ms/step - accuracy: 0.8089 - loss: 0.4489 - val_accuracy: 0.7861 - val_loss: 0.4814\n",
      "Epoch 22/50\n",
      "\u001b[1m134/134\u001b[0m \u001b[32m━━━━━━━━━━━━━━━━━━━━\u001b[0m\u001b[37m\u001b[0m \u001b[1m4s\u001b[0m 28ms/step - accuracy: 0.8202 - loss: 0.4247 - val_accuracy: 0.7927 - val_loss: 0.4729\n",
      "Epoch 23/50\n",
      "\u001b[1m134/134\u001b[0m \u001b[32m━━━━━━━━━━━━━━━━━━━━\u001b[0m\u001b[37m\u001b[0m \u001b[1m4s\u001b[0m 27ms/step - accuracy: 0.8184 - loss: 0.4245 - val_accuracy: 0.7908 - val_loss: 0.4714\n",
      "Epoch 24/50\n",
      "\u001b[1m134/134\u001b[0m \u001b[32m━━━━━━━━━━━━━━━━━━━━\u001b[0m\u001b[37m\u001b[0m \u001b[1m4s\u001b[0m 27ms/step - accuracy: 0.8287 - loss: 0.4094 - val_accuracy: 0.7861 - val_loss: 0.4806\n",
      "Epoch 25/50\n",
      "\u001b[1m134/134\u001b[0m \u001b[32m━━━━━━━━━━━━━━━━━━━━\u001b[0m\u001b[37m\u001b[0m \u001b[1m4s\u001b[0m 26ms/step - accuracy: 0.8247 - loss: 0.4147 - val_accuracy: 0.7917 - val_loss: 0.4725\n",
      "Epoch 26/50\n",
      "\u001b[1m134/134\u001b[0m \u001b[32m━━━━━━━━━━━━━━━━━━━━\u001b[0m\u001b[37m\u001b[0m \u001b[1m4s\u001b[0m 27ms/step - accuracy: 0.8372 - loss: 0.3971 - val_accuracy: 0.7852 - val_loss: 0.4837\n",
      "Epoch 27/50\n",
      "\u001b[1m134/134\u001b[0m \u001b[32m━━━━━━━━━━━━━━━━━━━━\u001b[0m\u001b[37m\u001b[0m \u001b[1m4s\u001b[0m 28ms/step - accuracy: 0.8403 - loss: 0.3916 - val_accuracy: 0.7899 - val_loss: 0.4684\n",
      "Epoch 28/50\n",
      "\u001b[1m134/134\u001b[0m \u001b[32m━━━━━━━━━━━━━━━━━━━━\u001b[0m\u001b[37m\u001b[0m \u001b[1m4s\u001b[0m 27ms/step - accuracy: 0.8504 - loss: 0.3840 - val_accuracy: 0.7917 - val_loss: 0.4755\n",
      "Epoch 29/50\n",
      "\u001b[1m134/134\u001b[0m \u001b[32m━━━━━━━━━━━━━━━━━━━━\u001b[0m\u001b[37m\u001b[0m \u001b[1m4s\u001b[0m 27ms/step - accuracy: 0.8543 - loss: 0.3795 - val_accuracy: 0.7814 - val_loss: 0.4772\n",
      "Epoch 30/50\n",
      "\u001b[1m134/134\u001b[0m \u001b[32m━━━━━━━━━━━━━━━━━━━━\u001b[0m\u001b[37m\u001b[0m \u001b[1m4s\u001b[0m 27ms/step - accuracy: 0.8660 - loss: 0.3637 - val_accuracy: 0.7852 - val_loss: 0.4827\n",
      "Epoch 31/50\n",
      "\u001b[1m134/134\u001b[0m \u001b[32m━━━━━━━━━━━━━━━━━━━━\u001b[0m\u001b[37m\u001b[0m \u001b[1m4s\u001b[0m 26ms/step - accuracy: 0.8717 - loss: 0.3583 - val_accuracy: 0.7824 - val_loss: 0.4774\n",
      "Epoch 32/50\n",
      "\u001b[1m134/134\u001b[0m \u001b[32m━━━━━━━━━━━━━━━━━━━━\u001b[0m\u001b[37m\u001b[0m \u001b[1m4s\u001b[0m 27ms/step - accuracy: 0.8695 - loss: 0.3501 - val_accuracy: 0.7739 - val_loss: 0.4858\n",
      "Epoch 33/50\n",
      "\u001b[1m134/134\u001b[0m \u001b[32m━━━━━━━━━━━━━━━━━━━━\u001b[0m\u001b[37m\u001b[0m \u001b[1m4s\u001b[0m 27ms/step - accuracy: 0.8725 - loss: 0.3561 - val_accuracy: 0.7955 - val_loss: 0.4767\n",
      "Epoch 34/50\n",
      "\u001b[1m134/134\u001b[0m \u001b[32m━━━━━━━━━━━━━━━━━━━━\u001b[0m\u001b[37m\u001b[0m \u001b[1m4s\u001b[0m 27ms/step - accuracy: 0.8819 - loss: 0.3394 - val_accuracy: 0.7720 - val_loss: 0.4923\n",
      "Epoch 35/50\n",
      "\u001b[1m134/134\u001b[0m \u001b[32m━━━━━━━━━━━━━━━━━━━━\u001b[0m\u001b[37m\u001b[0m \u001b[1m4s\u001b[0m 27ms/step - accuracy: 0.8811 - loss: 0.3286 - val_accuracy: 0.7786 - val_loss: 0.4840\n",
      "Epoch 36/50\n",
      "\u001b[1m134/134\u001b[0m \u001b[32m━━━━━━━━━━━━━━━━━━━━\u001b[0m\u001b[37m\u001b[0m \u001b[1m4s\u001b[0m 27ms/step - accuracy: 0.8938 - loss: 0.3193 - val_accuracy: 0.7880 - val_loss: 0.4872\n",
      "Epoch 37/50\n",
      "\u001b[1m134/134\u001b[0m \u001b[32m━━━━━━━━━━━━━━━━━━━━\u001b[0m\u001b[37m\u001b[0m \u001b[1m4s\u001b[0m 27ms/step - accuracy: 0.8995 - loss: 0.3086 - val_accuracy: 0.7908 - val_loss: 0.4872\n",
      "Epoch 37: early stopping\n",
      "Restoring model weights from the end of the best epoch: 27.\n"
     ]
    }
   ],
   "source": [
    "# Setup early stopping to stop training when validation loss stops improving\n",
    "early_stopping = EarlyStopping(\n",
    "    monitor='val_loss',  # Monitor validation loss\n",
    "    patience=10,  # How many epochs to wait after min has been hit\n",
    "    verbose=1,  # Verbosity level\n",
    "    mode='min',  # Mode for the monitored quantity (minimizing loss)\n",
    "    restore_best_weights=True  # Restore model weights from the epoch with the best value of the monitored quantity\n",
    ")\n",
    "\n",
    "# Train model\n",
    "history = model.fit(padded_sequences_train, \n",
    "                    y_train,\n",
    "                    epochs=50,  # Number of epochs to train\n",
    "                    batch_size=64,\n",
    "                    validation_data=(padded_sequences_val, y_val),\n",
    "                    callbacks=[early_stopping])\n",
    "\n",
    "# Save the model with accuracy in name\n",
    "best_val_acc = max(history.history['val_accuracy'])\n",
    "model_dir = f'models/lstm_word2vec_val_acc_{best_val_acc:.4f}.keras'\n",
    "model.save(model_dir)\n",
    "print(f\"Model saved to: {model_dir}\")"
   ]
  },
  {
   "cell_type": "markdown",
   "id": "ff2ff4f4",
   "metadata": {},
   "source": [
    "#### Visualization of the training process"
   ]
  },
  {
   "cell_type": "code",
   "execution_count": 91,
   "id": "f501b322",
   "metadata": {},
   "outputs": [
    {
     "data": {
      "image/png": "[encoded data removed]",
      "text/plain": [
       "<Figure size 1200x400 with 2 Axes>"
      ]
     },
     "metadata": {},
     "output_type": "display_data"
    }
   ],
   "source": [
    "# Plot training history\n",
    "plt.figure(figsize=(12, 4))\n",
    "\n",
    "plt.subplot(1, 2, 1)\n",
    "plt.plot(history.history['accuracy'])\n",
    "plt.plot(history.history['val_accuracy'])\n",
    "plt.title('Model Accuracy')\n",
    "plt.ylabel('Accuracy')\n",
    "plt.xlabel('Epoch')\n",
    "plt.legend(['Train', 'Validation'], loc='upper left')\n",
    "\n",
    "plt.subplot(1, 2, 2)\n",
    "plt.plot(history.history['loss'])\n",
    "plt.plot(history.history['val_loss'])\n",
    "plt.title('Model Loss')\n",
    "plt.ylabel('Loss')\n",
    "plt.xlabel('Epoch')\n",
    "plt.legend(['Train', 'Validation'], loc='upper left')\n",
    "\n",
    "plt.tight_layout()\n",
    "plt.show()"
   ]
  },
  {
   "cell_type": "markdown",
   "id": "ebab5f0e",
   "metadata": {},
   "source": [
    "Clearly, the model starts overfitting the training set after just a few epochs."
   ]
  },
  {
   "cell_type": "markdown",
   "id": "0380d605",
   "metadata": {},
   "source": [
    "#### Evaluation of the model and comparison"
   ]
  },
  {
   "cell_type": "code",
   "execution_count": 94,
   "id": "fd79a3e4",
   "metadata": {},
   "outputs": [
    {
     "name": "stdout",
     "output_type": "stream",
     "text": [
      "\u001b[1m34/34\u001b[0m \u001b[32m━━━━━━━━━━━━━━━━━━━━\u001b[0m\u001b[37m\u001b[0m \u001b[1m0s\u001b[0m 6ms/step\n",
      "Metrics calculated for: LSTM - Word2Vec\n"
     ]
    },
    {
     "data": {
      "image/png": "[encoded data removed]",
      "text/plain": [
       "<Figure size 1200x1000 with 4 Axes>"
      ]
     },
     "metadata": {},
     "output_type": "display_data"
    }
   ],
   "source": [
    "# Evaluate on test set\n",
    "sequences_test = tokenizer.texts_to_sequences(df_test['text'].values)\n",
    "padded_sequences_test = pad_sequences(sequences_test, maxlen=max_length,\n",
    "                                 padding='post', truncating='post')\n",
    "y_test = df_test['label'].values\n",
    "\n",
    "test_preds_proba = model.predict(padded_sequences_test)\n",
    "test_preds = (test_preds_proba > 0.5).astype(int).flatten()\n",
    "\n",
    "# Compute metrics and compare with previous models\n",
    "metrics_test.run(\n",
    "    y_true=y_test,\n",
    "    y_pred=test_preds,\n",
    "    method_name=\"LSTM - Word2Vec\",\n",
    "    average=metric_avg\n",
    ")\n",
    "metrics_test.plot()"
   ]
  },
  {
   "cell_type": "markdown",
   "id": "16df77cc",
   "metadata": {},
   "source": [
    "### b. Discuss any notable differences in results.\n",
    "\n",
    "(1 point)"
   ]
  },
  {
   "cell_type": "markdown",
   "id": "e42b3fb8",
   "metadata": {},
   "source": [
    "In this case, the performance has been evaluated on the test set (as the validation set has been used for validation in the training stage). As shown in the plot above (and compared to the plot at the end of section 2.4), it can be observed that performance is improved compared to the logistic regression with the mean of the embeddings. This denotes that the bi-directional LSTM is more capable to capture the intricacies of the text data, which can be probably attributed to the fact that it is capable to capture better word sequences (which was not considered before with logistic regression).\n",
    "\n",
    "Nevertheless, the performance has only marginally improved (it is not a big leap compared to the models of part 2). Again, a possible reason for this is that the context is not captured dynamically in each review passed to the model. "
   ]
  },
  {
   "cell_type": "markdown",
   "id": "6c656ef3",
   "metadata": {},
   "source": [
    "## 3.2. Word2Vec Vectors Analysis \n",
    "\n",
    "(1 point for each section)"
   ]
  },
  {
   "cell_type": "markdown",
   "id": "22022d7b",
   "metadata": {},
   "source": [
    "### a. Before and After Fine-Tuning\n",
    "\n",
    "(1 point): Examine the evolution of word vectors by comparing them before and after fine-tuning on the movie review dataset. Provide insights into the changes observed.\n",
    "\n",
    "Again, we need to train the LSTM, but this time allowing for changes in the weights of the Word2Vec embeddings."
   ]
  },
  {
   "cell_type": "markdown",
   "id": "15cf7bd6",
   "metadata": {},
   "source": [
    "#### Create a model with trainable embeddings"
   ]
  },
  {
   "cell_type": "code",
   "execution_count": 97,
   "id": "49adcae1",
   "metadata": {},
   "outputs": [],
   "source": [
    "# First, we save a copy of the original pre-trained embeddings\n",
    "original_embeddings = embedding_matrix.copy()\n",
    "\n",
    "# Create a new model with trainable embeddings\n",
    "model_tuned = Sequential()\n",
    "model_tuned.add(Embedding(len(word_index) + 1,  \n",
    "                        word_vector_dim,\n",
    "                        weights=[embedding_matrix],  \n",
    "                        trainable=True))  # Set to True to enable fine-tuning\n",
    "\n",
    "# Add LSTM layer(s) - same as before\n",
    "model_tuned.add(Bidirectional(LSTM(\n",
    "    64,\n",
    "    return_sequences=True,\n",
    "    dropout=0.2,\n",
    "    recurrent_dropout=0.2,\n",
    "    activity_regularizer=l2(0.01)\n",
    ")))\n",
    "\n",
    "# Flatten layer\n",
    "model_tuned.add(Flatten())\n",
    "model_tuned.add(Dropout(0.2))\n",
    "\n",
    "# Output layer\n",
    "model_tuned.add(Dense(1, activation='sigmoid'))\n",
    "\n",
    "# Compile model\n",
    "model_tuned.compile(loss='binary_crossentropy',\n",
    "                  optimizer='adam',\n",
    "                  metrics=['accuracy'])"
   ]
  },
  {
   "cell_type": "markdown",
   "id": "4e8b812b",
   "metadata": {},
   "source": [
    "#### Train the model with fine-tuning"
   ]
  },
  {
   "cell_type": "code",
   "execution_count": null,
   "id": "e16668c9",
   "metadata": {},
   "outputs": [
    {
     "name": "stdout",
     "output_type": "stream",
     "text": [
      "Epoch 1/50\n",
      "\u001b[1m134/134\u001b[0m \u001b[32m━━━━━━━━━━━━━━━━━━━━\u001b[0m\u001b[37m\u001b[0m \u001b[1m10s\u001b[0m 49ms/step - accuracy: 0.5885 - loss: 4.0722 - val_accuracy: 0.7101 - val_loss: 0.8273\n",
      "Epoch 2/50\n",
      "\u001b[1m134/134\u001b[0m \u001b[32m━━━━━━━━━━━━━━━━━━━━\u001b[0m\u001b[37m\u001b[0m \u001b[1m6s\u001b[0m 46ms/step - accuracy: 0.7239 - loss: 0.8848 - val_accuracy: 0.7233 - val_loss: 0.7163\n",
      "Epoch 3/50\n",
      "\u001b[1m134/134\u001b[0m \u001b[32m━━━━━━━━━━━━━━━━━━━━\u001b[0m\u001b[37m\u001b[0m \u001b[1m6s\u001b[0m 46ms/step - accuracy: 0.7882 - loss: 0.7314 - val_accuracy: 0.7552 - val_loss: 0.6530\n",
      "Epoch 4/50\n",
      "\u001b[1m134/134\u001b[0m \u001b[32m━━━━━━━━━━━━━━━━━━━━\u001b[0m\u001b[37m\u001b[0m \u001b[1m6s\u001b[0m 46ms/step - accuracy: 0.8527 - loss: 0.6036 - val_accuracy: 0.7420 - val_loss: 0.6758\n",
      "Epoch 5/50\n",
      "\u001b[1m134/134\u001b[0m \u001b[32m━━━━━━━━━━━━━━━━━━━━\u001b[0m\u001b[37m\u001b[0m \u001b[1m6s\u001b[0m 46ms/step - accuracy: 0.9233 - loss: 0.4395 - val_accuracy: 0.7552 - val_loss: 0.5901\n",
      "Epoch 6/50\n",
      "\u001b[1m134/134\u001b[0m \u001b[32m━━━━━━━━━━━━━━━━━━━━\u001b[0m\u001b[37m\u001b[0m \u001b[1m6s\u001b[0m 46ms/step - accuracy: 0.9639 - loss: 0.3121 - val_accuracy: 0.7486 - val_loss: 0.6070\n",
      "Epoch 7/50\n",
      "\u001b[1m134/134\u001b[0m \u001b[32m━━━━━━━━━━━━━━━━━━━━\u001b[0m\u001b[37m\u001b[0m \u001b[1m6s\u001b[0m 46ms/step - accuracy: 0.9789 - loss: 0.2394 - val_accuracy: 0.7467 - val_loss: 0.6144\n",
      "Epoch 8/50\n",
      "\u001b[1m134/134\u001b[0m \u001b[32m━━━━━━━━━━━━━━━━━━━━\u001b[0m\u001b[37m\u001b[0m \u001b[1m6s\u001b[0m 47ms/step - accuracy: 0.9875 - loss: 0.1922 - val_accuracy: 0.7083 - val_loss: 0.7760\n",
      "Epoch 9/50\n",
      "\u001b[1m134/134\u001b[0m \u001b[32m━━━━━━━━━━━━━━━━━━━━\u001b[0m\u001b[37m\u001b[0m \u001b[1m6s\u001b[0m 46ms/step - accuracy: 0.9866 - loss: 0.1788 - val_accuracy: 0.7392 - val_loss: 0.6482\n",
      "Epoch 10/50\n",
      "\u001b[1m134/134\u001b[0m \u001b[32m━━━━━━━━━━━━━━━━━━━━\u001b[0m\u001b[37m\u001b[0m \u001b[1m6s\u001b[0m 46ms/step - accuracy: 0.9923 - loss: 0.1423 - val_accuracy: 0.7355 - val_loss: 0.6724\n",
      "Epoch 11/50\n",
      "\u001b[1m134/134\u001b[0m \u001b[32m━━━━━━━━━━━━━━━━━━━━\u001b[0m\u001b[37m\u001b[0m \u001b[1m6s\u001b[0m 46ms/step - accuracy: 0.9942 - loss: 0.1299 - val_accuracy: 0.7355 - val_loss: 0.7016\n",
      "Epoch 12/50\n",
      "\u001b[1m134/134\u001b[0m \u001b[32m━━━━━━━━━━━━━━━━━━━━\u001b[0m\u001b[37m\u001b[0m \u001b[1m6s\u001b[0m 46ms/step - accuracy: 0.9938 - loss: 0.1192 - val_accuracy: 0.7355 - val_loss: 0.7123\n",
      "Epoch 13/50\n",
      "\u001b[1m134/134\u001b[0m \u001b[32m━━━━━━━━━━━━━━━━━━━━\u001b[0m\u001b[37m\u001b[0m \u001b[1m6s\u001b[0m 47ms/step - accuracy: 0.9967 - loss: 0.1047 - val_accuracy: 0.7308 - val_loss: 0.7390\n",
      "Epoch 14/50\n",
      "\u001b[1m134/134\u001b[0m \u001b[32m━━━━━━━━━━━━━━━━━━━━\u001b[0m\u001b[37m\u001b[0m \u001b[1m6s\u001b[0m 46ms/step - accuracy: 0.9975 - loss: 0.0944 - val_accuracy: 0.7223 - val_loss: 0.7679\n",
      "Epoch 15/50\n",
      "\u001b[1m134/134\u001b[0m \u001b[32m━━━━━━━━━━━━━━━━━━━━\u001b[0m\u001b[37m\u001b[0m \u001b[1m6s\u001b[0m 46ms/step - accuracy: 0.9985 - loss: 0.0872 - val_accuracy: 0.7251 - val_loss: 0.7574\n",
      "Epoch 15: early stopping\n",
      "Restoring model weights from the end of the best epoch: 5.\n",
      "Model saved to: models/lstm_word2vec_val_acc_0.7955.keras\n"
     ]
    }
   ],
   "source": [
    "# Train with early stopping\n",
    "history_tuned = model_tuned.fit(\n",
    "    padded_sequences_train,\n",
    "    y_train,\n",
    "    epochs=50,\n",
    "    batch_size=64,\n",
    "    validation_data=(padded_sequences_val, y_val),\n",
    "    callbacks=[early_stopping]\n",
    ")\n",
    "\n",
    "# Save the model with accuracy in name\n",
    "best_val_acc = max(history_tuned.history['val_accuracy'])\n",
    "model_tuned_dir = f'models/lstm_word2vec_tuned_val_acc_{best_val_acc:.4f}.keras'\n",
    "model_tuned.save(model_tuned_dir)\n",
    "print(f\"Model saved to: {model_tuned_dir}\")"
   ]
  },
  {
   "cell_type": "markdown",
   "id": "3350ded6",
   "metadata": {},
   "source": [
    "#### Extract and compare the embeddings"
   ]
  },
  {
   "cell_type": "code",
   "execution_count": 103,
   "id": "c8f02031",
   "metadata": {},
   "outputs": [
    {
     "name": "stdout",
     "output_type": "stream",
     "text": [
      "Comparing original vs fine-tuned embeddings:\n",
      "--------------------------------------------------\n",
      "Word: 'good'\n",
      "  Cosine similarity: 0.9474\n",
      "  Vector distance: 0.7183\n",
      "  Change magnitude: 0.3202\n",
      "------------------------------\n",
      "Word: 'great'\n",
      "  Cosine similarity: 0.9659\n",
      "  Vector distance: 0.6100\n",
      "  Change magnitude: 0.2601\n",
      "------------------------------\n",
      "Word: 'excellent'\n",
      "  Cosine similarity: 0.9796\n",
      "  Vector distance: 0.5156\n",
      "  Change magnitude: 0.2008\n",
      "------------------------------\n",
      "Word: 'bad'\n",
      "  Cosine similarity: 0.9452\n",
      "  Vector distance: 0.8229\n",
      "  Change magnitude: 0.3268\n",
      "------------------------------\n",
      "Word: 'terrible'\n",
      "  Cosine similarity: 0.9743\n",
      "  Vector distance: 0.5918\n",
      "  Change magnitude: 0.2327\n",
      "------------------------------\n",
      "Word: 'movie'\n",
      "  Cosine similarity: 0.9540\n",
      "  Vector distance: 0.8033\n",
      "  Change magnitude: 0.3013\n",
      "------------------------------\n",
      "Word: 'film'\n",
      "  Cosine similarity: 0.9414\n",
      "  Vector distance: 0.8935\n",
      "  Change magnitude: 0.3379\n",
      "------------------------------\n",
      "Word: 'actor'\n",
      "  Cosine similarity: 0.9825\n",
      "  Vector distance: 0.5667\n",
      "  Change magnitude: 0.1866\n",
      "------------------------------\n",
      "Word: 'boring'\n",
      "  Cosine similarity: 0.9591\n",
      "  Vector distance: 0.8142\n",
      "  Change magnitude: 0.2862\n",
      "------------------------------\n"
     ]
    }
   ],
   "source": [
    "# Extract the fine-tuned embeddings from the model\n",
    "tuned_embedding_layer = model_tuned.layers[0]\n",
    "tuned_embeddings = tuned_embedding_layer.get_weights()[0]\n",
    "\n",
    "# Select some interesting words to compare (sentiment-related vocabulary)\n",
    "words_to_analyze = ['good', 'great', 'excellent', 'bad', 'terrible', 'movie', 'film', 'actor', 'boring']\n",
    "\n",
    "print(\"Comparing original vs fine-tuned embeddings:\")\n",
    "print(\"-\" * 50)\n",
    "\n",
    "for word in words_to_analyze:\n",
    "    if word in tokenizer.word_index:\n",
    "        idx = tokenizer.word_index[word]\n",
    "        if idx < vocab_size:\n",
    "            # Calculate cosine similarity between original and tuned vectors\n",
    "            orig_vec = original_embeddings[idx]\n",
    "            tuned_vec = tuned_embeddings[idx]\n",
    "            \n",
    "            # Normalize vectors\n",
    "            orig_norm = np.linalg.norm(orig_vec)\n",
    "            tuned_norm = np.linalg.norm(tuned_vec)\n",
    "            \n",
    "            if orig_norm > 0 and tuned_norm > 0:\n",
    "                # Calculate cosine similarity\n",
    "                similarity = np.dot(orig_vec, tuned_vec) / (orig_norm * tuned_norm)\n",
    "                \n",
    "                # Calculate Euclidean distance\n",
    "                distance = np.linalg.norm(orig_vec - tuned_vec)\n",
    "                \n",
    "                print(f\"Word: '{word}'\")\n",
    "                print(f\"  Cosine similarity: {similarity:.4f}\")\n",
    "                print(f\"  Vector distance: {distance:.4f}\")\n",
    "                print(f\"  Change magnitude: {distance/orig_norm:.4f}\")\n",
    "                print(\"-\" * 30)"
   ]
  },
  {
   "cell_type": "markdown",
   "id": "166edcc7",
   "metadata": {},
   "source": [
    "### b. Visualization and Commentary\n",
    "\n",
    "(1 point): Visualize the embeddings of select words before and after fine-tuning using a tool like t-SNE or PCA. Comment on any patterns or shifts in word associations."
   ]
  }
 ],
 "metadata": {
  "kernelspec": {
   "display_name": "bse-nlp-y6-47KiC-py3.12",
   "language": "python",
   "name": "python3"
  },
  "language_info": {
   "codemirror_mode": {
    "name": "ipython",
    "version": 3
   },
   "file_extension": ".py",
   "mimetype": "text/x-python",
   "name": "python",
   "nbconvert_exporter": "python",
   "pygments_lexer": "ipython3",
   "version": "3.12.9"
  }
 },
 "nbformat": 4,
 "nbformat_minor": 5
}
